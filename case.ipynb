{
 "cells": [
  {
   "cell_type": "markdown",
   "id": "7cbe683b",
   "metadata": {},
   "source": [
    "## Etapa 1 – Exploração de Dados  \n",
    "*Case TelecomPlus – Previsão de Churn*\n",
    "\n",
    "> **Objetivo desta etapa:** entender a estrutura dos dados, detectar padrões iniciais e possíveis inconsistências antes de qualquer pré-processamento ou modelagem."
   ]
  },
  {
   "cell_type": "markdown",
   "id": "0f667347",
   "metadata": {},
   "source": [
    "### 1.1. Imports & carregamento dos CSVs\n",
    "Carrega as bibliotecas essenciais (pandas, numpy, matplotlib, seaborn) e lê\n",
    "os arquivos **dados_clientes.csv** (treino) e **desafio.csv** (teste).\n",
    "Também imprime dimensões iniciais para conferência rápida."
   ]
  },
  {
   "cell_type": "code",
   "execution_count": 89,
   "id": "d523d010",
   "metadata": {},
   "outputs": [
    {
     "name": "stdout",
     "output_type": "stream",
     "text": [
      "Train shape : (98872, 18)\n",
      "Test  shape : (5000, 17)\n"
     ]
    }
   ],
   "source": [
    "import pandas as pd\n",
    "import numpy as np\n",
    "import matplotlib.pyplot as plt\n",
    "import seaborn as sns\n",
    "\n",
    "# Ajuste os caminhos se necessário\n",
    "df_train = pd.read_csv('dados_clientes.csv')\n",
    "df_test  = pd.read_csv('desafio.csv')\n",
    "\n",
    "print(f'Train shape : {df_train.shape}')\n",
    "print(f'Test  shape : {df_test.shape}')"
   ]
  },
  {
   "cell_type": "markdown",
   "id": "e5771572",
   "metadata": {},
   "source": [
    "### 1.2. Visão geral de tipos\n",
    "Mostra informações de tipos de dados, contagem de não-nulos e uso de memória.\n",
    "Isso ajuda a identificar colunas mal tipadas e possíveis casts."
   ]
  },
  {
   "cell_type": "code",
   "execution_count": 90,
   "id": "f2e16056",
   "metadata": {},
   "outputs": [
    {
     "name": "stdout",
     "output_type": "stream",
     "text": [
      "\n",
      "=== df_train.info() ===\n",
      "<class 'pandas.core.frame.DataFrame'>\n",
      "RangeIndex: 98872 entries, 0 to 98871\n",
      "Data columns (total 18 columns):\n",
      " #   Column                   Non-Null Count  Dtype  \n",
      "---  ------                   --------------  -----  \n",
      " 0   id_cliente               98872 non-null  object \n",
      " 1   idade                    98872 non-null  int64  \n",
      " 2   genero                   98872 non-null  object \n",
      " 3   estado_civil             98872 non-null  object \n",
      " 4   tempo_como_cliente       98872 non-null  int64  \n",
      " 5   tipo_contrato            98872 non-null  object \n",
      " 6   forma_pagamento          98872 non-null  object \n",
      " 7   suporte_contatado        98872 non-null  int64  \n",
      " 8   chamados_abertos         98872 non-null  int64  \n",
      " 9   tempo_medio_atendimento  98872 non-null  float64\n",
      " 10  reclamacoes              98872 non-null  int64  \n",
      " 11  atrasos_pagamento        98872 non-null  int64  \n",
      " 12  renda_faixa              98872 non-null  object \n",
      " 13  servicos_assinados       98872 non-null  int64  \n",
      " 14  produtos_assinados       98872 non-null  object \n",
      " 15  valor_mensal             98872 non-null  float64\n",
      " 16  total_gasto              98872 non-null  float64\n",
      " 17  churn                    98872 non-null  int64  \n",
      "dtypes: float64(3), int64(8), object(7)\n",
      "memory usage: 13.6+ MB\n"
     ]
    }
   ],
   "source": [
    "print('\\n=== df_train.info() ===')\n",
    "df_train.info()"
   ]
  },
  {
   "cell_type": "markdown",
   "id": "2eca6867",
   "metadata": {},
   "source": [
    "### 1.3. Visualização de 5 primeiras linhas\n",
    "Exibe as cinco primeiras linhas para uma inspeção visual rápida dos valores e formatos (por exemplo, strings inesperadas, valores negativos etc.)."
   ]
  },
  {
   "cell_type": "code",
   "execution_count": 91,
   "id": "3964bd7f",
   "metadata": {},
   "outputs": [
    {
     "data": {
      "text/html": [
       "<div>\n",
       "<style scoped>\n",
       "    .dataframe tbody tr th:only-of-type {\n",
       "        vertical-align: middle;\n",
       "    }\n",
       "\n",
       "    .dataframe tbody tr th {\n",
       "        vertical-align: top;\n",
       "    }\n",
       "\n",
       "    .dataframe thead th {\n",
       "        text-align: right;\n",
       "    }\n",
       "</style>\n",
       "<table border=\"1\" class=\"dataframe\">\n",
       "  <thead>\n",
       "    <tr style=\"text-align: right;\">\n",
       "      <th></th>\n",
       "      <th>id_cliente</th>\n",
       "      <th>idade</th>\n",
       "      <th>genero</th>\n",
       "      <th>estado_civil</th>\n",
       "      <th>tempo_como_cliente</th>\n",
       "      <th>tipo_contrato</th>\n",
       "      <th>forma_pagamento</th>\n",
       "      <th>suporte_contatado</th>\n",
       "      <th>chamados_abertos</th>\n",
       "      <th>tempo_medio_atendimento</th>\n",
       "      <th>reclamacoes</th>\n",
       "      <th>atrasos_pagamento</th>\n",
       "      <th>renda_faixa</th>\n",
       "      <th>servicos_assinados</th>\n",
       "      <th>produtos_assinados</th>\n",
       "      <th>valor_mensal</th>\n",
       "      <th>total_gasto</th>\n",
       "      <th>churn</th>\n",
       "    </tr>\n",
       "  </thead>\n",
       "  <tbody>\n",
       "    <tr>\n",
       "      <th>0</th>\n",
       "      <td>c19f9c98-53b9-4332-bc13-5ef6140340bf</td>\n",
       "      <td>44</td>\n",
       "      <td>Feminino</td>\n",
       "      <td>Solteiro</td>\n",
       "      <td>53</td>\n",
       "      <td>Mensal</td>\n",
       "      <td>Cartão</td>\n",
       "      <td>3</td>\n",
       "      <td>0</td>\n",
       "      <td>27.13</td>\n",
       "      <td>0</td>\n",
       "      <td>1</td>\n",
       "      <td>5000-10000</td>\n",
       "      <td>1</td>\n",
       "      <td>['Produto B']</td>\n",
       "      <td>92.50</td>\n",
       "      <td>5008.27</td>\n",
       "      <td>0</td>\n",
       "    </tr>\n",
       "    <tr>\n",
       "      <th>1</th>\n",
       "      <td>31a56465-bba5-4d96-b469-e175557147b1</td>\n",
       "      <td>38</td>\n",
       "      <td>Masculino</td>\n",
       "      <td>Solteiro</td>\n",
       "      <td>108</td>\n",
       "      <td>Mensal</td>\n",
       "      <td>Cartão</td>\n",
       "      <td>0</td>\n",
       "      <td>0</td>\n",
       "      <td>25.33</td>\n",
       "      <td>1</td>\n",
       "      <td>2</td>\n",
       "      <td>10000-50000</td>\n",
       "      <td>2</td>\n",
       "      <td>['Produto A' 'Produto B']</td>\n",
       "      <td>154.26</td>\n",
       "      <td>17019.52</td>\n",
       "      <td>0</td>\n",
       "    </tr>\n",
       "    <tr>\n",
       "      <th>2</th>\n",
       "      <td>e35a2241-9ccd-4f48-9115-5fba0453f3c1</td>\n",
       "      <td>46</td>\n",
       "      <td>Feminino</td>\n",
       "      <td>Divorciado</td>\n",
       "      <td>56</td>\n",
       "      <td>Mensal</td>\n",
       "      <td>Boleto</td>\n",
       "      <td>0</td>\n",
       "      <td>1</td>\n",
       "      <td>27.43</td>\n",
       "      <td>2</td>\n",
       "      <td>3</td>\n",
       "      <td>1000-5000</td>\n",
       "      <td>1</td>\n",
       "      <td>['Produto E']</td>\n",
       "      <td>202.58</td>\n",
       "      <td>11589.24</td>\n",
       "      <td>0</td>\n",
       "    </tr>\n",
       "    <tr>\n",
       "      <th>3</th>\n",
       "      <td>db753c09-0ee7-4d19-907d-7407a9d9e45c</td>\n",
       "      <td>55</td>\n",
       "      <td>Feminino</td>\n",
       "      <td>Casado</td>\n",
       "      <td>110</td>\n",
       "      <td>Mensal</td>\n",
       "      <td>Cartão</td>\n",
       "      <td>1</td>\n",
       "      <td>2</td>\n",
       "      <td>11.50</td>\n",
       "      <td>2</td>\n",
       "      <td>3</td>\n",
       "      <td>5000-10000</td>\n",
       "      <td>1</td>\n",
       "      <td>['Produto F']</td>\n",
       "      <td>344.72</td>\n",
       "      <td>38737.30</td>\n",
       "      <td>0</td>\n",
       "    </tr>\n",
       "    <tr>\n",
       "      <th>4</th>\n",
       "      <td>d719f4aa-0bc2-4784-a5e6-dddaaf39b229</td>\n",
       "      <td>37</td>\n",
       "      <td>Masculino</td>\n",
       "      <td>Casado</td>\n",
       "      <td>17</td>\n",
       "      <td>Mensal</td>\n",
       "      <td>Boleto</td>\n",
       "      <td>2</td>\n",
       "      <td>2</td>\n",
       "      <td>21.42</td>\n",
       "      <td>0</td>\n",
       "      <td>2</td>\n",
       "      <td>5000-10000</td>\n",
       "      <td>5</td>\n",
       "      <td>['Produto C' 'Produto B' 'Produto D' 'Produto ...</td>\n",
       "      <td>871.10</td>\n",
       "      <td>15128.20</td>\n",
       "      <td>1</td>\n",
       "    </tr>\n",
       "  </tbody>\n",
       "</table>\n",
       "</div>"
      ],
      "text/plain": [
       "                             id_cliente  idade     genero estado_civil  \\\n",
       "0  c19f9c98-53b9-4332-bc13-5ef6140340bf     44   Feminino     Solteiro   \n",
       "1  31a56465-bba5-4d96-b469-e175557147b1     38  Masculino     Solteiro   \n",
       "2  e35a2241-9ccd-4f48-9115-5fba0453f3c1     46   Feminino   Divorciado   \n",
       "3  db753c09-0ee7-4d19-907d-7407a9d9e45c     55   Feminino       Casado   \n",
       "4  d719f4aa-0bc2-4784-a5e6-dddaaf39b229     37  Masculino       Casado   \n",
       "\n",
       "   tempo_como_cliente tipo_contrato forma_pagamento  suporte_contatado  \\\n",
       "0                  53        Mensal          Cartão                  3   \n",
       "1                 108        Mensal          Cartão                  0   \n",
       "2                  56        Mensal          Boleto                  0   \n",
       "3                 110        Mensal          Cartão                  1   \n",
       "4                  17        Mensal          Boleto                  2   \n",
       "\n",
       "   chamados_abertos  tempo_medio_atendimento  reclamacoes  atrasos_pagamento  \\\n",
       "0                 0                    27.13            0                  1   \n",
       "1                 0                    25.33            1                  2   \n",
       "2                 1                    27.43            2                  3   \n",
       "3                 2                    11.50            2                  3   \n",
       "4                 2                    21.42            0                  2   \n",
       "\n",
       "   renda_faixa  servicos_assinados  \\\n",
       "0   5000-10000                   1   \n",
       "1  10000-50000                   2   \n",
       "2    1000-5000                   1   \n",
       "3   5000-10000                   1   \n",
       "4   5000-10000                   5   \n",
       "\n",
       "                                  produtos_assinados  valor_mensal  \\\n",
       "0                                      ['Produto B']         92.50   \n",
       "1                          ['Produto A' 'Produto B']        154.26   \n",
       "2                                      ['Produto E']        202.58   \n",
       "3                                      ['Produto F']        344.72   \n",
       "4  ['Produto C' 'Produto B' 'Produto D' 'Produto ...        871.10   \n",
       "\n",
       "   total_gasto  churn  \n",
       "0      5008.27      0  \n",
       "1     17019.52      0  \n",
       "2     11589.24      0  \n",
       "3     38737.30      0  \n",
       "4     15128.20      1  "
      ]
     },
     "execution_count": 91,
     "metadata": {},
     "output_type": "execute_result"
    }
   ],
   "source": [
    "df_train.head()"
   ]
  },
  {
   "cell_type": "markdown",
   "id": "fc45fc8f",
   "metadata": {},
   "source": [
    "### Valores ausentes por coluna\n",
    "Calcula o total e a porcentagem de valores ausentes em cada coluna,\n",
    "ordenando da maior para a menor quantidade."
   ]
  },
  {
   "cell_type": "code",
   "execution_count": 92,
   "id": "f7288d08",
   "metadata": {},
   "outputs": [
    {
     "name": "stdout",
     "output_type": "stream",
     "text": [
      "\n",
      "=== Valores ausentes ===\n",
      "Empty DataFrame\n",
      "Columns: [faltantes, %]\n",
      "Index: []\n"
     ]
    }
   ],
   "source": [
    "missing = df_train.isna().sum().sort_values(ascending=False)\n",
    "missing_pct = (missing / len(df_train) * 100).round(2)\n",
    "missing_df = pd.DataFrame({'faltantes': missing, '%': missing_pct})\n",
    "print('\\n=== Valores ausentes ===')\n",
    "print(missing_df[missing_df['faltantes'] > 0])"
   ]
  },
  {
   "cell_type": "markdown",
   "id": "9c48b449",
   "metadata": {},
   "source": [
    "### Estatísticas descritivas numéricas\n",
    "Gera estatísticas de colunas numéricas (média, mediana, desvio, min/max)\n",
    "para detectar outliers e escalas muito diferentes."
   ]
  },
  {
   "cell_type": "code",
   "execution_count": 93,
   "id": "4fd34a73",
   "metadata": {},
   "outputs": [
    {
     "name": "stdout",
     "output_type": "stream",
     "text": [
      "\n",
      "=== describe() – variáveis numéricas ===\n"
     ]
    },
    {
     "data": {
      "text/html": [
       "<div>\n",
       "<style scoped>\n",
       "    .dataframe tbody tr th:only-of-type {\n",
       "        vertical-align: middle;\n",
       "    }\n",
       "\n",
       "    .dataframe tbody tr th {\n",
       "        vertical-align: top;\n",
       "    }\n",
       "\n",
       "    .dataframe thead th {\n",
       "        text-align: right;\n",
       "    }\n",
       "</style>\n",
       "<table border=\"1\" class=\"dataframe\">\n",
       "  <thead>\n",
       "    <tr style=\"text-align: right;\">\n",
       "      <th></th>\n",
       "      <th>count</th>\n",
       "      <th>mean</th>\n",
       "      <th>std</th>\n",
       "      <th>min</th>\n",
       "      <th>25%</th>\n",
       "      <th>50%</th>\n",
       "      <th>75%</th>\n",
       "      <th>max</th>\n",
       "    </tr>\n",
       "  </thead>\n",
       "  <tbody>\n",
       "    <tr>\n",
       "      <th>idade</th>\n",
       "      <td>98872.0</td>\n",
       "      <td>39.512228</td>\n",
       "      <td>10.011932</td>\n",
       "      <td>-4.0</td>\n",
       "      <td>33.0000</td>\n",
       "      <td>40.00</td>\n",
       "      <td>46.0000</td>\n",
       "      <td>84.00</td>\n",
       "    </tr>\n",
       "    <tr>\n",
       "      <th>tempo_como_cliente</th>\n",
       "      <td>98872.0</td>\n",
       "      <td>60.366868</td>\n",
       "      <td>34.714797</td>\n",
       "      <td>1.0</td>\n",
       "      <td>30.0000</td>\n",
       "      <td>60.00</td>\n",
       "      <td>91.0000</td>\n",
       "      <td>120.00</td>\n",
       "    </tr>\n",
       "    <tr>\n",
       "      <th>suporte_contatado</th>\n",
       "      <td>98872.0</td>\n",
       "      <td>2.001315</td>\n",
       "      <td>1.413176</td>\n",
       "      <td>0.0</td>\n",
       "      <td>1.0000</td>\n",
       "      <td>2.00</td>\n",
       "      <td>3.0000</td>\n",
       "      <td>10.00</td>\n",
       "    </tr>\n",
       "    <tr>\n",
       "      <th>chamados_abertos</th>\n",
       "      <td>98872.0</td>\n",
       "      <td>0.993911</td>\n",
       "      <td>0.995506</td>\n",
       "      <td>0.0</td>\n",
       "      <td>0.0000</td>\n",
       "      <td>1.00</td>\n",
       "      <td>2.0000</td>\n",
       "      <td>8.00</td>\n",
       "    </tr>\n",
       "    <tr>\n",
       "      <th>tempo_medio_atendimento</th>\n",
       "      <td>98872.0</td>\n",
       "      <td>17.554497</td>\n",
       "      <td>7.207768</td>\n",
       "      <td>5.0</td>\n",
       "      <td>11.3200</td>\n",
       "      <td>17.57</td>\n",
       "      <td>23.8100</td>\n",
       "      <td>30.00</td>\n",
       "    </tr>\n",
       "    <tr>\n",
       "      <th>reclamacoes</th>\n",
       "      <td>98872.0</td>\n",
       "      <td>0.500617</td>\n",
       "      <td>0.707253</td>\n",
       "      <td>0.0</td>\n",
       "      <td>0.0000</td>\n",
       "      <td>0.00</td>\n",
       "      <td>1.0000</td>\n",
       "      <td>5.00</td>\n",
       "    </tr>\n",
       "    <tr>\n",
       "      <th>atrasos_pagamento</th>\n",
       "      <td>98872.0</td>\n",
       "      <td>2.006210</td>\n",
       "      <td>1.412597</td>\n",
       "      <td>0.0</td>\n",
       "      <td>1.0000</td>\n",
       "      <td>2.00</td>\n",
       "      <td>3.0000</td>\n",
       "      <td>4.00</td>\n",
       "    </tr>\n",
       "    <tr>\n",
       "      <th>servicos_assinados</th>\n",
       "      <td>98872.0</td>\n",
       "      <td>2.566399</td>\n",
       "      <td>1.562001</td>\n",
       "      <td>0.0</td>\n",
       "      <td>1.0000</td>\n",
       "      <td>2.00</td>\n",
       "      <td>4.0000</td>\n",
       "      <td>6.00</td>\n",
       "    </tr>\n",
       "    <tr>\n",
       "      <th>valor_mensal</th>\n",
       "      <td>98872.0</td>\n",
       "      <td>427.770373</td>\n",
       "      <td>286.159677</td>\n",
       "      <td>0.0</td>\n",
       "      <td>210.6675</td>\n",
       "      <td>391.09</td>\n",
       "      <td>629.2325</td>\n",
       "      <td>1199.80</td>\n",
       "    </tr>\n",
       "    <tr>\n",
       "      <th>total_gasto</th>\n",
       "      <td>98872.0</td>\n",
       "      <td>26390.939257</td>\n",
       "      <td>25442.470904</td>\n",
       "      <td>0.0</td>\n",
       "      <td>6214.6350</td>\n",
       "      <td>19058.83</td>\n",
       "      <td>39222.4300</td>\n",
       "      <td>146078.27</td>\n",
       "    </tr>\n",
       "    <tr>\n",
       "      <th>churn</th>\n",
       "      <td>98872.0</td>\n",
       "      <td>0.336961</td>\n",
       "      <td>0.472674</td>\n",
       "      <td>0.0</td>\n",
       "      <td>0.0000</td>\n",
       "      <td>0.00</td>\n",
       "      <td>1.0000</td>\n",
       "      <td>1.00</td>\n",
       "    </tr>\n",
       "  </tbody>\n",
       "</table>\n",
       "</div>"
      ],
      "text/plain": [
       "                           count          mean           std  min        25%  \\\n",
       "idade                    98872.0     39.512228     10.011932 -4.0    33.0000   \n",
       "tempo_como_cliente       98872.0     60.366868     34.714797  1.0    30.0000   \n",
       "suporte_contatado        98872.0      2.001315      1.413176  0.0     1.0000   \n",
       "chamados_abertos         98872.0      0.993911      0.995506  0.0     0.0000   \n",
       "tempo_medio_atendimento  98872.0     17.554497      7.207768  5.0    11.3200   \n",
       "reclamacoes              98872.0      0.500617      0.707253  0.0     0.0000   \n",
       "atrasos_pagamento        98872.0      2.006210      1.412597  0.0     1.0000   \n",
       "servicos_assinados       98872.0      2.566399      1.562001  0.0     1.0000   \n",
       "valor_mensal             98872.0    427.770373    286.159677  0.0   210.6675   \n",
       "total_gasto              98872.0  26390.939257  25442.470904  0.0  6214.6350   \n",
       "churn                    98872.0      0.336961      0.472674  0.0     0.0000   \n",
       "\n",
       "                              50%         75%        max  \n",
       "idade                       40.00     46.0000      84.00  \n",
       "tempo_como_cliente          60.00     91.0000     120.00  \n",
       "suporte_contatado            2.00      3.0000      10.00  \n",
       "chamados_abertos             1.00      2.0000       8.00  \n",
       "tempo_medio_atendimento     17.57     23.8100      30.00  \n",
       "reclamacoes                  0.00      1.0000       5.00  \n",
       "atrasos_pagamento            2.00      3.0000       4.00  \n",
       "servicos_assinados           2.00      4.0000       6.00  \n",
       "valor_mensal               391.09    629.2325    1199.80  \n",
       "total_gasto              19058.83  39222.4300  146078.27  \n",
       "churn                        0.00      1.0000       1.00  "
      ]
     },
     "execution_count": 93,
     "metadata": {},
     "output_type": "execute_result"
    }
   ],
   "source": [
    "print('\\n=== describe() – variáveis numéricas ===')\n",
    "df_train.describe().T"
   ]
  },
  {
   "cell_type": "markdown",
   "id": "d147caa8",
   "metadata": {},
   "source": [
    "### 1.4. Distribuição da variável-alvo (churn)\n",
    "Calcula e plota a distribuição relativa da variável-alvo `churn`\n",
    "para verificar desbalanceamento de classes."
   ]
  },
  {
   "cell_type": "code",
   "execution_count": 94,
   "id": "d2beff6a",
   "metadata": {},
   "outputs": [
    {
     "name": "stdout",
     "output_type": "stream",
     "text": [
      "\n",
      "Distribuição % de churn:\n",
      "churn\n",
      "0    66.3\n",
      "1    33.7\n",
      "Name: proportion, dtype: float64\n"
     ]
    },
    {
     "data": {
      "image/png": "[encoded data removed]",
      "text/plain": [
       "<Figure size 640x480 with 1 Axes>"
      ]
     },
     "metadata": {},
     "output_type": "display_data"
    }
   ],
   "source": [
    "target_col = 'churn'\n",
    "churn_counts = df_train[target_col].value_counts(normalize=True).sort_index() * 100\n",
    "print('\\nDistribuição % de churn:')\n",
    "print(churn_counts.round(2))\n",
    "\n",
    "sns.barplot(x=churn_counts.index, y=churn_counts.values)\n",
    "plt.title('Distribuição da variável alvo (churn)')\n",
    "plt.ylabel('%')\n",
    "plt.xlabel('Churn (0 = permanece, 1 = cancela)')\n",
    "plt.show()"
   ]
  },
  {
   "cell_type": "markdown",
   "id": "30b9947b",
   "metadata": {},
   "source": [
    "### 1.5. Detecção de valores duplicados\n",
    "Verifica se há linhas duplicadas pelo identificador `id_cliente`.\n",
    "Essas duplicatas podem afetar a qualidade do modelo se não forem tratadas."
   ]
  },
  {
   "cell_type": "code",
   "execution_count": 95,
   "id": "f23743dd",
   "metadata": {},
   "outputs": [
    {
     "name": "stdout",
     "output_type": "stream",
     "text": [
      "\n",
      "Linhas duplicadas por id_cliente: 0\n"
     ]
    }
   ],
   "source": [
    "dup = df_train['id_cliente'].duplicated().sum()\n",
    "print(f'\\nLinhas duplicadas por id_cliente: {dup}')"
   ]
  },
  {
   "cell_type": "markdown",
   "id": "5a3d0c08",
   "metadata": {},
   "source": [
    "### 1.6. Correlação entre variáveis numéricas e churn\n",
    "Calcula a correlação de Pearson das variáveis numéricas com `churn`\n",
    "para apontar possíveis variáveis preditivas relevantes."
   ]
  },
  {
   "cell_type": "code",
   "execution_count": 96,
   "id": "9a93fcb9",
   "metadata": {},
   "outputs": [
    {
     "name": "stdout",
     "output_type": "stream",
     "text": [
      "\n",
      "Correlação numéricas vs churn:\n",
      "churn                      1.000000\n",
      "atrasos_pagamento          0.060245\n",
      "suporte_contatado          0.052151\n",
      "reclamacoes                0.029179\n",
      "chamados_abertos           0.021126\n",
      "tempo_medio_atendimento   -0.000272\n",
      "idade                     -0.003433\n",
      "valor_mensal              -0.007295\n",
      "servicos_assinados        -0.008249\n",
      "total_gasto               -0.198443\n",
      "tempo_como_cliente        -0.327560\n",
      "Name: churn, dtype: float64\n"
     ]
    },
    {
     "data": {
      "image/png": "[encoded data removed]",
      "text/plain": [
       "<Figure size 800x500 with 1 Axes>"
      ]
     },
     "metadata": {},
     "output_type": "display_data"
    }
   ],
   "source": [
    "numeric_cols = df_train.select_dtypes(include=['int64', 'float64']).columns.drop('churn')\n",
    "corr = df_train[numeric_cols.tolist() + ['churn']].corr()['churn'].sort_values(ascending=False)\n",
    "print('\\nCorrelação numéricas vs churn:')\n",
    "print(corr)\n",
    "\n",
    "plt.figure(figsize=(8,5))\n",
    "sns.barplot(y=corr.index, x=corr.values, orient='h')\n",
    "plt.title('Correlação de Pearson com churn')\n",
    "plt.xlabel('Coeficiente')\n",
    "plt.show()"
   ]
  },
  {
   "cell_type": "markdown",
   "id": "b3b46097",
   "metadata": {},
   "source": [
    "### Conclusão\n",
    "\n",
    "1.\tDimensões\n",
    "-\tTreino: 98872 × 18   |   Teste: 5000 × 17\n",
    "\n",
    "2.\tAusentes & Duplicados\n",
    "-\tNenhum valor ausente em nenhuma coluna.\n",
    "-\tid_cliente é único (0 duplicatas).\n",
    "\n",
    "3.\tQualidade dos dados\n",
    "-\tColuna idade possui valores negativos (min = –4). Esses registros serão tratados na próxima etapa (transformados em NaN e imputados).\n",
    "-\tDemais variáveis numéricas estão em faixas coerentes.\n",
    "\n",
    "4.\tBalanceamento da variável-alvo\n",
    "-\tChurn = 0 (permanece): 66,3 %\n",
    "-\tChurn = 1 (cancela): 33,7 %\n",
    "-\tHá moderado desbalanceamento, mas longe de extremo. Ajustes como class_weight podem ser avaliados depois.\n",
    "\n",
    "5. Sinais iniciais (correlações)\n",
    "\n",
    "- Variavel x Correlação | p(churn)\n",
    "> - tempo_como_cliente (−) | −0,33\n",
    "> - total_gasto (−) | −0,20\n",
    "> - atrasos_pagamento (+) |\t+0,06\n",
    "> - suporte_contatado (+) |\t+0,05\n",
    "\n",
    "- **Clientes mais novos, com baixo gasto acumulado e mais atrasos têm maior propensão a cancelar.**\n"
   ]
  },
  {
   "cell_type": "markdown",
   "id": "30268703",
   "metadata": {},
   "source": [
    "## Etapa 2 – Pré-processamento\n",
    "\n",
    "> **Objetivo desta etapa:** Criar uma pipeline que trate inconsistências, faça imputação e transforme os dados em formato pronto para modelagem."
   ]
  },
  {
   "cell_type": "markdown",
   "id": "d055c8cd",
   "metadata": {},
   "source": [
    "### 2.1. Limpeza inicial — remoção de idades negativas  \n",
    "\n",
    "Elimina linhas com `idade` < 0 em treino e teste."
   ]
  },
  {
   "cell_type": "code",
   "execution_count": 97,
   "id": "c58f0ec4",
   "metadata": {},
   "outputs": [
    {
     "name": "stdout",
     "output_type": "stream",
     "text": [
      "Registros removidos — treino: 4 | teste: 0\n"
     ]
    }
   ],
   "source": [
    "neg_train = (df_train['idade'] < 0).sum()\n",
    "neg_test  = (df_test['idade']  < 0).sum()\n",
    "print(f'Registros removidos — treino: {neg_train} | teste: {neg_test}')\n",
    "\n",
    "df_train = df_train[df_train['idade'] >= 0].reset_index(drop=True)\n",
    "df_test  = df_test[df_test['idade']   >= 0].reset_index(drop=True)"
   ]
  },
  {
   "cell_type": "markdown",
   "id": "1f32638c",
   "metadata": {},
   "source": [
    "### 2.2. Engenharia de features — coluna `produtos_assinados`  \n",
    "\n",
    "1. Converte a string para lista real  \n",
    "2. Cria `num_produtos` (quantidade)  \n",
    "3. Cria flags booleanas para os **6** itens mais frequentes  \n",
    "4. Descarta a coluna original para evitar multiplas features"
   ]
  },
  {
   "cell_type": "code",
   "execution_count": 98,
   "id": "dbffb620",
   "metadata": {},
   "outputs": [
    {
     "name": "stdout",
     "output_type": "stream",
     "text": [
      "Top-6 produtos: ['Produto B', 'Produto C', 'Produto E', 'Produto D', 'Produto F', 'Produto A']\n"
     ]
    }
   ],
   "source": [
    "import ast\n",
    "from collections import Counter\n",
    "import itertools\n",
    "\n",
    "def expand_products(df):\n",
    "    # Converte string para list\n",
    "    df = df.copy()\n",
    "    df['prod_list'] = df['produtos_assinados'].apply(ast.literal_eval)\n",
    "\n",
    "    # Quantidade de produtos\n",
    "    df['num_produtos'] = df['prod_list'].apply(len)\n",
    "\n",
    "    # Top-6 produtos mais comuns no treino\n",
    "    return df\n",
    "\n",
    "# treino\n",
    "df_train = expand_products(df_train)\n",
    "all_products = list(itertools.chain.from_iterable(df_train['prod_list']))\n",
    "top6 = [p for p, _ in Counter(all_products).most_common(6)]\n",
    "print('Top-6 produtos:', top6)\n",
    "\n",
    "for p in top6:\n",
    "    col = f'has_{p.split()[-1].lower()}'   # Produto A para has_a\n",
    "    df_train[col] = df_train['prod_list'].apply(lambda lst: p in lst)\n",
    "\n",
    "# teste\n",
    "df_test = expand_products(df_test)\n",
    "for p in top6:\n",
    "    col = f'has_{p.split()[-1].lower()}'\n",
    "    df_test[col] = df_test['prod_list'].apply(lambda lst: p in lst)\n",
    "\n",
    "# Remove colunas auxiliares\n",
    "df_train = df_train.drop(columns=['produtos_assinados', 'prod_list'])\n",
    "df_test  = df_test.drop(columns=['produtos_assinados', 'prod_list'])"
   ]
  },
  {
   "cell_type": "markdown",
   "id": "524f8db6",
   "metadata": {},
   "source": [
    "### 2.3. Definição de variáveis de entrada  \n",
    "\n",
    "Separa identificador, alvo e listas finais de features numéricas e categóricas."
   ]
  },
  {
   "cell_type": "code",
   "execution_count": 99,
   "id": "9b7a06b5",
   "metadata": {},
   "outputs": [
    {
     "name": "stdout",
     "output_type": "stream",
     "text": [
      "Numéricas (11): ['idade', 'tempo_como_cliente', 'suporte_contatado', 'chamados_abertos', 'tempo_medio_atendimento', 'reclamacoes', 'atrasos_pagamento', 'servicos_assinados', 'valor_mensal', 'total_gasto', 'num_produtos']\n",
      "Categóricas (5): ['genero', 'estado_civil', 'tipo_contrato', 'forma_pagamento', 'renda_faixa']\n"
     ]
    }
   ],
   "source": [
    "id_col = 'id_cliente'\n",
    "target_col = 'churn'\n",
    "\n",
    "numeric_features = df_train.select_dtypes(include=['int64','float64']).columns.drop(target_col)\n",
    "categorical_features = df_train.select_dtypes(include='object').columns.drop(id_col)\n",
    "\n",
    "print(f'Numéricas ({len(numeric_features)}):', list(numeric_features))\n",
    "print(f'Categóricas ({len(categorical_features)}):', list(categorical_features))"
   ]
  },
  {
   "cell_type": "markdown",
   "id": "3be6328f",
   "metadata": {},
   "source": [
    "### 2.4. Pipeline de transformação  \n",
    "\n",
    "*Imputação + escala* para numéricas e *imputação + One-Hot* para categóricas  "
   ]
  },
  {
   "cell_type": "code",
   "execution_count": 100,
   "id": "856f98e6",
   "metadata": {},
   "outputs": [
    {
     "name": "stdout",
     "output_type": "stream",
     "text": [
      "Pipeline criado com sucesso.\n"
     ]
    }
   ],
   "source": [
    "from sklearn.impute import SimpleImputer\n",
    "from sklearn.preprocessing import StandardScaler, OneHotEncoder\n",
    "from sklearn.compose import ColumnTransformer\n",
    "from sklearn.pipeline import Pipeline\n",
    "import inspect\n",
    "\n",
    "ohe_kw = {'handle_unknown': 'ignore'}\n",
    "if 'sparse_output' in inspect.signature(OneHotEncoder).parameters:\n",
    "    ohe_kw['sparse_output'] = False\n",
    "else:\n",
    "    ohe_kw['sparse'] = False\n",
    "\n",
    "numeric_pipe = Pipeline([\n",
    "    ('imputer', SimpleImputer(strategy='median')),\n",
    "    ('scaler',  StandardScaler())\n",
    "])\n",
    "\n",
    "categorical_pipe = Pipeline([\n",
    "    ('imputer', SimpleImputer(strategy='most_frequent')),\n",
    "    ('encoder', OneHotEncoder(**ohe_kw))\n",
    "])\n",
    "\n",
    "preprocessor = ColumnTransformer([\n",
    "    ('num', numeric_pipe, numeric_features),\n",
    "    ('cat', categorical_pipe, categorical_features)\n",
    "])\n",
    "\n",
    "print('Pipeline criado com sucesso.')"
   ]
  },
  {
   "cell_type": "markdown",
   "id": "a505bd5b",
   "metadata": {},
   "source": [
    "### 2.5. Ajuste e transformação dos dados  \n",
    "\n",
    "Ajusta o pipeline no treino, aplica em treino & teste e mostra dimensões."
   ]
  },
  {
   "cell_type": "code",
   "execution_count": 101,
   "id": "9c7c2d9e",
   "metadata": {},
   "outputs": [
    {
     "name": "stdout",
     "output_type": "stream",
     "text": [
      "\n",
      "Ajustando pipeline…\n",
      "Transformação no treino concluída.\n",
      "Transformação no teste concluída.\n",
      "Shape final — Treino: (98868, 26) | Teste: (5000, 26)\n"
     ]
    }
   ],
   "source": [
    "X_train = df_train.drop(columns=[target_col])\n",
    "y_train = df_train[target_col]\n",
    "\n",
    "print('\\nAjustando pipeline…')\n",
    "X_train_prep = preprocessor.fit_transform(X_train)\n",
    "print('Transformação no treino concluída.')\n",
    "\n",
    "X_test  = df_test.copy()\n",
    "X_test_prep = preprocessor.transform(X_test)\n",
    "print('Transformação no teste concluída.')\n",
    "\n",
    "print(f'Shape final — Treino: {X_train_prep.shape} | Teste: {X_test_prep.shape}')"
   ]
  },
  {
   "cell_type": "markdown",
   "id": "8bde936c",
   "metadata": {},
   "source": [
    "### 2.6. Checagem rápida de features resultantes  \n",
    "Informa o total de colunas após One-Hot Encoding para conferência."
   ]
  },
  {
   "cell_type": "code",
   "execution_count": 102,
   "id": "34afb85b",
   "metadata": {},
   "outputs": [
    {
     "name": "stdout",
     "output_type": "stream",
     "text": [
      "Total de features após o pré-processamento: 26\n"
     ]
    }
   ],
   "source": [
    "print(f'Total de features após o pré-processamento: {X_train_prep.shape[1]}')"
   ]
  },
  {
   "cell_type": "markdown",
   "id": "9304da59",
   "metadata": {},
   "source": [
    "### Conclusão  \n",
    "\n",
    "* **Linhas descartadas:** 4 registros com `idade` negativa (treino); 0 no teste.  \n",
    "* **Feature engineering:** adicionados `num_produtos` (contagem) e 6 flags “has_…”.  \n",
    "* **Dimensionalidade final:** 26 variáveis.  \n",
    "* **Datasets prontos:**  \n",
    "  * `X_train_prep` – (98 868 × 26)  \n",
    "  * `y_train` – vetor alvo  \n",
    "  * `X_test_prep` – (5 000 × 26)  "
   ]
  },
  {
   "cell_type": "markdown",
   "id": "91b777cc",
   "metadata": {},
   "source": [
    "## Etapa 3 – Geração de insights e formulação de hipóteses  \n",
    "\n",
    "> **Objetivo desta etapa:** Explorar relações entre variáveis e churn, validando (graficamente e numericamente) hipóteses que orientarão a modelagem."
   ]
  },
  {
   "cell_type": "markdown",
   "id": "4d3f3630",
   "metadata": {},
   "source": [
    "### 3.1. Hipótese 1 – Contratos mensais geram mais churn  \n",
    "Clientes com **`tipo_contrato = Mensal`** apresentam maior probabilidade de cancelamento do que aqueles em contratos mais longos (por ex. Anual/Bienal)."
   ]
  },
  {
   "cell_type": "code",
   "execution_count": 103,
   "id": "3227033d",
   "metadata": {},
   "outputs": [
    {
     "name": "stdout",
     "output_type": "stream",
     "text": [
      "tipo_contrato\n",
      "Mensal    0.346073\n",
      "Anual     0.315653\n",
      "Name: churn, dtype: float64\n"
     ]
    },
    {
     "data": {
      "image/png": "[encoded data removed]",
      "text/plain": [
       "<Figure size 600x300 with 1 Axes>"
      ]
     },
     "metadata": {},
     "output_type": "display_data"
    }
   ],
   "source": [
    "# Taxa de churn por tipo de contrato\n",
    "contrato_churn = (\n",
    "    df_train\n",
    "    .groupby('tipo_contrato')['churn']\n",
    "    .mean()\n",
    "    .sort_values(ascending=False)\n",
    ")\n",
    "\n",
    "print(contrato_churn)\n",
    "\n",
    "# Gráfico\n",
    "contrato_churn.plot(kind='bar', figsize=(6,3))\n",
    "plt.ylabel('Taxa de churn')\n",
    "plt.title('Churn por tipo de contrato')\n",
    "plt.show()"
   ]
  },
  {
   "cell_type": "markdown",
   "id": "81248359",
   "metadata": {},
   "source": [
    "### 3.1.1 Conclusão – Contratos mensais geram mais churn  \n",
    "*Validação:* **Confirmada**  \n",
    "Clientes em contrato **Mensal** têm **+10 %** de churn em relação ao plano **Anual**  \n",
    "(34,6 % × 31,6 %). O resultado reforça que vínculos curtos favorecem cancelamentos\n",
    "e sugere ofertas de fidelização ou upgrades automáticos."
   ]
  },
  {
   "cell_type": "markdown",
   "id": "79fa79be",
   "metadata": {},
   "source": [
    "### 3.2. Hipótese 2 – Atrasos de pagamento elevam a taxa de churn\n",
    "\n",
    "Quanto maior o número de **`atrasos_pagamento`**, maior a chance de o cliente cancelar."
   ]
  },
  {
   "cell_type": "code",
   "execution_count": 104,
   "id": "03c5547c",
   "metadata": {},
   "outputs": [
    {
     "name": "stdout",
     "output_type": "stream",
     "text": [
      "bin_atrasos\n",
      "0      0.300031\n",
      "1      0.313344\n",
      "2-3    0.346372\n",
      ">3     0.377992\n",
      "Name: churn, dtype: float64\n"
     ]
    },
    {
     "name": "stderr",
     "output_type": "stream",
     "text": [
      "/var/folders/l8/gnrmbktd60q__fwcz19bb1fc0000gn/T/ipykernel_69405/1079645406.py:6: FutureWarning: The default of observed=False is deprecated and will be changed to True in a future version of pandas. Pass observed=False to retain current behavior or observed=True to adopt the future default and silence this warning.\n",
      "  .groupby('bin_atrasos')['churn']\n"
     ]
    },
    {
     "data": {
      "image/png": "[encoded data removed]",
      "text/plain": [
       "<Figure size 640x480 with 1 Axes>"
      ]
     },
     "metadata": {},
     "output_type": "display_data"
    }
   ],
   "source": [
    "# Agrupa em faixas de atrasos\n",
    "df_train['bin_atrasos'] = pd.cut(df_train['atrasos_pagamento'], bins=[-1,0,1,3,10], labels=['0','1','2-3','>3'])\n",
    "\n",
    "atraso_churn = (\n",
    "    df_train\n",
    "    .groupby('bin_atrasos')['churn']\n",
    "    .mean()\n",
    ")\n",
    "\n",
    "print(atraso_churn)\n",
    "\n",
    "sns.barplot(x=atraso_churn.index, y=atraso_churn.values)\n",
    "plt.ylabel('Taxa de churn')\n",
    "plt.xlabel('Nº de atrasos (faixa)')\n",
    "plt.title('Churn vs atrasos de pagamento')\n",
    "plt.show()"
   ]
  },
  {
   "cell_type": "markdown",
   "id": "55186dca",
   "metadata": {},
   "source": [
    "### 3.2. Conclusão – Atrasos de pagamento elevam churn  \n",
    "\n",
    "*Validação:* **Confirmada**  \n",
    "A taxa sobe progressivamente: 0 atrasos → 30 % · 1 atraso → 31 % · 2-3 → 35 % · >3 → 38 %.  \n",
    "Cobrança proativa e descontos por pontualidade podem reduzir churn de inadimplentes reincidentes."
   ]
  },
  {
   "cell_type": "markdown",
   "id": "9f43419b",
   "metadata": {},
   "source": [
    "### 3.3. Hipótese 3 – Clientes “novos” cancelam mais  \n",
    "\n",
    "Clientes com **`tempo_como_cliente` ≤ 12 meses** têm taxa de churn maior que veteranos."
   ]
  },
  {
   "cell_type": "code",
   "execution_count": 105,
   "id": "b72b65b9",
   "metadata": {},
   "outputs": [
    {
     "name": "stdout",
     "output_type": "stream",
     "text": [
      "bin_tempo\n",
      "≤12      0.684326\n",
      "13-24    0.581135\n",
      "25-60    0.354462\n",
      ">60      0.205854\n",
      "Name: churn, dtype: float64\n"
     ]
    },
    {
     "name": "stderr",
     "output_type": "stream",
     "text": [
      "/var/folders/l8/gnrmbktd60q__fwcz19bb1fc0000gn/T/ipykernel_69405/1949232349.py:6: FutureWarning: The default of observed=False is deprecated and will be changed to True in a future version of pandas. Pass observed=False to retain current behavior or observed=True to adopt the future default and silence this warning.\n",
      "  .groupby('bin_tempo')['churn']\n"
     ]
    },
    {
     "data": {
      "image/png": "[encoded data removed]",
      "text/plain": [
       "<Figure size 600x300 with 1 Axes>"
      ]
     },
     "metadata": {},
     "output_type": "display_data"
    }
   ],
   "source": [
    "# Faixas de tempo de relacionamento\n",
    "df_train['bin_tempo'] = pd.cut(df_train['tempo_como_cliente'], bins=[0,12,24,60,120], labels=['≤12','13-24','25-60','>60'])\n",
    "\n",
    "tempo_churn = (\n",
    "    df_train\n",
    "    .groupby('bin_tempo')['churn']\n",
    "    .mean()\n",
    ")\n",
    "\n",
    "print(tempo_churn)\n",
    "\n",
    "tempo_churn.plot(kind='bar', figsize=(6,3))\n",
    "plt.ylabel('Taxa de churn')\n",
    "plt.xlabel('Tempo como cliente (meses)')\n",
    "plt.title('Churn vs tempo de relacionamento')\n",
    "plt.show()"
   ]
  },
  {
   "cell_type": "markdown",
   "id": "b5635495",
   "metadata": {},
   "source": [
    "### 3.3. Conclusão – Clientes “novos” cancelam mais\n",
    "\n",
    "*Validação:* **Confirmada**  \n",
    "Churn cai drasticamente com a antiguidade: **≤ 12 m = 68 %** · 13-24 m = 58 % · 25-60 m = 35 % · > 60 m = 21 %.  \n",
    "On-boarding eficiente nos primeiros 12 meses é crítico para retenção."
   ]
  },
  {
   "cell_type": "markdown",
   "id": "f7ae9cea",
   "metadata": {},
   "source": [
    "### 3.4. Hipótese 4 – Reclamações + suporte são sinais fortes de churn  \n",
    "\n",
    "Clientes que abriram **≥ 2 reclamações** e contataram suporte **≥ 3 vezes** têm churn acima da média."
   ]
  },
  {
   "cell_type": "code",
   "execution_count": 106,
   "id": "65f837c8",
   "metadata": {},
   "outputs": [
    {
     "name": "stdout",
     "output_type": "stream",
     "text": [
      "grupo_suporte\n",
      "Alto contato     0.384933\n",
      "Baixo contato    0.335501\n",
      "Name: churn, dtype: float64\n"
     ]
    },
    {
     "data": {
      "image/png": "[encoded data removed]",
      "text/plain": [
       "<Figure size 640x480 with 1 Axes>"
      ]
     },
     "metadata": {},
     "output_type": "display_data"
    }
   ],
   "source": [
    "df_train['grupo_suporte'] = np.where((df_train['reclamacoes'] >= 2) & (df_train['suporte_contatado'] >= 3), 'Alto contato', 'Baixo contato')\n",
    "\n",
    "suporte_churn = (\n",
    "    df_train\n",
    "    .groupby('grupo_suporte')['churn']\n",
    "    .mean()\n",
    ")\n",
    "\n",
    "print(suporte_churn)\n",
    "\n",
    "sns.barplot(x=suporte_churn.index, y=suporte_churn.values)\n",
    "plt.ylabel('Taxa de churn')\n",
    "plt.title('Churn vs nível de contato com suporte')\n",
    "plt.show()"
   ]
  },
  {
   "cell_type": "markdown",
   "id": "0b277e42",
   "metadata": {},
   "source": [
    "### 3.4. Conclusão – Reclamações + suporte são sinais de risco  \n",
    "\n",
    "*Validação:* **Parcialmente confirmada**  \n",
    "Grupo “Alto contato” (≥ 2 reclamações & ≥ 3 suportes) atinge **38,5 %** vs **33,6 %** no restante.  \n",
    "Diferença moderada, mas suficiente para priorizar ações em contas com muitos chamados."
   ]
  },
  {
   "cell_type": "markdown",
   "id": "cc87c58d",
   "metadata": {},
   "source": [
    "### Conclusão\n",
    "Os principais **drivers de churn** identificados foram:\n",
    "\n",
    "1. **Tipo de contrato** – Planos mensais exibem maior rotatividade.  \n",
    "2. **Tempo como cliente** – Churn cai após o primeiro ano.  \n",
    "3. **Atrasos de pagamento** – Correlação positiva consistente.  \n",
    "4. **Interação negativa** (reclamações + suporte) – Aumenta churn, ainda que modestamente."
   ]
  },
  {
   "cell_type": "markdown",
   "id": "271c3258",
   "metadata": {},
   "source": [
    "## Etapa 4 – Treinamento e teste de modelos  \n",
    "\n",
    "> **Objetivo desta etapa:** Avaliar três algoritmos (Regressão Logística, XGBoost e Random Forest) focando nas variáveis que se mostraram mais ligadas ao churn.  \n",
    "> Usaremos train/validation split estratificado, métricas **ROC-AUC** e **F1**, e lidaremos com desbalanceamento via `class_weight`/`scale_pos_weight`."
   ]
  },
  {
   "cell_type": "markdown",
   "id": "033ff23d",
   "metadata": {},
   "source": [
    "### 4.1. Preparação do conjunto de validação  \n",
    "\n",
    "Divide `X_train_prep` / `y_train` em treino (80 %) e validação (20 %) estratificados."
   ]
  },
  {
   "cell_type": "code",
   "execution_count": 107,
   "id": "bd07d6ba",
   "metadata": {},
   "outputs": [
    {
     "name": "stdout",
     "output_type": "stream",
     "text": [
      "Treino: (79094, 26) | Validação: (19774, 26)\n",
      "scale_pos_weight sugerido: 1.97\n"
     ]
    }
   ],
   "source": [
    "from sklearn.model_selection import train_test_split\n",
    "from sklearn.metrics import roc_auc_score, f1_score, classification_report\n",
    "import numpy as np\n",
    "\n",
    "X_tr, X_val, y_tr, y_val = train_test_split(\n",
    "    X_train_prep, y_train,\n",
    "    test_size=0.2,\n",
    "    stratify=y_train,\n",
    "    random_state=42\n",
    ")\n",
    "\n",
    "print(f'Treino: {X_tr.shape} | Validação: {X_val.shape}')\n",
    "pos_weight = (len(y_train) - y_train.sum()) / y_train.sum()\n",
    "print(f'scale_pos_weight sugerido: {pos_weight:.2f}')"
   ]
  },
  {
   "cell_type": "markdown",
   "id": "116e491b",
   "metadata": {},
   "source": [
    "### 4.2. Modelo 1 – Regressão Logística (baseline)  \n",
    "\n",
    "Utiliza `class_weight=\"balanced\"` e penalidade L2 (default). Métricas básicas na validação."
   ]
  },
  {
   "cell_type": "code",
   "execution_count": 108,
   "id": "b31cc4f5",
   "metadata": {},
   "outputs": [
    {
     "name": "stdout",
     "output_type": "stream",
     "text": [
      "ROC-AUC : 0.7051\n",
      "F1-score: 0.5649\n",
      "\n",
      "Classification report:\n",
      "               precision    recall  f1-score   support\n",
      "\n",
      "           0       0.79      0.64      0.71     13111\n",
      "           1       0.49      0.67      0.56      6663\n",
      "\n",
      "    accuracy                           0.65     19774\n",
      "   macro avg       0.64      0.66      0.64     19774\n",
      "weighted avg       0.69      0.65      0.66     19774\n",
      "\n"
     ]
    },
    {
     "name": "stderr",
     "output_type": "stream",
     "text": [
      "/Library/Frameworks/Python.framework/Versions/3.13/lib/python3.13/site-packages/sklearn/linear_model/_linear_loss.py:200: RuntimeWarning: divide by zero encountered in matmul\n",
      "  raw_prediction = X @ weights + intercept\n",
      "/Library/Frameworks/Python.framework/Versions/3.13/lib/python3.13/site-packages/sklearn/linear_model/_linear_loss.py:200: RuntimeWarning: overflow encountered in matmul\n",
      "  raw_prediction = X @ weights + intercept\n",
      "/Library/Frameworks/Python.framework/Versions/3.13/lib/python3.13/site-packages/sklearn/linear_model/_linear_loss.py:200: RuntimeWarning: invalid value encountered in matmul\n",
      "  raw_prediction = X @ weights + intercept\n",
      "/Library/Frameworks/Python.framework/Versions/3.13/lib/python3.13/site-packages/sklearn/linear_model/_linear_loss.py:330: RuntimeWarning: divide by zero encountered in matmul\n",
      "  grad[:n_features] = X.T @ grad_pointwise + l2_reg_strength * weights\n",
      "/Library/Frameworks/Python.framework/Versions/3.13/lib/python3.13/site-packages/sklearn/linear_model/_linear_loss.py:330: RuntimeWarning: overflow encountered in matmul\n",
      "  grad[:n_features] = X.T @ grad_pointwise + l2_reg_strength * weights\n",
      "/Library/Frameworks/Python.framework/Versions/3.13/lib/python3.13/site-packages/sklearn/linear_model/_linear_loss.py:330: RuntimeWarning: invalid value encountered in matmul\n",
      "  grad[:n_features] = X.T @ grad_pointwise + l2_reg_strength * weights\n",
      "/Library/Frameworks/Python.framework/Versions/3.13/lib/python3.13/site-packages/sklearn/utils/extmath.py:203: RuntimeWarning: divide by zero encountered in matmul\n",
      "  ret = a @ b\n",
      "/Library/Frameworks/Python.framework/Versions/3.13/lib/python3.13/site-packages/sklearn/utils/extmath.py:203: RuntimeWarning: overflow encountered in matmul\n",
      "  ret = a @ b\n",
      "/Library/Frameworks/Python.framework/Versions/3.13/lib/python3.13/site-packages/sklearn/utils/extmath.py:203: RuntimeWarning: invalid value encountered in matmul\n",
      "  ret = a @ b\n",
      "/Library/Frameworks/Python.framework/Versions/3.13/lib/python3.13/site-packages/sklearn/utils/extmath.py:203: RuntimeWarning: divide by zero encountered in matmul\n",
      "  ret = a @ b\n",
      "/Library/Frameworks/Python.framework/Versions/3.13/lib/python3.13/site-packages/sklearn/utils/extmath.py:203: RuntimeWarning: overflow encountered in matmul\n",
      "  ret = a @ b\n",
      "/Library/Frameworks/Python.framework/Versions/3.13/lib/python3.13/site-packages/sklearn/utils/extmath.py:203: RuntimeWarning: invalid value encountered in matmul\n",
      "  ret = a @ b\n"
     ]
    }
   ],
   "source": [
    "from sklearn.linear_model import LogisticRegression\n",
    "from sklearn.metrics import roc_auc_score, f1_score, classification_report\n",
    "\n",
    "log_reg = LogisticRegression(\n",
    "    solver='lbfgs',\n",
    "    max_iter=2000,\n",
    "    class_weight='balanced',\n",
    "    n_jobs=-1,\n",
    "    penalty='l2'\n",
    ")\n",
    "\n",
    "log_reg.fit(X_tr, y_tr)\n",
    "\n",
    "y_pred_lr = log_reg.predict(X_val)\n",
    "y_prob_lr = log_reg.predict_proba(X_val)[:, 1]\n",
    "\n",
    "print('ROC-AUC :', round(roc_auc_score(y_val, y_prob_lr), 4))\n",
    "print('F1-score:', round(f1_score(y_val, y_pred_lr), 4))\n",
    "print('\\nClassification report:\\n', classification_report(y_val, y_pred_lr))"
   ]
  },
  {
   "cell_type": "markdown",
   "id": "50eb6155",
   "metadata": {},
   "source": [
    "### 4.3. Modelo 2 – HistGradientBoostingClassifier\n",
    "\n",
    "Configuração leve + `scale_pos_weight` para lidar com o desbalanceamento."
   ]
  },
  {
   "cell_type": "code",
   "execution_count": 109,
   "id": "08f0d9ab",
   "metadata": {},
   "outputs": [
    {
     "name": "stdout",
     "output_type": "stream",
     "text": [
      "ROC-AUC : 0.7031\n",
      "F1-score: 0.5625\n",
      "\n",
      "Classification report:\n",
      "               precision    recall  f1-score   support\n",
      "\n",
      "           0       0.78      0.78      0.78     13111\n",
      "           1       0.56      0.56      0.56      6663\n",
      "\n",
      "    accuracy                           0.71     19774\n",
      "   macro avg       0.67      0.67      0.67     19774\n",
      "weighted avg       0.71      0.71      0.71     19774\n",
      "\n"
     ]
    }
   ],
   "source": [
    "from sklearn.metrics import roc_auc_score, f1_score, classification_report\n",
    "from sklearn.ensemble import HistGradientBoostingClassifier\n",
    "\n",
    "clf = HistGradientBoostingClassifier(\n",
    "    learning_rate=0.05,\n",
    "    max_depth=6,\n",
    "    l2_regularization=0.6,\n",
    "    class_weight={0:1, 1:pos_weight},\n",
    "    random_state=42\n",
    ")\n",
    "clf.fit(X_tr, y_tr)\n",
    "\n",
    "y_prob_gb = clf.predict_proba(X_val)[:,1]\n",
    "y_pred_gb = (y_prob_gb >= 0.5).astype(int)\n",
    "\n",
    "print('ROC-AUC :', round(roc_auc_score(y_val, y_prob_gb), 4))\n",
    "print('F1-score:', round(f1_score(y_val, y_pred_gb), 4))\n",
    "print('\\nClassification report:\\n', classification_report(y_val, y_pred_gb))"
   ]
  },
  {
   "cell_type": "markdown",
   "id": "6abbf0b8",
   "metadata": {},
   "source": [
    "### 4.4. Modelo 3 – Random Forest otimizado com RandomizedSearch  \n",
    "\n",
    "Busca 30 combinações aleatórias dentro de um espaço; avalia por F1 e usa `class_weight=\"balanced\"`."
   ]
  },
  {
   "cell_type": "code",
   "execution_count": 110,
   "id": "8f5fbe5c",
   "metadata": {},
   "outputs": [
    {
     "name": "stdout",
     "output_type": "stream",
     "text": [
      "Iniciando RandomizedSearch\n",
      "Fitting 5 folds for each of 200 candidates, totalling 1000 fits\n"
     ]
    },
    {
     "name": "stderr",
     "output_type": "stream",
     "text": [
      "Exception ignored in: <function ResourceTracker.__del__ at 0x104947880>\n",
      "Traceback (most recent call last):\n",
      "  File \"/Library/Frameworks/Python.framework/Versions/3.13/lib/python3.13/multiprocessing/resource_tracker.py\", line 82, in __del__\n",
      "  File \"/Library/Frameworks/Python.framework/Versions/3.13/lib/python3.13/multiprocessing/resource_tracker.py\", line 91, in _stop\n",
      "  File \"/Library/Frameworks/Python.framework/Versions/3.13/lib/python3.13/multiprocessing/resource_tracker.py\", line 116, in _stop_locked\n",
      "ChildProcessError: [Errno 10] No child processes\n",
      "Exception ignored in: <function ResourceTracker.__del__ at 0x1030cb880>\n",
      "Traceback (most recent call last):\n",
      "  File \"/Library/Frameworks/Python.framework/Versions/3.13/lib/python3.13/multiprocessing/resource_tracker.py\", line 82, in __del__\n",
      "  File \"/Library/Frameworks/Python.framework/Versions/3.13/lib/python3.13/multiprocessing/resource_tracker.py\", line 91, in _stop\n",
      "  File \"/Library/Frameworks/Python.framework/Versions/3.13/lib/python3.13/multiprocessing/resource_tracker.py\", line 116, in _stop_locked\n",
      "ChildProcessError: [Errno 10] No child processes\n",
      "Exception ignored in: <function ResourceTracker.__del__ at 0x107b47880>\n",
      "Traceback (most recent call last):\n",
      "  File \"/Library/Frameworks/Python.framework/Versions/3.13/lib/python3.13/multiprocessing/resource_tracker.py\", line 82, in __del__\n",
      "  File \"/Library/Frameworks/Python.framework/Versions/3.13/lib/python3.13/multiprocessing/resource_tracker.py\", line 91, in _stop\n",
      "  File \"/Library/Frameworks/Python.framework/Versions/3.13/lib/python3.13/multiprocessing/resource_tracker.py\", line 116, in _stop_locked\n",
      "ChildProcessError: [Errno 10] No child processes\n",
      "Exception ignored in: <function ResourceTracker.__del__ at 0x10639f880>\n",
      "Traceback (most recent call last):\n",
      "  File \"/Library/Frameworks/Python.framework/Versions/3.13/lib/python3.13/multiprocessing/resource_tracker.py\", line 82, in __del__\n",
      "  File \"/Library/Frameworks/Python.framework/Versions/3.13/lib/python3.13/multiprocessing/resource_tracker.py\", line 91, in _stop\n",
      "  File \"/Library/Frameworks/Python.framework/Versions/3.13/lib/python3.13/multiprocessing/resource_tracker.py\", line 116, in _stop_locked\n",
      "ChildProcessError: [Errno 10] No child processes\n"
     ]
    },
    {
     "name": "stdout",
     "output_type": "stream",
     "text": [
      "[CV] END bootstrap=True, criterion=entropy, max_depth=15, max_features=auto, min_samples_leaf=1, min_samples_split=4, n_estimators=600; total time=   0.0s\n",
      "[CV] END bootstrap=True, criterion=entropy, max_depth=15, max_features=auto, min_samples_leaf=1, min_samples_split=4, n_estimators=600; total time=   0.0s\n",
      "[CV] END bootstrap=True, criterion=entropy, max_depth=15, max_features=auto, min_samples_leaf=1, min_samples_split=4, n_estimators=600; total time=   0.0s\n",
      "[CV] END bootstrap=True, criterion=entropy, max_depth=15, max_features=auto, min_samples_leaf=1, min_samples_split=4, n_estimators=600; total time=   0.0s\n",
      "[CV] END bootstrap=True, criterion=entropy, max_depth=15, max_features=auto, min_samples_leaf=1, min_samples_split=4, n_estimators=600; total time=   0.0s\n",
      "[CV] END bootstrap=True, criterion=entropy, max_depth=20, max_features=auto, min_samples_leaf=1, min_samples_split=3, n_estimators=500; total time=   0.0s\n",
      "[CV] END bootstrap=True, criterion=entropy, max_depth=20, max_features=auto, min_samples_leaf=1, min_samples_split=3, n_estimators=500; total time=   0.0s\n",
      "[CV] END bootstrap=True, criterion=entropy, max_depth=20, max_features=auto, min_samples_leaf=1, min_samples_split=3, n_estimators=500; total time=   0.0s\n",
      "[CV] END bootstrap=True, criterion=entropy, max_depth=20, max_features=auto, min_samples_leaf=1, min_samples_split=3, n_estimators=500; total time=   0.0s\n",
      "[CV] END bootstrap=True, criterion=entropy, max_depth=20, max_features=auto, min_samples_leaf=1, min_samples_split=3, n_estimators=500; total time=   0.0s\n",
      "[CV] END bootstrap=True, criterion=gini, max_depth=10, max_features=auto, min_samples_leaf=4, min_samples_split=2, n_estimators=1000; total time=   0.0s\n",
      "[CV] END bootstrap=True, criterion=gini, max_depth=10, max_features=auto, min_samples_leaf=4, min_samples_split=2, n_estimators=1000; total time=   0.0s\n",
      "[CV] END bootstrap=True, criterion=gini, max_depth=10, max_features=auto, min_samples_leaf=4, min_samples_split=2, n_estimators=1000; total time=   0.0s\n",
      "[CV] END bootstrap=True, criterion=gini, max_depth=10, max_features=auto, min_samples_leaf=4, min_samples_split=2, n_estimators=1000; total time=   0.0s\n",
      "[CV] END bootstrap=True, criterion=gini, max_depth=10, max_features=auto, min_samples_leaf=4, min_samples_split=2, n_estimators=1000; total time=   0.0s\n",
      "[CV] END bootstrap=False, criterion=gini, max_depth=None, max_features=0.3, min_samples_leaf=1, min_samples_split=2, n_estimators=1100; total time= 2.2min\n"
     ]
    },
    {
     "name": "stderr",
     "output_type": "stream",
     "text": [
      "Exception ignored in: <function ResourceTracker.__del__ at 0x120b47880>\n",
      "Traceback (most recent call last):\n",
      "  File \"/Library/Frameworks/Python.framework/Versions/3.13/lib/python3.13/multiprocessing/resource_tracker.py\", line 82, in __del__\n",
      "  File \"/Library/Frameworks/Python.framework/Versions/3.13/lib/python3.13/multiprocessing/resource_tracker.py\", line 91, in _stop\n",
      "  File \"/Library/Frameworks/Python.framework/Versions/3.13/lib/python3.13/multiprocessing/resource_tracker.py\", line 116, in _stop_locked\n",
      "ChildProcessError: [Errno 10] No child processes\n",
      "/Library/Frameworks/Python.framework/Versions/3.13/lib/python3.13/site-packages/joblib/externals/loky/process_executor.py:752: UserWarning: A worker stopped while some jobs were given to the executor. This can be caused by a too short worker timeout or by a memory leak.\n",
      "  warnings.warn(\n"
     ]
    },
    {
     "name": "stdout",
     "output_type": "stream",
     "text": [
      "[CV] END bootstrap=False, criterion=gini, max_depth=None, max_features=0.3, min_samples_leaf=1, min_samples_split=2, n_estimators=1100; total time= 2.2min\n",
      "[CV] END bootstrap=False, criterion=gini, max_depth=None, max_features=0.3, min_samples_leaf=1, min_samples_split=2, n_estimators=1100; total time= 2.2min\n",
      "[CV] END bootstrap=False, criterion=gini, max_depth=None, max_features=0.3, min_samples_leaf=1, min_samples_split=2, n_estimators=1100; total time= 2.2min\n",
      "[CV] END bootstrap=False, criterion=gini, max_depth=None, max_features=0.3, min_samples_leaf=1, min_samples_split=2, n_estimators=1100; total time= 2.2min\n"
     ]
    },
    {
     "name": "stderr",
     "output_type": "stream",
     "text": [
      "Exception ignored in: <function ResourceTracker.__del__ at 0x11249f880>\n",
      "Traceback (most recent call last):\n",
      "  File \"/Library/Frameworks/Python.framework/Versions/3.13/lib/python3.13/multiprocessing/resource_tracker.py\", line 82, in __del__\n",
      "  File \"/Library/Frameworks/Python.framework/Versions/3.13/lib/python3.13/multiprocessing/resource_tracker.py\", line 91, in _stop\n",
      "  File \"/Library/Frameworks/Python.framework/Versions/3.13/lib/python3.13/multiprocessing/resource_tracker.py\", line 116, in _stop_locked\n",
      "ChildProcessError: [Errno 10] No child processes\n"
     ]
    },
    {
     "name": "stdout",
     "output_type": "stream",
     "text": [
      "[CV] END bootstrap=False, criterion=entropy, max_depth=None, max_features=0.7, min_samples_leaf=4, min_samples_split=4, n_estimators=1100; total time= 5.9min\n"
     ]
    },
    {
     "name": "stderr",
     "output_type": "stream",
     "text": [
      "Exception ignored in: <function ResourceTracker.__del__ at 0x103647880>\n",
      "Traceback (most recent call last):\n",
      "  File \"/Library/Frameworks/Python.framework/Versions/3.13/lib/python3.13/multiprocessing/resource_tracker.py\", line 82, in __del__\n",
      "  File \"/Library/Frameworks/Python.framework/Versions/3.13/lib/python3.13/multiprocessing/resource_tracker.py\", line 91, in _stop\n",
      "  File \"/Library/Frameworks/Python.framework/Versions/3.13/lib/python3.13/multiprocessing/resource_tracker.py\", line 116, in _stop_locked\n",
      "ChildProcessError: [Errno 10] No child processes\n"
     ]
    },
    {
     "name": "stdout",
     "output_type": "stream",
     "text": [
      "[CV] END bootstrap=False, criterion=entropy, max_depth=None, max_features=0.7, min_samples_leaf=4, min_samples_split=4, n_estimators=1100; total time= 6.0min\n"
     ]
    },
    {
     "name": "stderr",
     "output_type": "stream",
     "text": [
      "Exception ignored in: <function ResourceTracker.__del__ at 0x105347880>\n",
      "Traceback (most recent call last):\n",
      "  File \"/Library/Frameworks/Python.framework/Versions/3.13/lib/python3.13/multiprocessing/resource_tracker.py\", line 82, in __del__\n",
      "  File \"/Library/Frameworks/Python.framework/Versions/3.13/lib/python3.13/multiprocessing/resource_tracker.py\", line 91, in _stop\n",
      "  File \"/Library/Frameworks/Python.framework/Versions/3.13/lib/python3.13/multiprocessing/resource_tracker.py\", line 116, in _stop_locked\n",
      "ChildProcessError: [Errno 10] No child processes\n"
     ]
    },
    {
     "name": "stdout",
     "output_type": "stream",
     "text": [
      "[CV] END bootstrap=False, criterion=entropy, max_depth=None, max_features=0.7, min_samples_leaf=4, min_samples_split=4, n_estimators=1100; total time= 6.0min\n"
     ]
    },
    {
     "name": "stderr",
     "output_type": "stream",
     "text": [
      "Exception ignored in: <function ResourceTracker.__del__ at 0x10415f880>\n",
      "Traceback (most recent call last):\n",
      "  File \"/Library/Frameworks/Python.framework/Versions/3.13/lib/python3.13/multiprocessing/resource_tracker.py\", line 82, in __del__\n",
      "  File \"/Library/Frameworks/Python.framework/Versions/3.13/lib/python3.13/multiprocessing/resource_tracker.py\", line 91, in _stop\n",
      "  File \"/Library/Frameworks/Python.framework/Versions/3.13/lib/python3.13/multiprocessing/resource_tracker.py\", line 116, in _stop_locked\n",
      "ChildProcessError: [Errno 10] No child processes\n"
     ]
    },
    {
     "name": "stdout",
     "output_type": "stream",
     "text": [
      "[CV] END bootstrap=True, criterion=entropy, max_depth=15, max_features=None, min_samples_leaf=4, min_samples_split=3, n_estimators=1200; total time= 4.1min\n",
      "[CV] END bootstrap=True, criterion=entropy, max_depth=15, max_features=None, min_samples_leaf=4, min_samples_split=3, n_estimators=1200; total time= 4.1min\n",
      "[CV] END bootstrap=True, criterion=entropy, max_depth=15, max_features=None, min_samples_leaf=4, min_samples_split=3, n_estimators=1200; total time= 4.1min\n",
      "[CV] END bootstrap=True, criterion=entropy, max_depth=20, max_features=None, min_samples_leaf=2, min_samples_split=3, n_estimators=200; total time=  50.8s\n",
      "[CV] END bootstrap=True, criterion=entropy, max_depth=20, max_features=None, min_samples_leaf=2, min_samples_split=3, n_estimators=200; total time=  51.1s\n",
      "[CV] END bootstrap=True, criterion=entropy, max_depth=20, max_features=None, min_samples_leaf=2, min_samples_split=3, n_estimators=200; total time=  51.4s\n",
      "[CV] END bootstrap=True, criterion=entropy, max_depth=20, max_features=None, min_samples_leaf=2, min_samples_split=3, n_estimators=200; total time=  50.8s\n",
      "[CV] END bootstrap=True, criterion=gini, max_depth=15, max_features=log2, min_samples_leaf=1, min_samples_split=4, n_estimators=500; total time=  18.9s\n",
      "[CV] END bootstrap=True, criterion=gini, max_depth=15, max_features=log2, min_samples_leaf=1, min_samples_split=4, n_estimators=500; total time=  18.9s\n",
      "[CV] END bootstrap=True, criterion=gini, max_depth=15, max_features=log2, min_samples_leaf=1, min_samples_split=4, n_estimators=500; total time=  18.8s\n",
      "[CV] END bootstrap=True, criterion=entropy, max_depth=20, max_features=None, min_samples_leaf=2, min_samples_split=3, n_estimators=200; total time=  50.8s\n",
      "[CV] END bootstrap=True, criterion=gini, max_depth=15, max_features=log2, min_samples_leaf=1, min_samples_split=4, n_estimators=500; total time=  18.6s\n",
      "[CV] END bootstrap=True, criterion=gini, max_depth=15, max_features=log2, min_samples_leaf=1, min_samples_split=4, n_estimators=500; total time=  18.9s\n",
      "[CV] END bootstrap=False, criterion=entropy, max_depth=None, max_features=0.7, min_samples_leaf=4, min_samples_split=4, n_estimators=1100; total time= 5.8min\n",
      "[CV] END bootstrap=False, criterion=entropy, max_depth=None, max_features=0.7, min_samples_leaf=4, min_samples_split=4, n_estimators=1100; total time= 6.0min\n"
     ]
    },
    {
     "name": "stderr",
     "output_type": "stream",
     "text": [
      "Exception ignored in: <function ResourceTracker.__del__ at 0x105a47880>\n",
      "Traceback (most recent call last):\n",
      "  File \"/Library/Frameworks/Python.framework/Versions/3.13/lib/python3.13/multiprocessing/resource_tracker.py\", line 82, in __del__\n",
      "  File \"/Library/Frameworks/Python.framework/Versions/3.13/lib/python3.13/multiprocessing/resource_tracker.py\", line 91, in _stop\n",
      "  File \"/Library/Frameworks/Python.framework/Versions/3.13/lib/python3.13/multiprocessing/resource_tracker.py\", line 116, in _stop_locked\n",
      "ChildProcessError: [Errno 10] No child processes\n"
     ]
    },
    {
     "name": "stdout",
     "output_type": "stream",
     "text": [
      "[CV] END bootstrap=True, criterion=entropy, max_depth=5, max_features=auto, min_samples_leaf=4, min_samples_split=2, n_estimators=200; total time=   0.0s\n",
      "[CV] END bootstrap=True, criterion=entropy, max_depth=5, max_features=auto, min_samples_leaf=4, min_samples_split=2, n_estimators=200; total time=   0.0s\n",
      "[CV] END bootstrap=True, criterion=entropy, max_depth=5, max_features=auto, min_samples_leaf=4, min_samples_split=2, n_estimators=200; total time=   0.0s\n",
      "[CV] END bootstrap=True, criterion=entropy, max_depth=5, max_features=auto, min_samples_leaf=4, min_samples_split=2, n_estimators=200; total time=   0.0s\n",
      "[CV] END bootstrap=True, criterion=entropy, max_depth=5, max_features=auto, min_samples_leaf=4, min_samples_split=2, n_estimators=200; total time=   0.1s\n",
      "[CV] END bootstrap=True, criterion=entropy, max_depth=15, max_features=0.7, min_samples_leaf=2, min_samples_split=4, n_estimators=300; total time=  46.2s\n",
      "[CV] END bootstrap=True, criterion=entropy, max_depth=15, max_features=0.7, min_samples_leaf=2, min_samples_split=4, n_estimators=300; total time=  45.5s\n",
      "[CV] END bootstrap=True, criterion=entropy, max_depth=15, max_features=None, min_samples_leaf=4, min_samples_split=3, n_estimators=1200; total time= 4.1min\n",
      "[CV] END bootstrap=True, criterion=gini, max_depth=10, max_features=None, min_samples_leaf=4, min_samples_split=3, n_estimators=1100; total time= 2.6min\n",
      "[CV] END bootstrap=True, criterion=entropy, max_depth=15, max_features=None, min_samples_leaf=4, min_samples_split=3, n_estimators=1200; total time= 4.2min\n",
      "[CV] END bootstrap=True, criterion=gini, max_depth=10, max_features=None, min_samples_leaf=4, min_samples_split=3, n_estimators=1100; total time= 2.6min\n",
      "[CV] END bootstrap=True, criterion=gini, max_depth=10, max_features=None, min_samples_leaf=4, min_samples_split=3, n_estimators=1100; total time= 2.6min\n",
      "[CV] END bootstrap=True, criterion=gini, max_depth=10, max_features=None, min_samples_leaf=4, min_samples_split=3, n_estimators=1100; total time= 2.6min\n",
      "[CV] END bootstrap=True, criterion=entropy, max_depth=15, max_features=0.7, min_samples_leaf=2, min_samples_split=4, n_estimators=300; total time=  45.3s\n"
     ]
    },
    {
     "name": "stderr",
     "output_type": "stream",
     "text": [
      "Exception ignored in: <function ResourceTracker.__del__ at 0x1022eb880>\n",
      "Traceback (most recent call last):\n",
      "  File \"/Library/Frameworks/Python.framework/Versions/3.13/lib/python3.13/multiprocessing/resource_tracker.py\", line 82, in __del__\n",
      "  File \"/Library/Frameworks/Python.framework/Versions/3.13/lib/python3.13/multiprocessing/resource_tracker.py\", line 91, in _stop\n",
      "  File \"/Library/Frameworks/Python.framework/Versions/3.13/lib/python3.13/multiprocessing/resource_tracker.py\", line 116, in _stop_locked\n",
      "ChildProcessError: [Errno 10] No child processes\n"
     ]
    },
    {
     "name": "stdout",
     "output_type": "stream",
     "text": [
      "[CV] END bootstrap=True, criterion=gini, max_depth=10, max_features=None, min_samples_leaf=4, min_samples_split=3, n_estimators=1100; total time= 2.6min\n",
      "[CV] END bootstrap=True, criterion=entropy, max_depth=15, max_features=0.7, min_samples_leaf=2, min_samples_split=4, n_estimators=300; total time=  44.2s\n",
      "[CV] END bootstrap=True, criterion=entropy, max_depth=15, max_features=0.7, min_samples_leaf=2, min_samples_split=4, n_estimators=300; total time=  44.1s\n",
      "[CV] END bootstrap=True, criterion=gini, max_depth=15, max_features=None, min_samples_leaf=4, min_samples_split=2, n_estimators=500; total time= 1.6min\n",
      "[CV] END bootstrap=True, criterion=gini, max_depth=15, max_features=None, min_samples_leaf=4, min_samples_split=2, n_estimators=500; total time= 1.6min\n",
      "[CV] END bootstrap=True, criterion=gini, max_depth=15, max_features=None, min_samples_leaf=4, min_samples_split=2, n_estimators=500; total time= 1.6min\n",
      "[CV] END bootstrap=True, criterion=entropy, max_depth=20, max_features=None, min_samples_leaf=2, min_samples_split=3, n_estimators=800; total time= 3.4min\n",
      "[CV] END bootstrap=True, criterion=entropy, max_depth=20, max_features=None, min_samples_leaf=2, min_samples_split=3, n_estimators=800; total time= 3.4min\n",
      "[CV] END bootstrap=True, criterion=entropy, max_depth=20, max_features=None, min_samples_leaf=2, min_samples_split=3, n_estimators=800; total time= 3.4min\n"
     ]
    },
    {
     "name": "stderr",
     "output_type": "stream",
     "text": [
      "Exception ignored in: <function ResourceTracker.__del__ at 0x104637880>\n",
      "Traceback (most recent call last):\n",
      "  File \"/Library/Frameworks/Python.framework/Versions/3.13/lib/python3.13/multiprocessing/resource_tracker.py\", line 82, in __del__\n",
      "  File \"/Library/Frameworks/Python.framework/Versions/3.13/lib/python3.13/multiprocessing/resource_tracker.py\", line 91, in _stop\n",
      "  File \"/Library/Frameworks/Python.framework/Versions/3.13/lib/python3.13/multiprocessing/resource_tracker.py\", line 116, in _stop_locked\n",
      "ChildProcessError: [Errno 10] No child processes\n"
     ]
    },
    {
     "name": "stdout",
     "output_type": "stream",
     "text": [
      "[CV] END bootstrap=True, criterion=entropy, max_depth=20, max_features=None, min_samples_leaf=2, min_samples_split=3, n_estimators=800; total time= 3.4min\n",
      "[CV] END bootstrap=False, criterion=gini, max_depth=15, max_features=sqrt, min_samples_leaf=4, min_samples_split=3, n_estimators=1200; total time= 1.3min\n",
      "[CV] END bootstrap=True, criterion=gini, max_depth=15, max_features=None, min_samples_leaf=4, min_samples_split=2, n_estimators=500; total time= 1.6min\n"
     ]
    },
    {
     "name": "stderr",
     "output_type": "stream",
     "text": [
      "Exception ignored in: <function ResourceTracker.__del__ at 0x104497880>\n",
      "Traceback (most recent call last):\n",
      "  File \"/Library/Frameworks/Python.framework/Versions/3.13/lib/python3.13/multiprocessing/resource_tracker.py\", line 82, in __del__\n",
      "  File \"/Library/Frameworks/Python.framework/Versions/3.13/lib/python3.13/multiprocessing/resource_tracker.py\", line 91, in _stop\n",
      "  File \"/Library/Frameworks/Python.framework/Versions/3.13/lib/python3.13/multiprocessing/resource_tracker.py\", line 116, in _stop_locked\n",
      "ChildProcessError: [Errno 10] No child processes\n"
     ]
    },
    {
     "name": "stdout",
     "output_type": "stream",
     "text": [
      "[CV] END bootstrap=True, criterion=entropy, max_depth=20, max_features=None, min_samples_leaf=2, min_samples_split=3, n_estimators=800; total time= 3.4min\n"
     ]
    },
    {
     "name": "stderr",
     "output_type": "stream",
     "text": [
      "Exception ignored in: <function ResourceTracker.__del__ at 0x108847880>\n",
      "Traceback (most recent call last):\n",
      "  File \"/Library/Frameworks/Python.framework/Versions/3.13/lib/python3.13/multiprocessing/resource_tracker.py\", line 82, in __del__\n",
      "  File \"/Library/Frameworks/Python.framework/Versions/3.13/lib/python3.13/multiprocessing/resource_tracker.py\", line 91, in _stop\n",
      "  File \"/Library/Frameworks/Python.framework/Versions/3.13/lib/python3.13/multiprocessing/resource_tracker.py\", line 116, in _stop_locked\n",
      "ChildProcessError: [Errno 10] No child processes\n"
     ]
    },
    {
     "name": "stdout",
     "output_type": "stream",
     "text": [
      "[CV] END bootstrap=True, criterion=gini, max_depth=15, max_features=None, min_samples_leaf=4, min_samples_split=2, n_estimators=500; total time= 1.6min\n",
      "[CV] END bootstrap=False, criterion=gini, max_depth=15, max_features=sqrt, min_samples_leaf=4, min_samples_split=3, n_estimators=1200; total time= 1.3min\n"
     ]
    },
    {
     "name": "stderr",
     "output_type": "stream",
     "text": [
      "Exception ignored in: <function ResourceTracker.__del__ at 0x103b47880>\n",
      "Traceback (most recent call last):\n",
      "  File \"/Library/Frameworks/Python.framework/Versions/3.13/lib/python3.13/multiprocessing/resource_tracker.py\", line 82, in __del__\n",
      "  File \"/Library/Frameworks/Python.framework/Versions/3.13/lib/python3.13/multiprocessing/resource_tracker.py\", line 91, in _stop\n",
      "  File \"/Library/Frameworks/Python.framework/Versions/3.13/lib/python3.13/multiprocessing/resource_tracker.py\", line 116, in _stop_locked\n",
      "ChildProcessError: [Errno 10] No child processes\n"
     ]
    },
    {
     "name": "stdout",
     "output_type": "stream",
     "text": [
      "[CV] END bootstrap=False, criterion=gini, max_depth=15, max_features=sqrt, min_samples_leaf=4, min_samples_split=3, n_estimators=1200; total time= 1.3min\n"
     ]
    },
    {
     "name": "stderr",
     "output_type": "stream",
     "text": [
      "Exception ignored in: <function ResourceTracker.__del__ at 0x1045c7880>\n",
      "Traceback (most recent call last):\n",
      "  File \"/Library/Frameworks/Python.framework/Versions/3.13/lib/python3.13/multiprocessing/resource_tracker.py\", line 82, in __del__\n",
      "  File \"/Library/Frameworks/Python.framework/Versions/3.13/lib/python3.13/multiprocessing/resource_tracker.py\", line 91, in _stop\n",
      "  File \"/Library/Frameworks/Python.framework/Versions/3.13/lib/python3.13/multiprocessing/resource_tracker.py\", line 116, in _stop_locked\n",
      "ChildProcessError: [Errno 10] No child processes\n"
     ]
    },
    {
     "name": "stdout",
     "output_type": "stream",
     "text": [
      "[CV] END bootstrap=False, criterion=gini, max_depth=15, max_features=sqrt, min_samples_leaf=4, min_samples_split=3, n_estimators=1200; total time= 1.3min\n"
     ]
    },
    {
     "name": "stderr",
     "output_type": "stream",
     "text": [
      "Exception ignored in: <function ResourceTracker.__del__ at 0x107a47880>\n",
      "Traceback (most recent call last):\n",
      "  File \"/Library/Frameworks/Python.framework/Versions/3.13/lib/python3.13/multiprocessing/resource_tracker.py\", line 82, in __del__\n",
      "  File \"/Library/Frameworks/Python.framework/Versions/3.13/lib/python3.13/multiprocessing/resource_tracker.py\", line 91, in _stop\n",
      "  File \"/Library/Frameworks/Python.framework/Versions/3.13/lib/python3.13/multiprocessing/resource_tracker.py\", line 116, in _stop_locked\n",
      "ChildProcessError: [Errno 10] No child processes\n"
     ]
    },
    {
     "name": "stdout",
     "output_type": "stream",
     "text": [
      "[CV] END bootstrap=False, criterion=gini, max_depth=15, max_features=sqrt, min_samples_leaf=4, min_samples_split=3, n_estimators=1200; total time= 1.3min\n",
      "[CV] END bootstrap=True, criterion=gini, max_depth=20, max_features=0.7, min_samples_leaf=4, min_samples_split=4, n_estimators=100; total time=  15.5s\n",
      "[CV] END bootstrap=True, criterion=gini, max_depth=20, max_features=0.7, min_samples_leaf=4, min_samples_split=4, n_estimators=100; total time=  15.7s\n",
      "[CV] END bootstrap=True, criterion=gini, max_depth=20, max_features=0.7, min_samples_leaf=4, min_samples_split=4, n_estimators=100; total time=  15.8s\n",
      "[CV] END bootstrap=False, criterion=gini, max_depth=15, max_features=0.3, min_samples_leaf=2, min_samples_split=2, n_estimators=1200; total time= 1.7min\n"
     ]
    },
    {
     "name": "stderr",
     "output_type": "stream",
     "text": [
      "Exception ignored in: <function ResourceTracker.__del__ at 0x106347880>\n",
      "Traceback (most recent call last):\n",
      "  File \"/Library/Frameworks/Python.framework/Versions/3.13/lib/python3.13/multiprocessing/resource_tracker.py\", line 82, in __del__\n",
      "  File \"/Library/Frameworks/Python.framework/Versions/3.13/lib/python3.13/multiprocessing/resource_tracker.py\", line 91, in _stop\n",
      "  File \"/Library/Frameworks/Python.framework/Versions/3.13/lib/python3.13/multiprocessing/resource_tracker.py\", line 116, in _stop_locked\n",
      "ChildProcessError: [Errno 10] No child processes\n"
     ]
    },
    {
     "name": "stdout",
     "output_type": "stream",
     "text": [
      "[CV] END bootstrap=True, criterion=gini, max_depth=20, max_features=0.7, min_samples_leaf=4, min_samples_split=4, n_estimators=100; total time=  14.9s\n",
      "[CV] END bootstrap=True, criterion=gini, max_depth=20, max_features=0.7, min_samples_leaf=4, min_samples_split=4, n_estimators=100; total time=  15.0s\n",
      "[CV] END bootstrap=False, criterion=gini, max_depth=15, max_features=0.3, min_samples_leaf=2, min_samples_split=2, n_estimators=1200; total time= 1.7min\n",
      "[CV] END bootstrap=False, criterion=gini, max_depth=15, max_features=0.3, min_samples_leaf=2, min_samples_split=2, n_estimators=1200; total time= 1.8min\n",
      "[CV] END bootstrap=False, criterion=entropy, max_depth=None, max_features=log2, min_samples_leaf=4, min_samples_split=2, n_estimators=300; total time=  20.7s\n"
     ]
    },
    {
     "name": "stderr",
     "output_type": "stream",
     "text": [
      "Exception ignored in: <function ResourceTracker.__del__ at 0x106c47880>\n",
      "Traceback (most recent call last):\n",
      "  File \"/Library/Frameworks/Python.framework/Versions/3.13/lib/python3.13/multiprocessing/resource_tracker.py\", line 82, in __del__\n",
      "  File \"/Library/Frameworks/Python.framework/Versions/3.13/lib/python3.13/multiprocessing/resource_tracker.py\", line 91, in _stop\n",
      "  File \"/Library/Frameworks/Python.framework/Versions/3.13/lib/python3.13/multiprocessing/resource_tracker.py\", line 116, in _stop_locked\n",
      "ChildProcessError: [Errno 10] No child processes\n",
      "Exception ignored in: <function ResourceTracker.__del__ at 0x104d47880>\n",
      "Traceback (most recent call last):\n",
      "  File \"/Library/Frameworks/Python.framework/Versions/3.13/lib/python3.13/multiprocessing/resource_tracker.py\", line 82, in __del__\n",
      "  File \"/Library/Frameworks/Python.framework/Versions/3.13/lib/python3.13/multiprocessing/resource_tracker.py\", line 91, in _stop\n",
      "  File \"/Library/Frameworks/Python.framework/Versions/3.13/lib/python3.13/multiprocessing/resource_tracker.py\", line 116, in _stop_locked\n",
      "ChildProcessError: [Errno 10] No child processes\n"
     ]
    },
    {
     "name": "stdout",
     "output_type": "stream",
     "text": [
      "[CV] END bootstrap=False, criterion=gini, max_depth=15, max_features=0.3, min_samples_leaf=2, min_samples_split=2, n_estimators=1200; total time= 1.7min\n",
      "[CV] END bootstrap=False, criterion=entropy, max_depth=None, max_features=log2, min_samples_leaf=4, min_samples_split=2, n_estimators=300; total time=  19.3s\n",
      "[CV] END bootstrap=False, criterion=entropy, max_depth=None, max_features=log2, min_samples_leaf=4, min_samples_split=2, n_estimators=300; total time=  19.3s\n"
     ]
    },
    {
     "name": "stderr",
     "output_type": "stream",
     "text": [
      "Exception ignored in: <function ResourceTracker.__del__ at 0x106b7f880>\n",
      "Traceback (most recent call last):\n",
      "  File \"/Library/Frameworks/Python.framework/Versions/3.13/lib/python3.13/multiprocessing/resource_tracker.py\", line 82, in __del__\n",
      "  File \"/Library/Frameworks/Python.framework/Versions/3.13/lib/python3.13/multiprocessing/resource_tracker.py\", line 91, in _stop\n",
      "  File \"/Library/Frameworks/Python.framework/Versions/3.13/lib/python3.13/multiprocessing/resource_tracker.py\", line 116, in _stop_locked\n",
      "ChildProcessError: [Errno 10] No child processes\n",
      "Exception ignored in: <function ResourceTracker.__del__ at 0x104777880>\n",
      "Traceback (most recent call last):\n",
      "  File \"/Library/Frameworks/Python.framework/Versions/3.13/lib/python3.13/multiprocessing/resource_tracker.py\", line 82, in __del__\n",
      "  File \"/Library/Frameworks/Python.framework/Versions/3.13/lib/python3.13/multiprocessing/resource_tracker.py\", line 91, in _stop\n",
      "  File \"/Library/Frameworks/Python.framework/Versions/3.13/lib/python3.13/multiprocessing/resource_tracker.py\", line 116, in _stop_locked\n",
      "ChildProcessError: [Errno 10] No child processes\n"
     ]
    },
    {
     "name": "stdout",
     "output_type": "stream",
     "text": [
      "[CV] END bootstrap=False, criterion=entropy, max_depth=None, max_features=log2, min_samples_leaf=4, min_samples_split=2, n_estimators=300; total time=  19.3s\n",
      "[CV] END bootstrap=False, criterion=entropy, max_depth=None, max_features=log2, min_samples_leaf=4, min_samples_split=2, n_estimators=300; total time=  19.4s\n"
     ]
    },
    {
     "name": "stderr",
     "output_type": "stream",
     "text": [
      "Exception ignored in: <function ResourceTracker.__del__ at 0x107247880>\n",
      "Traceback (most recent call last):\n",
      "  File \"/Library/Frameworks/Python.framework/Versions/3.13/lib/python3.13/multiprocessing/resource_tracker.py\", line 82, in __del__\n",
      "  File \"/Library/Frameworks/Python.framework/Versions/3.13/lib/python3.13/multiprocessing/resource_tracker.py\", line 91, in _stop\n",
      "  File \"/Library/Frameworks/Python.framework/Versions/3.13/lib/python3.13/multiprocessing/resource_tracker.py\", line 116, in _stop_locked\n",
      "ChildProcessError: [Errno 10] No child processes\n"
     ]
    },
    {
     "name": "stdout",
     "output_type": "stream",
     "text": [
      "[CV] END bootstrap=False, criterion=gini, max_depth=15, max_features=0.3, min_samples_leaf=2, min_samples_split=2, n_estimators=1200; total time= 1.7min\n",
      "[CV] END bootstrap=False, criterion=gini, max_depth=5, max_features=0.7, min_samples_leaf=4, min_samples_split=2, n_estimators=1200; total time= 1.6min\n",
      "[CV] END bootstrap=False, criterion=gini, max_depth=5, max_features=0.7, min_samples_leaf=4, min_samples_split=2, n_estimators=1200; total time= 1.6min\n",
      "[CV] END bootstrap=False, criterion=gini, max_depth=5, max_features=0.7, min_samples_leaf=4, min_samples_split=2, n_estimators=1200; total time= 1.6min\n",
      "[CV] END bootstrap=False, criterion=gini, max_depth=5, max_features=0.7, min_samples_leaf=4, min_samples_split=2, n_estimators=1200; total time= 1.7min\n",
      "[CV] END bootstrap=True, criterion=gini, max_depth=15, max_features=None, min_samples_leaf=4, min_samples_split=4, n_estimators=500; total time= 1.6min\n",
      "[CV] END bootstrap=False, criterion=entropy, max_depth=5, max_features=None, min_samples_leaf=1, min_samples_split=4, n_estimators=100; total time=  12.5s\n",
      "[CV] END bootstrap=False, criterion=gini, max_depth=5, max_features=0.7, min_samples_leaf=4, min_samples_split=2, n_estimators=1200; total time= 1.7min\n",
      "[CV] END bootstrap=True, criterion=gini, max_depth=15, max_features=None, min_samples_leaf=4, min_samples_split=4, n_estimators=500; total time= 1.6min\n",
      "[CV] END bootstrap=False, criterion=entropy, max_depth=5, max_features=None, min_samples_leaf=1, min_samples_split=4, n_estimators=100; total time=  12.5s\n",
      "[CV] END bootstrap=False, criterion=entropy, max_depth=5, max_features=None, min_samples_leaf=1, min_samples_split=4, n_estimators=100; total time=  12.7s\n",
      "[CV] END bootstrap=False, criterion=entropy, max_depth=5, max_features=None, min_samples_leaf=1, min_samples_split=4, n_estimators=100; total time=  12.6s\n",
      "[CV] END bootstrap=False, criterion=entropy, max_depth=5, max_features=None, min_samples_leaf=1, min_samples_split=4, n_estimators=100; total time=  12.4s\n",
      "[CV] END bootstrap=True, criterion=gini, max_depth=15, max_features=None, min_samples_leaf=4, min_samples_split=4, n_estimators=500; total time= 1.6min\n",
      "[CV] END bootstrap=False, criterion=entropy, max_depth=5, max_features=log2, min_samples_leaf=4, min_samples_split=4, n_estimators=500; total time=  11.9s\n",
      "[CV] END bootstrap=False, criterion=entropy, max_depth=5, max_features=log2, min_samples_leaf=4, min_samples_split=4, n_estimators=500; total time=  12.0s\n",
      "[CV] END bootstrap=False, criterion=entropy, max_depth=5, max_features=log2, min_samples_leaf=4, min_samples_split=4, n_estimators=500; total time=  12.1s\n",
      "[CV] END bootstrap=True, criterion=gini, max_depth=15, max_features=None, min_samples_leaf=4, min_samples_split=4, n_estimators=500; total time= 1.6min\n",
      "[CV] END bootstrap=True, criterion=gini, max_depth=10, max_features=0.7, min_samples_leaf=2, min_samples_split=4, n_estimators=800; total time= 1.3min\n",
      "[CV] END bootstrap=True, criterion=gini, max_depth=15, max_features=None, min_samples_leaf=4, min_samples_split=4, n_estimators=500; total time= 1.6min\n",
      "[CV] END bootstrap=False, criterion=entropy, max_depth=5, max_features=log2, min_samples_leaf=4, min_samples_split=4, n_estimators=500; total time=  12.2s\n",
      "[CV] END bootstrap=True, criterion=gini, max_depth=10, max_features=0.7, min_samples_leaf=2, min_samples_split=4, n_estimators=800; total time= 1.3min\n",
      "[CV] END bootstrap=False, criterion=entropy, max_depth=5, max_features=log2, min_samples_leaf=4, min_samples_split=4, n_estimators=500; total time=  12.2s\n",
      "[CV] END bootstrap=True, criterion=gini, max_depth=10, max_features=0.7, min_samples_leaf=2, min_samples_split=4, n_estimators=800; total time= 1.3min\n",
      "[CV] END bootstrap=True, criterion=gini, max_depth=10, max_features=0.7, min_samples_leaf=2, min_samples_split=4, n_estimators=800; total time= 1.3min\n",
      "[CV] END bootstrap=True, criterion=gini, max_depth=10, max_features=0.7, min_samples_leaf=2, min_samples_split=4, n_estimators=800; total time= 1.3min\n",
      "[CV] END bootstrap=True, criterion=gini, max_depth=5, max_features=0.3, min_samples_leaf=1, min_samples_split=2, n_estimators=700; total time=  16.9s\n",
      "[CV] END bootstrap=True, criterion=gini, max_depth=5, max_features=0.3, min_samples_leaf=1, min_samples_split=2, n_estimators=700; total time=  17.1s\n",
      "[CV] END bootstrap=True, criterion=gini, max_depth=5, max_features=0.3, min_samples_leaf=1, min_samples_split=2, n_estimators=700; total time=  17.1s\n",
      "[CV] END bootstrap=False, criterion=gini, max_depth=15, max_features=auto, min_samples_leaf=1, min_samples_split=3, n_estimators=500; total time=   0.0s\n",
      "[CV] END bootstrap=False, criterion=gini, max_depth=15, max_features=auto, min_samples_leaf=1, min_samples_split=3, n_estimators=500; total time=   0.0s\n",
      "[CV] END bootstrap=False, criterion=gini, max_depth=15, max_features=auto, min_samples_leaf=1, min_samples_split=3, n_estimators=500; total time=   0.0s\n",
      "[CV] END bootstrap=False, criterion=gini, max_depth=15, max_features=auto, min_samples_leaf=1, min_samples_split=3, n_estimators=500; total time=   0.0s\n",
      "[CV] END bootstrap=False, criterion=gini, max_depth=15, max_features=auto, min_samples_leaf=1, min_samples_split=3, n_estimators=500; total time=   0.0s\n",
      "[CV] END bootstrap=True, criterion=gini, max_depth=5, max_features=0.3, min_samples_leaf=1, min_samples_split=2, n_estimators=700; total time=  17.1s\n",
      "[CV] END bootstrap=True, criterion=gini, max_depth=5, max_features=0.3, min_samples_leaf=1, min_samples_split=2, n_estimators=700; total time=  17.2s\n",
      "[CV] END bootstrap=False, criterion=entropy, max_depth=5, max_features=log2, min_samples_leaf=2, min_samples_split=4, n_estimators=700; total time=  17.4s\n",
      "[CV] END bootstrap=False, criterion=entropy, max_depth=5, max_features=log2, min_samples_leaf=2, min_samples_split=4, n_estimators=700; total time=  17.0s\n",
      "[CV] END bootstrap=False, criterion=entropy, max_depth=5, max_features=log2, min_samples_leaf=2, min_samples_split=4, n_estimators=700; total time=  17.2s\n",
      "[CV] END bootstrap=False, criterion=entropy, max_depth=5, max_features=log2, min_samples_leaf=2, min_samples_split=4, n_estimators=700; total time=  16.9s\n",
      "[CV] END bootstrap=False, criterion=entropy, max_depth=5, max_features=log2, min_samples_leaf=2, min_samples_split=4, n_estimators=700; total time=  16.9s\n",
      "[CV] END bootstrap=True, criterion=entropy, max_depth=20, max_features=0.3, min_samples_leaf=4, min_samples_split=3, n_estimators=1100; total time= 1.3min\n"
     ]
    },
    {
     "name": "stderr",
     "output_type": "stream",
     "text": [
      "Exception ignored in: <function ResourceTracker.__del__ at 0x102d47880>\n",
      "Traceback (most recent call last):\n",
      "  File \"/Library/Frameworks/Python.framework/Versions/3.13/lib/python3.13/multiprocessing/resource_tracker.py\", line 82, in __del__\n",
      "  File \"/Library/Frameworks/Python.framework/Versions/3.13/lib/python3.13/multiprocessing/resource_tracker.py\", line 91, in _stop\n",
      "  File \"/Library/Frameworks/Python.framework/Versions/3.13/lib/python3.13/multiprocessing/resource_tracker.py\", line 116, in _stop_locked\n",
      "ChildProcessError: [Errno 10] No child processes\n"
     ]
    },
    {
     "name": "stdout",
     "output_type": "stream",
     "text": [
      "[CV] END bootstrap=True, criterion=entropy, max_depth=20, max_features=0.3, min_samples_leaf=4, min_samples_split=3, n_estimators=1100; total time= 1.3min\n",
      "[CV] END bootstrap=True, criterion=entropy, max_depth=20, max_features=0.3, min_samples_leaf=4, min_samples_split=3, n_estimators=1100; total time= 1.3min\n"
     ]
    },
    {
     "name": "stderr",
     "output_type": "stream",
     "text": [
      "Exception ignored in: <function ResourceTracker.__del__ at 0x103847880>\n",
      "Traceback (most recent call last):\n",
      "  File \"/Library/Frameworks/Python.framework/Versions/3.13/lib/python3.13/multiprocessing/resource_tracker.py\", line 82, in __del__\n",
      "  File \"/Library/Frameworks/Python.framework/Versions/3.13/lib/python3.13/multiprocessing/resource_tracker.py\", line 91, in _stop\n",
      "  File \"/Library/Frameworks/Python.framework/Versions/3.13/lib/python3.13/multiprocessing/resource_tracker.py\", line 116, in _stop_locked\n",
      "ChildProcessError: [Errno 10] No child processes\n",
      "Exception ignored in: <function ResourceTracker.__del__ at 0x107447880>\n",
      "Traceback (most recent call last):\n",
      "  File \"/Library/Frameworks/Python.framework/Versions/3.13/lib/python3.13/multiprocessing/resource_tracker.py\", line 82, in __del__\n",
      "  File \"/Library/Frameworks/Python.framework/Versions/3.13/lib/python3.13/multiprocessing/resource_tracker.py\", line 91, in _stop\n",
      "  File \"/Library/Frameworks/Python.framework/Versions/3.13/lib/python3.13/multiprocessing/resource_tracker.py\", line 116, in _stop_locked\n",
      "ChildProcessError: [Errno 10] No child processes\n"
     ]
    },
    {
     "name": "stdout",
     "output_type": "stream",
     "text": [
      "[CV] END bootstrap=False, criterion=gini, max_depth=15, max_features=0.7, min_samples_leaf=1, min_samples_split=2, n_estimators=800; total time= 2.9min\n"
     ]
    },
    {
     "name": "stderr",
     "output_type": "stream",
     "text": [
      "Exception ignored in: <function ResourceTracker.__del__ at 0x108547880>\n",
      "Traceback (most recent call last):\n",
      "  File \"/Library/Frameworks/Python.framework/Versions/3.13/lib/python3.13/multiprocessing/resource_tracker.py\", line 82, in __del__\n",
      "  File \"/Library/Frameworks/Python.framework/Versions/3.13/lib/python3.13/multiprocessing/resource_tracker.py\", line 91, in _stop\n",
      "  File \"/Library/Frameworks/Python.framework/Versions/3.13/lib/python3.13/multiprocessing/resource_tracker.py\", line 116, in _stop_locked\n",
      "ChildProcessError: [Errno 10] No child processes\n"
     ]
    },
    {
     "name": "stdout",
     "output_type": "stream",
     "text": [
      "[CV] END bootstrap=False, criterion=gini, max_depth=15, max_features=0.7, min_samples_leaf=1, min_samples_split=2, n_estimators=800; total time= 2.9min\n",
      "[CV] END bootstrap=False, criterion=gini, max_depth=15, max_features=0.7, min_samples_leaf=1, min_samples_split=2, n_estimators=800; total time= 2.9min\n"
     ]
    },
    {
     "name": "stderr",
     "output_type": "stream",
     "text": [
      "Exception ignored in: <function ResourceTracker.__del__ at 0x102b03880>\n",
      "Traceback (most recent call last):\n",
      "  File \"/Library/Frameworks/Python.framework/Versions/3.13/lib/python3.13/multiprocessing/resource_tracker.py\", line 82, in __del__\n",
      "  File \"/Library/Frameworks/Python.framework/Versions/3.13/lib/python3.13/multiprocessing/resource_tracker.py\", line 91, in _stop\n",
      "  File \"/Library/Frameworks/Python.framework/Versions/3.13/lib/python3.13/multiprocessing/resource_tracker.py\", line 116, in _stop_locked\n",
      "ChildProcessError: [Errno 10] No child processes\n",
      "Exception ignored in: <function ResourceTracker.__del__ at 0x1026cf880>\n",
      "Traceback (most recent call last):\n",
      "  File \"/Library/Frameworks/Python.framework/Versions/3.13/lib/python3.13/multiprocessing/resource_tracker.py\", line 82, in __del__\n",
      "  File \"/Library/Frameworks/Python.framework/Versions/3.13/lib/python3.13/multiprocessing/resource_tracker.py\", line 91, in _stop\n",
      "  File \"/Library/Frameworks/Python.framework/Versions/3.13/lib/python3.13/multiprocessing/resource_tracker.py\", line 116, in _stop_locked\n",
      "ChildProcessError: [Errno 10] No child processes\n"
     ]
    },
    {
     "name": "stdout",
     "output_type": "stream",
     "text": [
      "[CV] END bootstrap=False, criterion=gini, max_depth=15, max_features=0.7, min_samples_leaf=1, min_samples_split=2, n_estimators=800; total time= 2.8min\n"
     ]
    },
    {
     "name": "stderr",
     "output_type": "stream",
     "text": [
      "Exception ignored in: <function ResourceTracker.__del__ at 0x102947880>\n",
      "Traceback (most recent call last):\n",
      "  File \"/Library/Frameworks/Python.framework/Versions/3.13/lib/python3.13/multiprocessing/resource_tracker.py\", line 82, in __del__\n",
      "  File \"/Library/Frameworks/Python.framework/Versions/3.13/lib/python3.13/multiprocessing/resource_tracker.py\", line 91, in _stop\n",
      "  File \"/Library/Frameworks/Python.framework/Versions/3.13/lib/python3.13/multiprocessing/resource_tracker.py\", line 116, in _stop_locked\n",
      "ChildProcessError: [Errno 10] No child processes\n"
     ]
    },
    {
     "name": "stdout",
     "output_type": "stream",
     "text": [
      "[CV] END bootstrap=False, criterion=gini, max_depth=15, max_features=0.7, min_samples_leaf=1, min_samples_split=2, n_estimators=800; total time= 2.8min\n"
     ]
    },
    {
     "name": "stderr",
     "output_type": "stream",
     "text": [
      "Exception ignored in: <function ResourceTracker.__del__ at 0x106047880>\n",
      "Traceback (most recent call last):\n",
      "  File \"/Library/Frameworks/Python.framework/Versions/3.13/lib/python3.13/multiprocessing/resource_tracker.py\", line 82, in __del__\n",
      "  File \"/Library/Frameworks/Python.framework/Versions/3.13/lib/python3.13/multiprocessing/resource_tracker.py\", line 91, in _stop\n",
      "  File \"/Library/Frameworks/Python.framework/Versions/3.13/lib/python3.13/multiprocessing/resource_tracker.py\", line 116, in _stop_locked\n",
      "ChildProcessError: [Errno 10] No child processes\n"
     ]
    },
    {
     "name": "stdout",
     "output_type": "stream",
     "text": [
      "[CV] END bootstrap=True, criterion=entropy, max_depth=20, max_features=0.3, min_samples_leaf=4, min_samples_split=3, n_estimators=1100; total time= 1.2min\n",
      "[CV] END bootstrap=True, criterion=entropy, max_depth=15, max_features=0.5, min_samples_leaf=1, min_samples_split=4, n_estimators=700; total time= 1.2min\n",
      "[CV] END bootstrap=True, criterion=entropy, max_depth=20, max_features=0.3, min_samples_leaf=4, min_samples_split=3, n_estimators=1100; total time= 1.2min\n",
      "[CV] END bootstrap=True, criterion=entropy, max_depth=15, max_features=0.5, min_samples_leaf=1, min_samples_split=4, n_estimators=700; total time= 1.3min\n",
      "[CV] END bootstrap=True, criterion=entropy, max_depth=15, max_features=0.5, min_samples_leaf=1, min_samples_split=4, n_estimators=700; total time= 1.3min\n",
      "[CV] END bootstrap=True, criterion=entropy, max_depth=15, max_features=0.5, min_samples_leaf=1, min_samples_split=4, n_estimators=700; total time= 1.3min\n",
      "[CV] END bootstrap=True, criterion=entropy, max_depth=15, max_features=0.5, min_samples_leaf=1, min_samples_split=4, n_estimators=700; total time= 1.3min\n",
      "[CV] END bootstrap=True, criterion=gini, max_depth=20, max_features=0.7, min_samples_leaf=2, min_samples_split=3, n_estimators=600; total time= 1.6min\n",
      "[CV] END bootstrap=True, criterion=gini, max_depth=20, max_features=0.7, min_samples_leaf=2, min_samples_split=3, n_estimators=600; total time= 1.6min\n"
     ]
    },
    {
     "name": "stderr",
     "output_type": "stream",
     "text": [
      "Exception ignored in: <function ResourceTracker.__del__ at 0x102547880>\n",
      "Traceback (most recent call last):\n",
      "  File \"/Library/Frameworks/Python.framework/Versions/3.13/lib/python3.13/multiprocessing/resource_tracker.py\", line 82, in __del__\n",
      "  File \"/Library/Frameworks/Python.framework/Versions/3.13/lib/python3.13/multiprocessing/resource_tracker.py\", line 91, in _stop\n",
      "  File \"/Library/Frameworks/Python.framework/Versions/3.13/lib/python3.13/multiprocessing/resource_tracker.py\", line 116, in _stop_locked\n",
      "ChildProcessError: [Errno 10] No child processes\n"
     ]
    },
    {
     "name": "stdout",
     "output_type": "stream",
     "text": [
      "[CV] END bootstrap=True, criterion=gini, max_depth=20, max_features=0.7, min_samples_leaf=2, min_samples_split=3, n_estimators=600; total time= 1.6min\n",
      "[CV] END bootstrap=True, criterion=gini, max_depth=20, max_features=0.7, min_samples_leaf=2, min_samples_split=3, n_estimators=600; total time= 1.6min\n"
     ]
    },
    {
     "name": "stderr",
     "output_type": "stream",
     "text": [
      "Exception ignored in: <function ResourceTracker.__del__ at 0x104faf880>\n",
      "Traceback (most recent call last):\n",
      "  File \"/Library/Frameworks/Python.framework/Versions/3.13/lib/python3.13/multiprocessing/resource_tracker.py\", line 82, in __del__\n",
      "  File \"/Library/Frameworks/Python.framework/Versions/3.13/lib/python3.13/multiprocessing/resource_tracker.py\", line 91, in _stop\n",
      "  File \"/Library/Frameworks/Python.framework/Versions/3.13/lib/python3.13/multiprocessing/resource_tracker.py\", line 116, in _stop_locked\n",
      "ChildProcessError: [Errno 10] No child processes\n",
      "Exception ignored in: <function ResourceTracker.__del__ at 0x10687f880>\n",
      "Traceback (most recent call last):\n",
      "  File \"/Library/Frameworks/Python.framework/Versions/3.13/lib/python3.13/multiprocessing/resource_tracker.py\", line 82, in __del__\n",
      "  File \"/Library/Frameworks/Python.framework/Versions/3.13/lib/python3.13/multiprocessing/resource_tracker.py\", line 91, in _stop\n",
      "  File \"/Library/Frameworks/Python.framework/Versions/3.13/lib/python3.13/multiprocessing/resource_tracker.py\", line 116, in _stop_locked\n",
      "ChildProcessError: [Errno 10] No child processes\n"
     ]
    },
    {
     "name": "stdout",
     "output_type": "stream",
     "text": [
      "[CV] END bootstrap=True, criterion=entropy, max_depth=20, max_features=None, min_samples_leaf=1, min_samples_split=4, n_estimators=100; total time=  26.3s\n",
      "[CV] END bootstrap=True, criterion=entropy, max_depth=20, max_features=None, min_samples_leaf=1, min_samples_split=4, n_estimators=100; total time=  26.3s\n",
      "[CV] END bootstrap=True, criterion=gini, max_depth=20, max_features=0.7, min_samples_leaf=2, min_samples_split=3, n_estimators=600; total time= 1.6min\n"
     ]
    },
    {
     "name": "stderr",
     "output_type": "stream",
     "text": [
      "Exception ignored in: <function ResourceTracker.__del__ at 0x1063f7880>\n",
      "Traceback (most recent call last):\n",
      "  File \"/Library/Frameworks/Python.framework/Versions/3.13/lib/python3.13/multiprocessing/resource_tracker.py\", line 82, in __del__\n",
      "  File \"/Library/Frameworks/Python.framework/Versions/3.13/lib/python3.13/multiprocessing/resource_tracker.py\", line 91, in _stop\n",
      "  File \"/Library/Frameworks/Python.framework/Versions/3.13/lib/python3.13/multiprocessing/resource_tracker.py\", line 116, in _stop_locked\n",
      "ChildProcessError: [Errno 10] No child processes\n"
     ]
    },
    {
     "name": "stdout",
     "output_type": "stream",
     "text": [
      "[CV] END bootstrap=True, criterion=entropy, max_depth=20, max_features=None, min_samples_leaf=1, min_samples_split=4, n_estimators=100; total time=  25.1s\n",
      "[CV] END bootstrap=True, criterion=entropy, max_depth=20, max_features=None, min_samples_leaf=1, min_samples_split=4, n_estimators=100; total time=  25.3s\n",
      "[CV] END bootstrap=True, criterion=entropy, max_depth=5, max_features=log2, min_samples_leaf=4, min_samples_split=4, n_estimators=400; total time=   6.6s\n",
      "[CV] END bootstrap=True, criterion=entropy, max_depth=5, max_features=log2, min_samples_leaf=4, min_samples_split=4, n_estimators=400; total time=   6.5s\n",
      "[CV] END bootstrap=True, criterion=gini, max_depth=15, max_features=0.5, min_samples_leaf=4, min_samples_split=4, n_estimators=1200; total time= 1.9min\n",
      "[CV] END bootstrap=True, criterion=gini, max_depth=15, max_features=0.5, min_samples_leaf=4, min_samples_split=4, n_estimators=1200; total time= 1.9min\n"
     ]
    },
    {
     "name": "stderr",
     "output_type": "stream",
     "text": [
      "Exception ignored in: <function ResourceTracker.__del__ at 0x106047880>\n",
      "Traceback (most recent call last):\n",
      "  File \"/Library/Frameworks/Python.framework/Versions/3.13/lib/python3.13/multiprocessing/resource_tracker.py\", line 82, in __del__\n",
      "  File \"/Library/Frameworks/Python.framework/Versions/3.13/lib/python3.13/multiprocessing/resource_tracker.py\", line 91, in _stop\n",
      "  File \"/Library/Frameworks/Python.framework/Versions/3.13/lib/python3.13/multiprocessing/resource_tracker.py\", line 116, in _stop_locked\n",
      "ChildProcessError: [Errno 10] No child processes\n",
      "Exception ignored in: <function ResourceTracker.__del__ at 0x104f47880>\n",
      "Traceback (most recent call last):\n",
      "  File \"/Library/Frameworks/Python.framework/Versions/3.13/lib/python3.13/multiprocessing/resource_tracker.py\", line 82, in __del__\n",
      "  File \"/Library/Frameworks/Python.framework/Versions/3.13/lib/python3.13/multiprocessing/resource_tracker.py\", line 91, in _stop\n",
      "  File \"/Library/Frameworks/Python.framework/Versions/3.13/lib/python3.13/multiprocessing/resource_tracker.py\", line 116, in _stop_locked\n",
      "ChildProcessError: [Errno 10] No child processes\n"
     ]
    },
    {
     "name": "stdout",
     "output_type": "stream",
     "text": [
      "[CV] END bootstrap=True, criterion=entropy, max_depth=5, max_features=log2, min_samples_leaf=4, min_samples_split=4, n_estimators=400; total time=   6.1s\n",
      "[CV] END bootstrap=True, criterion=entropy, max_depth=5, max_features=log2, min_samples_leaf=4, min_samples_split=4, n_estimators=400; total time=   6.0s\n",
      "[CV] END bootstrap=False, criterion=gini, max_depth=5, max_features=auto, min_samples_leaf=2, min_samples_split=3, n_estimators=300; total time=   0.0s\n",
      "[CV] END bootstrap=False, criterion=gini, max_depth=5, max_features=auto, min_samples_leaf=2, min_samples_split=3, n_estimators=300; total time=   0.0s\n",
      "[CV] END bootstrap=False, criterion=gini, max_depth=5, max_features=auto, min_samples_leaf=2, min_samples_split=3, n_estimators=300; total time=   0.0s\n",
      "[CV] END bootstrap=False, criterion=gini, max_depth=5, max_features=auto, min_samples_leaf=2, min_samples_split=3, n_estimators=300; total time=   0.0s\n",
      "[CV] END bootstrap=False, criterion=gini, max_depth=5, max_features=auto, min_samples_leaf=2, min_samples_split=3, n_estimators=300; total time=   0.0s\n",
      "[CV] END bootstrap=True, criterion=gini, max_depth=15, max_features=0.5, min_samples_leaf=4, min_samples_split=4, n_estimators=1200; total time= 1.9min\n"
     ]
    },
    {
     "name": "stderr",
     "output_type": "stream",
     "text": [
      "Exception ignored in: <function ResourceTracker.__del__ at 0x102677880>\n",
      "Traceback (most recent call last):\n",
      "  File \"/Library/Frameworks/Python.framework/Versions/3.13/lib/python3.13/multiprocessing/resource_tracker.py\", line 82, in __del__\n",
      "  File \"/Library/Frameworks/Python.framework/Versions/3.13/lib/python3.13/multiprocessing/resource_tracker.py\", line 91, in _stop\n",
      "  File \"/Library/Frameworks/Python.framework/Versions/3.13/lib/python3.13/multiprocessing/resource_tracker.py\", line 116, in _stop_locked\n",
      "ChildProcessError: [Errno 10] No child processes\n"
     ]
    },
    {
     "name": "stdout",
     "output_type": "stream",
     "text": [
      "[CV] END bootstrap=True, criterion=entropy, max_depth=5, max_features=log2, min_samples_leaf=4, min_samples_split=4, n_estimators=400; total time=   5.1s\n",
      "[CV] END bootstrap=True, criterion=entropy, max_depth=20, max_features=None, min_samples_leaf=1, min_samples_split=4, n_estimators=100; total time=  23.7s\n",
      "[CV] END bootstrap=True, criterion=gini, max_depth=15, max_features=0.5, min_samples_leaf=4, min_samples_split=4, n_estimators=1200; total time= 1.9min\n",
      "[CV] END bootstrap=False, criterion=entropy, max_depth=20, max_features=0.3, min_samples_leaf=1, min_samples_split=3, n_estimators=300; total time=  34.4s\n"
     ]
    },
    {
     "name": "stderr",
     "output_type": "stream",
     "text": [
      "Exception ignored in: <function ResourceTracker.__del__ at 0x104747880>\n",
      "Traceback (most recent call last):\n",
      "  File \"/Library/Frameworks/Python.framework/Versions/3.13/lib/python3.13/multiprocessing/resource_tracker.py\", line 82, in __del__\n",
      "  File \"/Library/Frameworks/Python.framework/Versions/3.13/lib/python3.13/multiprocessing/resource_tracker.py\", line 91, in _stop\n",
      "  File \"/Library/Frameworks/Python.framework/Versions/3.13/lib/python3.13/multiprocessing/resource_tracker.py\", line 116, in _stop_locked\n",
      "ChildProcessError: [Errno 10] No child processes\n"
     ]
    },
    {
     "name": "stdout",
     "output_type": "stream",
     "text": [
      "[CV] END bootstrap=True, criterion=gini, max_depth=15, max_features=0.5, min_samples_leaf=4, min_samples_split=4, n_estimators=1200; total time= 1.9min\n",
      "[CV] END bootstrap=False, criterion=entropy, max_depth=20, max_features=0.3, min_samples_leaf=1, min_samples_split=3, n_estimators=300; total time=  34.9s\n",
      "[CV] END bootstrap=False, criterion=entropy, max_depth=20, max_features=0.3, min_samples_leaf=1, min_samples_split=3, n_estimators=300; total time=  35.1s\n",
      "[CV] END bootstrap=False, criterion=entropy, max_depth=20, max_features=0.3, min_samples_leaf=1, min_samples_split=3, n_estimators=300; total time=  34.9s\n"
     ]
    },
    {
     "name": "stderr",
     "output_type": "stream",
     "text": [
      "Exception ignored in: <function ResourceTracker.__del__ at 0x107847880>\n",
      "Traceback (most recent call last):\n",
      "  File \"/Library/Frameworks/Python.framework/Versions/3.13/lib/python3.13/multiprocessing/resource_tracker.py\", line 82, in __del__\n",
      "  File \"/Library/Frameworks/Python.framework/Versions/3.13/lib/python3.13/multiprocessing/resource_tracker.py\", line 91, in _stop\n",
      "  File \"/Library/Frameworks/Python.framework/Versions/3.13/lib/python3.13/multiprocessing/resource_tracker.py\", line 116, in _stop_locked\n",
      "ChildProcessError: [Errno 10] No child processes\n"
     ]
    },
    {
     "name": "stdout",
     "output_type": "stream",
     "text": [
      "[CV] END bootstrap=False, criterion=entropy, max_depth=20, max_features=0.3, min_samples_leaf=1, min_samples_split=3, n_estimators=300; total time=  34.4s\n",
      "[CV] END bootstrap=True, criterion=entropy, max_depth=20, max_features=0.7, min_samples_leaf=4, min_samples_split=3, n_estimators=900; total time= 2.6min\n"
     ]
    },
    {
     "name": "stderr",
     "output_type": "stream",
     "text": [
      "Exception ignored in: <function ResourceTracker.__del__ at 0x104243880>\n",
      "Traceback (most recent call last):\n",
      "  File \"/Library/Frameworks/Python.framework/Versions/3.13/lib/python3.13/multiprocessing/resource_tracker.py\", line 82, in __del__\n",
      "  File \"/Library/Frameworks/Python.framework/Versions/3.13/lib/python3.13/multiprocessing/resource_tracker.py\", line 91, in _stop\n",
      "  File \"/Library/Frameworks/Python.framework/Versions/3.13/lib/python3.13/multiprocessing/resource_tracker.py\", line 116, in _stop_locked\n",
      "ChildProcessError: [Errno 10] No child processes\n"
     ]
    },
    {
     "name": "stdout",
     "output_type": "stream",
     "text": [
      "[CV] END bootstrap=True, criterion=gini, max_depth=15, max_features=0.7, min_samples_leaf=2, min_samples_split=3, n_estimators=900; total time= 2.1min\n",
      "[CV] END bootstrap=True, criterion=gini, max_depth=15, max_features=0.7, min_samples_leaf=2, min_samples_split=3, n_estimators=900; total time= 2.1min\n",
      "[CV] END bootstrap=True, criterion=gini, max_depth=15, max_features=0.7, min_samples_leaf=2, min_samples_split=3, n_estimators=900; total time= 2.1min\n",
      "[CV] END bootstrap=True, criterion=entropy, max_depth=20, max_features=0.7, min_samples_leaf=4, min_samples_split=3, n_estimators=900; total time= 2.6min\n",
      "[CV] END bootstrap=True, criterion=entropy, max_depth=5, max_features=sqrt, min_samples_leaf=1, min_samples_split=2, n_estimators=600; total time=  11.9s\n",
      "[CV] END bootstrap=True, criterion=entropy, max_depth=5, max_features=sqrt, min_samples_leaf=1, min_samples_split=2, n_estimators=600; total time=  11.9s\n",
      "[CV] END bootstrap=True, criterion=entropy, max_depth=5, max_features=sqrt, min_samples_leaf=1, min_samples_split=2, n_estimators=600; total time=  12.6s\n",
      "[CV] END bootstrap=True, criterion=entropy, max_depth=5, max_features=sqrt, min_samples_leaf=1, min_samples_split=2, n_estimators=600; total time=  12.1s\n",
      "[CV] END bootstrap=True, criterion=entropy, max_depth=20, max_features=0.7, min_samples_leaf=4, min_samples_split=3, n_estimators=900; total time= 2.5min\n"
     ]
    },
    {
     "name": "stderr",
     "output_type": "stream",
     "text": [
      "Exception ignored in: <function ResourceTracker.__del__ at 0x1046d3880>\n",
      "Traceback (most recent call last):\n",
      "  File \"/Library/Frameworks/Python.framework/Versions/3.13/lib/python3.13/multiprocessing/resource_tracker.py\", line 82, in __del__\n",
      "  File \"/Library/Frameworks/Python.framework/Versions/3.13/lib/python3.13/multiprocessing/resource_tracker.py\", line 91, in _stop\n",
      "  File \"/Library/Frameworks/Python.framework/Versions/3.13/lib/python3.13/multiprocessing/resource_tracker.py\", line 116, in _stop_locked\n",
      "ChildProcessError: [Errno 10] No child processes\n"
     ]
    },
    {
     "name": "stdout",
     "output_type": "stream",
     "text": [
      "[CV] END bootstrap=True, criterion=entropy, max_depth=20, max_features=0.7, min_samples_leaf=4, min_samples_split=3, n_estimators=900; total time= 2.5min\n",
      "[CV] END bootstrap=True, criterion=entropy, max_depth=20, max_features=0.7, min_samples_leaf=4, min_samples_split=3, n_estimators=900; total time= 2.5min\n",
      "[CV] END bootstrap=True, criterion=entropy, max_depth=5, max_features=sqrt, min_samples_leaf=1, min_samples_split=2, n_estimators=600; total time=  11.4s\n",
      "[CV] END bootstrap=True, criterion=gini, max_depth=15, max_features=0.3, min_samples_leaf=1, min_samples_split=3, n_estimators=600; total time=  35.4s\n",
      "[CV] END bootstrap=True, criterion=gini, max_depth=15, max_features=0.3, min_samples_leaf=1, min_samples_split=3, n_estimators=600; total time=  35.8s\n",
      "[CV] END bootstrap=True, criterion=gini, max_depth=15, max_features=0.7, min_samples_leaf=2, min_samples_split=3, n_estimators=900; total time= 2.0min\n",
      "[CV] END bootstrap=True, criterion=gini, max_depth=15, max_features=0.7, min_samples_leaf=2, min_samples_split=3, n_estimators=900; total time= 2.0min\n",
      "[CV] END bootstrap=True, criterion=gini, max_depth=15, max_features=0.3, min_samples_leaf=1, min_samples_split=3, n_estimators=600; total time=  35.7s\n",
      "[CV] END bootstrap=True, criterion=gini, max_depth=5, max_features=0.5, min_samples_leaf=2, min_samples_split=2, n_estimators=300; total time=  12.6s\n",
      "[CV] END bootstrap=True, criterion=gini, max_depth=15, max_features=0.3, min_samples_leaf=1, min_samples_split=3, n_estimators=600; total time=  35.8s\n",
      "[CV] END bootstrap=True, criterion=gini, max_depth=15, max_features=0.3, min_samples_leaf=1, min_samples_split=3, n_estimators=600; total time=  35.7s\n",
      "[CV] END bootstrap=True, criterion=gini, max_depth=5, max_features=0.5, min_samples_leaf=2, min_samples_split=2, n_estimators=300; total time=  12.4s\n",
      "[CV] END bootstrap=True, criterion=gini, max_depth=5, max_features=0.5, min_samples_leaf=2, min_samples_split=2, n_estimators=300; total time=  12.4s\n",
      "[CV] END bootstrap=True, criterion=gini, max_depth=5, max_features=0.5, min_samples_leaf=2, min_samples_split=2, n_estimators=300; total time=  12.5s\n",
      "[CV] END bootstrap=True, criterion=gini, max_depth=5, max_features=0.5, min_samples_leaf=2, min_samples_split=2, n_estimators=300; total time=  12.2s\n",
      "[CV] END bootstrap=False, criterion=gini, max_depth=20, max_features=log2, min_samples_leaf=4, min_samples_split=3, n_estimators=800; total time=  50.6s\n"
     ]
    },
    {
     "name": "stderr",
     "output_type": "stream",
     "text": [
      "Exception ignored in: <function ResourceTracker.__del__ at 0x102e77880>\n",
      "Traceback (most recent call last):\n",
      "  File \"/Library/Frameworks/Python.framework/Versions/3.13/lib/python3.13/multiprocessing/resource_tracker.py\", line 82, in __del__\n",
      "  File \"/Library/Frameworks/Python.framework/Versions/3.13/lib/python3.13/multiprocessing/resource_tracker.py\", line 91, in _stop\n",
      "  File \"/Library/Frameworks/Python.framework/Versions/3.13/lib/python3.13/multiprocessing/resource_tracker.py\", line 116, in _stop_locked\n",
      "ChildProcessError: [Errno 10] No child processes\n"
     ]
    },
    {
     "name": "stdout",
     "output_type": "stream",
     "text": [
      "[CV] END bootstrap=False, criterion=gini, max_depth=20, max_features=log2, min_samples_leaf=4, min_samples_split=3, n_estimators=800; total time=  49.9s\n"
     ]
    },
    {
     "name": "stderr",
     "output_type": "stream",
     "text": [
      "Exception ignored in: <function ResourceTracker.__del__ at 0x104047880>\n",
      "Traceback (most recent call last):\n",
      "  File \"/Library/Frameworks/Python.framework/Versions/3.13/lib/python3.13/multiprocessing/resource_tracker.py\", line 82, in __del__\n",
      "  File \"/Library/Frameworks/Python.framework/Versions/3.13/lib/python3.13/multiprocessing/resource_tracker.py\", line 91, in _stop\n",
      "  File \"/Library/Frameworks/Python.framework/Versions/3.13/lib/python3.13/multiprocessing/resource_tracker.py\", line 116, in _stop_locked\n",
      "ChildProcessError: [Errno 10] No child processes\n"
     ]
    },
    {
     "name": "stdout",
     "output_type": "stream",
     "text": [
      "[CV] END bootstrap=False, criterion=gini, max_depth=20, max_features=log2, min_samples_leaf=4, min_samples_split=3, n_estimators=800; total time=  49.7s\n"
     ]
    },
    {
     "name": "stderr",
     "output_type": "stream",
     "text": [
      "Exception ignored in: <function ResourceTracker.__del__ at 0x102b93880>\n",
      "Traceback (most recent call last):\n",
      "  File \"/Library/Frameworks/Python.framework/Versions/3.13/lib/python3.13/multiprocessing/resource_tracker.py\", line 82, in __del__\n",
      "  File \"/Library/Frameworks/Python.framework/Versions/3.13/lib/python3.13/multiprocessing/resource_tracker.py\", line 91, in _stop\n",
      "  File \"/Library/Frameworks/Python.framework/Versions/3.13/lib/python3.13/multiprocessing/resource_tracker.py\", line 116, in _stop_locked\n",
      "ChildProcessError: [Errno 10] No child processes\n"
     ]
    },
    {
     "name": "stdout",
     "output_type": "stream",
     "text": [
      "[CV] END bootstrap=False, criterion=gini, max_depth=20, max_features=0.5, min_samples_leaf=2, min_samples_split=3, n_estimators=1100; total time= 3.4min\n"
     ]
    },
    {
     "name": "stderr",
     "output_type": "stream",
     "text": [
      "Exception ignored in: <function ResourceTracker.__del__ at 0x105747880>\n",
      "Traceback (most recent call last):\n",
      "  File \"/Library/Frameworks/Python.framework/Versions/3.13/lib/python3.13/multiprocessing/resource_tracker.py\", line 82, in __del__\n",
      "  File \"/Library/Frameworks/Python.framework/Versions/3.13/lib/python3.13/multiprocessing/resource_tracker.py\", line 91, in _stop\n",
      "  File \"/Library/Frameworks/Python.framework/Versions/3.13/lib/python3.13/multiprocessing/resource_tracker.py\", line 116, in _stop_locked\n",
      "ChildProcessError: [Errno 10] No child processes\n"
     ]
    },
    {
     "name": "stdout",
     "output_type": "stream",
     "text": [
      "[CV] END bootstrap=False, criterion=gini, max_depth=20, max_features=0.5, min_samples_leaf=2, min_samples_split=3, n_estimators=1100; total time= 3.4min\n"
     ]
    },
    {
     "name": "stderr",
     "output_type": "stream",
     "text": [
      "Exception ignored in: <function ResourceTracker.__del__ at 0x106f47880>\n",
      "Traceback (most recent call last):\n",
      "  File \"/Library/Frameworks/Python.framework/Versions/3.13/lib/python3.13/multiprocessing/resource_tracker.py\", line 82, in __del__\n",
      "  File \"/Library/Frameworks/Python.framework/Versions/3.13/lib/python3.13/multiprocessing/resource_tracker.py\", line 91, in _stop\n",
      "  File \"/Library/Frameworks/Python.framework/Versions/3.13/lib/python3.13/multiprocessing/resource_tracker.py\", line 116, in _stop_locked\n",
      "ChildProcessError: [Errno 10] No child processes\n"
     ]
    },
    {
     "name": "stdout",
     "output_type": "stream",
     "text": [
      "[CV] END bootstrap=False, criterion=gini, max_depth=20, max_features=0.5, min_samples_leaf=2, min_samples_split=3, n_estimators=1100; total time= 3.4min\n",
      "[CV] END bootstrap=False, criterion=gini, max_depth=20, max_features=0.5, min_samples_leaf=2, min_samples_split=3, n_estimators=1100; total time= 3.4min\n"
     ]
    },
    {
     "name": "stderr",
     "output_type": "stream",
     "text": [
      "Exception ignored in: <function ResourceTracker.__del__ at 0x104593880>\n",
      "Traceback (most recent call last):\n",
      "  File \"/Library/Frameworks/Python.framework/Versions/3.13/lib/python3.13/multiprocessing/resource_tracker.py\", line 82, in __del__\n",
      "  File \"/Library/Frameworks/Python.framework/Versions/3.13/lib/python3.13/multiprocessing/resource_tracker.py\", line 91, in _stop\n",
      "  File \"/Library/Frameworks/Python.framework/Versions/3.13/lib/python3.13/multiprocessing/resource_tracker.py\", line 116, in _stop_locked\n",
      "ChildProcessError: [Errno 10] No child processes\n",
      "Exception ignored in: <function ResourceTracker.__del__ at 0x104647880>\n",
      "Traceback (most recent call last):\n",
      "  File \"/Library/Frameworks/Python.framework/Versions/3.13/lib/python3.13/multiprocessing/resource_tracker.py\", line 82, in __del__\n",
      "  File \"/Library/Frameworks/Python.framework/Versions/3.13/lib/python3.13/multiprocessing/resource_tracker.py\", line 91, in _stop\n",
      "  File \"/Library/Frameworks/Python.framework/Versions/3.13/lib/python3.13/multiprocessing/resource_tracker.py\", line 116, in _stop_locked\n",
      "ChildProcessError: [Errno 10] No child processes\n"
     ]
    },
    {
     "name": "stdout",
     "output_type": "stream",
     "text": [
      "[CV] END bootstrap=False, criterion=gini, max_depth=20, max_features=0.5, min_samples_leaf=2, min_samples_split=3, n_estimators=1100; total time= 3.4min\n",
      "[CV] END bootstrap=False, criterion=gini, max_depth=20, max_features=log2, min_samples_leaf=4, min_samples_split=3, n_estimators=800; total time=  45.5s\n",
      "[CV] END bootstrap=True, criterion=entropy, max_depth=10, max_features=None, min_samples_leaf=4, min_samples_split=3, n_estimators=200; total time=  30.4s\n",
      "[CV] END bootstrap=False, criterion=gini, max_depth=20, max_features=log2, min_samples_leaf=4, min_samples_split=3, n_estimators=800; total time=  46.9s\n",
      "[CV] END bootstrap=True, criterion=entropy, max_depth=20, max_features=0.7, min_samples_leaf=1, min_samples_split=2, n_estimators=300; total time=  51.8s\n",
      "[CV] END bootstrap=True, criterion=entropy, max_depth=20, max_features=0.7, min_samples_leaf=1, min_samples_split=2, n_estimators=300; total time=  52.9s\n",
      "[CV] END bootstrap=True, criterion=entropy, max_depth=5, max_features=auto, min_samples_leaf=1, min_samples_split=2, n_estimators=1100; total time=   0.0s\n",
      "[CV] END bootstrap=True, criterion=entropy, max_depth=5, max_features=auto, min_samples_leaf=1, min_samples_split=2, n_estimators=1100; total time=   0.0s\n",
      "[CV] END bootstrap=True, criterion=entropy, max_depth=5, max_features=auto, min_samples_leaf=1, min_samples_split=2, n_estimators=1100; total time=   0.0s\n",
      "[CV] END bootstrap=True, criterion=entropy, max_depth=5, max_features=auto, min_samples_leaf=1, min_samples_split=2, n_estimators=1100; total time=   0.0s\n",
      "[CV] END bootstrap=True, criterion=entropy, max_depth=5, max_features=auto, min_samples_leaf=1, min_samples_split=2, n_estimators=1100; total time=   0.0s\n",
      "[CV] END bootstrap=True, criterion=entropy, max_depth=20, max_features=0.7, min_samples_leaf=1, min_samples_split=2, n_estimators=300; total time=  53.6s\n",
      "[CV] END bootstrap=True, criterion=entropy, max_depth=20, max_features=0.7, min_samples_leaf=1, min_samples_split=2, n_estimators=300; total time=  54.0s\n",
      "[CV] END bootstrap=True, criterion=entropy, max_depth=20, max_features=0.7, min_samples_leaf=1, min_samples_split=2, n_estimators=300; total time=  54.5s\n",
      "[CV] END bootstrap=True, criterion=entropy, max_depth=10, max_features=None, min_samples_leaf=4, min_samples_split=3, n_estimators=200; total time=  30.4s\n",
      "[CV] END bootstrap=True, criterion=entropy, max_depth=10, max_features=None, min_samples_leaf=4, min_samples_split=3, n_estimators=200; total time=  30.2s\n",
      "[CV] END bootstrap=True, criterion=entropy, max_depth=None, max_features=auto, min_samples_leaf=4, min_samples_split=4, n_estimators=1200; total time=   0.0s\n",
      "[CV] END bootstrap=True, criterion=entropy, max_depth=None, max_features=auto, min_samples_leaf=4, min_samples_split=4, n_estimators=1200; total time=   0.0s\n",
      "[CV] END bootstrap=True, criterion=entropy, max_depth=None, max_features=auto, min_samples_leaf=4, min_samples_split=4, n_estimators=1200; total time=   0.0s\n",
      "[CV] END bootstrap=True, criterion=entropy, max_depth=None, max_features=auto, min_samples_leaf=4, min_samples_split=4, n_estimators=1200; total time=   0.0s\n",
      "[CV] END bootstrap=True, criterion=entropy, max_depth=None, max_features=auto, min_samples_leaf=4, min_samples_split=4, n_estimators=1200; total time=   0.0s\n",
      "[CV] END bootstrap=True, criterion=entropy, max_depth=10, max_features=None, min_samples_leaf=4, min_samples_split=3, n_estimators=200; total time=  30.4s\n",
      "[CV] END bootstrap=False, criterion=entropy, max_depth=5, max_features=0.3, min_samples_leaf=2, min_samples_split=4, n_estimators=500; total time=  18.8s\n",
      "[CV] END bootstrap=False, criterion=entropy, max_depth=5, max_features=0.3, min_samples_leaf=2, min_samples_split=4, n_estimators=500; total time=  18.7s\n",
      "[CV] END bootstrap=False, criterion=entropy, max_depth=5, max_features=0.3, min_samples_leaf=2, min_samples_split=4, n_estimators=500; total time=  18.9s\n",
      "[CV] END bootstrap=True, criterion=entropy, max_depth=10, max_features=None, min_samples_leaf=4, min_samples_split=3, n_estimators=200; total time=  30.2s\n",
      "[CV] END bootstrap=True, criterion=entropy, max_depth=15, max_features=auto, min_samples_leaf=4, min_samples_split=2, n_estimators=600; total time=   0.0s\n",
      "[CV] END bootstrap=True, criterion=entropy, max_depth=15, max_features=auto, min_samples_leaf=4, min_samples_split=2, n_estimators=600; total time=   0.0s\n",
      "[CV] END bootstrap=True, criterion=entropy, max_depth=15, max_features=auto, min_samples_leaf=4, min_samples_split=2, n_estimators=600; total time=   0.0s\n",
      "[CV] END bootstrap=False, criterion=entropy, max_depth=5, max_features=0.3, min_samples_leaf=2, min_samples_split=4, n_estimators=500; total time=  18.7s\n",
      "[CV] END bootstrap=True, criterion=entropy, max_depth=15, max_features=auto, min_samples_leaf=4, min_samples_split=2, n_estimators=600; total time=   0.0s\n",
      "[CV] END bootstrap=True, criterion=entropy, max_depth=15, max_features=auto, min_samples_leaf=4, min_samples_split=2, n_estimators=600; total time=   0.0s\n",
      "[CV] END bootstrap=False, criterion=entropy, max_depth=5, max_features=0.3, min_samples_leaf=2, min_samples_split=4, n_estimators=500; total time=  18.7s\n",
      "[CV] END bootstrap=True, criterion=gini, max_depth=10, max_features=log2, min_samples_leaf=1, min_samples_split=2, n_estimators=1200; total time=  32.9s\n",
      "[CV] END bootstrap=True, criterion=gini, max_depth=10, max_features=log2, min_samples_leaf=1, min_samples_split=2, n_estimators=1200; total time=  32.9s\n",
      "[CV] END bootstrap=True, criterion=gini, max_depth=10, max_features=log2, min_samples_leaf=1, min_samples_split=2, n_estimators=1200; total time=  32.5s\n",
      "[CV] END bootstrap=True, criterion=gini, max_depth=10, max_features=log2, min_samples_leaf=1, min_samples_split=2, n_estimators=1200; total time=  32.7s\n",
      "[CV] END bootstrap=True, criterion=gini, max_depth=10, max_features=log2, min_samples_leaf=1, min_samples_split=2, n_estimators=1200; total time=  32.6s\n",
      "[CV] END bootstrap=True, criterion=gini, max_depth=None, max_features=0.3, min_samples_leaf=2, min_samples_split=3, n_estimators=800; total time=  57.8s\n",
      "[CV] END bootstrap=True, criterion=gini, max_depth=None, max_features=0.3, min_samples_leaf=2, min_samples_split=3, n_estimators=800; total time=  57.9s\n"
     ]
    },
    {
     "name": "stderr",
     "output_type": "stream",
     "text": [
      "Exception ignored in: <function ResourceTracker.__del__ at 0x104d77880>\n",
      "Traceback (most recent call last):\n",
      "  File \"/Library/Frameworks/Python.framework/Versions/3.13/lib/python3.13/multiprocessing/resource_tracker.py\", line 82, in __del__\n",
      "  File \"/Library/Frameworks/Python.framework/Versions/3.13/lib/python3.13/multiprocessing/resource_tracker.py\", line 91, in _stop\n",
      "  File \"/Library/Frameworks/Python.framework/Versions/3.13/lib/python3.13/multiprocessing/resource_tracker.py\", line 116, in _stop_locked\n",
      "ChildProcessError: [Errno 10] No child processes\n",
      "Exception ignored in: <function ResourceTracker.__del__ at 0x1066a7880>\n",
      "Traceback (most recent call last):\n",
      "  File \"/Library/Frameworks/Python.framework/Versions/3.13/lib/python3.13/multiprocessing/resource_tracker.py\", line 82, in __del__\n",
      "  File \"/Library/Frameworks/Python.framework/Versions/3.13/lib/python3.13/multiprocessing/resource_tracker.py\", line 91, in _stop\n",
      "  File \"/Library/Frameworks/Python.framework/Versions/3.13/lib/python3.13/multiprocessing/resource_tracker.py\", line 116, in _stop_locked\n",
      "ChildProcessError: [Errno 10] No child processes\n"
     ]
    },
    {
     "name": "stdout",
     "output_type": "stream",
     "text": [
      "[CV] END bootstrap=True, criterion=gini, max_depth=None, max_features=0.3, min_samples_leaf=2, min_samples_split=3, n_estimators=800; total time=  56.6s\n"
     ]
    },
    {
     "name": "stderr",
     "output_type": "stream",
     "text": [
      "Exception ignored in: <function ResourceTracker.__del__ at 0x102a67880>\n",
      "Traceback (most recent call last):\n",
      "  File \"/Library/Frameworks/Python.framework/Versions/3.13/lib/python3.13/multiprocessing/resource_tracker.py\", line 82, in __del__\n",
      "  File \"/Library/Frameworks/Python.framework/Versions/3.13/lib/python3.13/multiprocessing/resource_tracker.py\", line 91, in _stop\n",
      "  File \"/Library/Frameworks/Python.framework/Versions/3.13/lib/python3.13/multiprocessing/resource_tracker.py\", line 116, in _stop_locked\n",
      "ChildProcessError: [Errno 10] No child processes\n"
     ]
    },
    {
     "name": "stdout",
     "output_type": "stream",
     "text": [
      "[CV] END bootstrap=True, criterion=gini, max_depth=None, max_features=0.3, min_samples_leaf=2, min_samples_split=3, n_estimators=800; total time=  55.1s\n"
     ]
    },
    {
     "name": "stderr",
     "output_type": "stream",
     "text": [
      "Exception ignored in: <function ResourceTracker.__del__ at 0x102757880>\n",
      "Traceback (most recent call last):\n",
      "  File \"/Library/Frameworks/Python.framework/Versions/3.13/lib/python3.13/multiprocessing/resource_tracker.py\", line 82, in __del__\n",
      "  File \"/Library/Frameworks/Python.framework/Versions/3.13/lib/python3.13/multiprocessing/resource_tracker.py\", line 91, in _stop\n",
      "  File \"/Library/Frameworks/Python.framework/Versions/3.13/lib/python3.13/multiprocessing/resource_tracker.py\", line 116, in _stop_locked\n",
      "ChildProcessError: [Errno 10] No child processes\n"
     ]
    },
    {
     "name": "stdout",
     "output_type": "stream",
     "text": [
      "[CV] END bootstrap=True, criterion=gini, max_depth=None, max_features=0.3, min_samples_leaf=2, min_samples_split=3, n_estimators=800; total time=  55.3s\n"
     ]
    },
    {
     "name": "stderr",
     "output_type": "stream",
     "text": [
      "Exception ignored in: <function ResourceTracker.__del__ at 0x106547880>\n",
      "Traceback (most recent call last):\n",
      "  File \"/Library/Frameworks/Python.framework/Versions/3.13/lib/python3.13/multiprocessing/resource_tracker.py\", line 82, in __del__\n",
      "  File \"/Library/Frameworks/Python.framework/Versions/3.13/lib/python3.13/multiprocessing/resource_tracker.py\", line 91, in _stop\n",
      "  File \"/Library/Frameworks/Python.framework/Versions/3.13/lib/python3.13/multiprocessing/resource_tracker.py\", line 116, in _stop_locked\n",
      "ChildProcessError: [Errno 10] No child processes\n"
     ]
    },
    {
     "name": "stdout",
     "output_type": "stream",
     "text": [
      "[CV] END bootstrap=False, criterion=gini, max_depth=15, max_features=0.5, min_samples_leaf=2, min_samples_split=3, n_estimators=800; total time= 2.1min\n"
     ]
    },
    {
     "name": "stderr",
     "output_type": "stream",
     "text": [
      "Exception ignored in: <function ResourceTracker.__del__ at 0x107047880>\n",
      "Traceback (most recent call last):\n",
      "  File \"/Library/Frameworks/Python.framework/Versions/3.13/lib/python3.13/multiprocessing/resource_tracker.py\", line 82, in __del__\n",
      "  File \"/Library/Frameworks/Python.framework/Versions/3.13/lib/python3.13/multiprocessing/resource_tracker.py\", line 91, in _stop\n",
      "  File \"/Library/Frameworks/Python.framework/Versions/3.13/lib/python3.13/multiprocessing/resource_tracker.py\", line 116, in _stop_locked\n",
      "ChildProcessError: [Errno 10] No child processes\n"
     ]
    },
    {
     "name": "stdout",
     "output_type": "stream",
     "text": [
      "[CV] END bootstrap=False, criterion=gini, max_depth=15, max_features=0.5, min_samples_leaf=2, min_samples_split=3, n_estimators=800; total time= 2.1min\n",
      "[CV] END bootstrap=False, criterion=gini, max_depth=15, max_features=0.5, min_samples_leaf=2, min_samples_split=3, n_estimators=800; total time= 2.1min\n"
     ]
    },
    {
     "name": "stderr",
     "output_type": "stream",
     "text": [
      "Exception ignored in: <function ResourceTracker.__del__ at 0x105147880>\n",
      "Traceback (most recent call last):\n",
      "  File \"/Library/Frameworks/Python.framework/Versions/3.13/lib/python3.13/multiprocessing/resource_tracker.py\", line 82, in __del__\n",
      "  File \"/Library/Frameworks/Python.framework/Versions/3.13/lib/python3.13/multiprocessing/resource_tracker.py\", line 91, in _stop\n",
      "  File \"/Library/Frameworks/Python.framework/Versions/3.13/lib/python3.13/multiprocessing/resource_tracker.py\", line 116, in _stop_locked\n",
      "ChildProcessError: [Errno 10] No child processes\n",
      "Exception ignored in: <function ResourceTracker.__del__ at 0x106f6f880>\n",
      "Traceback (most recent call last):\n",
      "  File \"/Library/Frameworks/Python.framework/Versions/3.13/lib/python3.13/multiprocessing/resource_tracker.py\", line 82, in __del__\n",
      "  File \"/Library/Frameworks/Python.framework/Versions/3.13/lib/python3.13/multiprocessing/resource_tracker.py\", line 91, in _stop\n",
      "  File \"/Library/Frameworks/Python.framework/Versions/3.13/lib/python3.13/multiprocessing/resource_tracker.py\", line 116, in _stop_locked\n",
      "ChildProcessError: [Errno 10] No child processes\n"
     ]
    },
    {
     "name": "stdout",
     "output_type": "stream",
     "text": [
      "[CV] END bootstrap=False, criterion=entropy, max_depth=5, max_features=None, min_samples_leaf=4, min_samples_split=2, n_estimators=900; total time= 1.8min\n",
      "[CV] END bootstrap=False, criterion=gini, max_depth=15, max_features=0.5, min_samples_leaf=2, min_samples_split=3, n_estimators=800; total time= 2.1min\n",
      "[CV] END bootstrap=False, criterion=gini, max_depth=15, max_features=0.5, min_samples_leaf=2, min_samples_split=3, n_estimators=800; total time= 2.1min\n",
      "[CV] END bootstrap=False, criterion=entropy, max_depth=5, max_features=None, min_samples_leaf=4, min_samples_split=2, n_estimators=900; total time= 1.8min\n",
      "[CV] END bootstrap=False, criterion=entropy, max_depth=5, max_features=None, min_samples_leaf=4, min_samples_split=2, n_estimators=900; total time= 1.8min\n",
      "[CV] END bootstrap=False, criterion=gini, max_depth=15, max_features=0.7, min_samples_leaf=4, min_samples_split=3, n_estimators=400; total time= 1.5min\n",
      "[CV] END bootstrap=False, criterion=gini, max_depth=15, max_features=0.7, min_samples_leaf=4, min_samples_split=3, n_estimators=400; total time= 1.4min\n",
      "[CV] END bootstrap=False, criterion=entropy, max_depth=5, max_features=None, min_samples_leaf=4, min_samples_split=2, n_estimators=900; total time= 1.9min\n",
      "[CV] END bootstrap=False, criterion=entropy, max_depth=5, max_features=None, min_samples_leaf=4, min_samples_split=2, n_estimators=900; total time= 1.9min\n",
      "[CV] END bootstrap=False, criterion=gini, max_depth=15, max_features=0.7, min_samples_leaf=4, min_samples_split=3, n_estimators=400; total time= 1.5min\n",
      "[CV] END bootstrap=False, criterion=gini, max_depth=15, max_features=0.7, min_samples_leaf=4, min_samples_split=3, n_estimators=400; total time= 1.4min\n",
      "[CV] END bootstrap=False, criterion=gini, max_depth=15, max_features=0.7, min_samples_leaf=4, min_samples_split=3, n_estimators=400; total time= 1.4min\n",
      "[CV] END bootstrap=False, criterion=gini, max_depth=5, max_features=log2, min_samples_leaf=1, min_samples_split=2, n_estimators=1100; total time=  26.3s\n",
      "[CV] END bootstrap=False, criterion=gini, max_depth=5, max_features=log2, min_samples_leaf=1, min_samples_split=2, n_estimators=1100; total time=  26.2s\n",
      "[CV] END bootstrap=False, criterion=gini, max_depth=5, max_features=log2, min_samples_leaf=1, min_samples_split=2, n_estimators=1100; total time=  25.0s\n",
      "[CV] END bootstrap=True, criterion=gini, max_depth=10, max_features=None, min_samples_leaf=2, min_samples_split=4, n_estimators=800; total time= 1.9min\n",
      "[CV] END bootstrap=False, criterion=gini, max_depth=5, max_features=log2, min_samples_leaf=1, min_samples_split=2, n_estimators=1100; total time=  26.1s\n",
      "[CV] END bootstrap=False, criterion=gini, max_depth=5, max_features=log2, min_samples_leaf=1, min_samples_split=2, n_estimators=1100; total time=  25.9s\n",
      "[CV] END bootstrap=True, criterion=entropy, max_depth=10, max_features=log2, min_samples_leaf=2, min_samples_split=3, n_estimators=900; total time=  26.0s\n",
      "[CV] END bootstrap=True, criterion=entropy, max_depth=10, max_features=log2, min_samples_leaf=2, min_samples_split=3, n_estimators=900; total time=  26.0s\n",
      "[CV] END bootstrap=True, criterion=entropy, max_depth=10, max_features=log2, min_samples_leaf=2, min_samples_split=3, n_estimators=900; total time=  26.5s\n",
      "[CV] END bootstrap=True, criterion=entropy, max_depth=10, max_features=log2, min_samples_leaf=2, min_samples_split=3, n_estimators=900; total time=  26.5s\n",
      "[CV] END bootstrap=True, criterion=entropy, max_depth=10, max_features=log2, min_samples_leaf=2, min_samples_split=3, n_estimators=900; total time=  26.1s\n",
      "[CV] END bootstrap=True, criterion=gini, max_depth=10, max_features=None, min_samples_leaf=2, min_samples_split=4, n_estimators=800; total time= 1.9min\n",
      "[CV] END bootstrap=True, criterion=gini, max_depth=10, max_features=None, min_samples_leaf=2, min_samples_split=4, n_estimators=800; total time= 1.9min\n",
      "[CV] END bootstrap=False, criterion=gini, max_depth=5, max_features=0.3, min_samples_leaf=2, min_samples_split=4, n_estimators=1100; total time=  39.5s\n",
      "[CV] END bootstrap=True, criterion=gini, max_depth=10, max_features=None, min_samples_leaf=2, min_samples_split=4, n_estimators=800; total time= 1.9min\n",
      "[CV] END bootstrap=True, criterion=gini, max_depth=10, max_features=None, min_samples_leaf=2, min_samples_split=4, n_estimators=800; total time= 1.9min\n",
      "[CV] END bootstrap=False, criterion=gini, max_depth=5, max_features=0.3, min_samples_leaf=2, min_samples_split=4, n_estimators=1100; total time=  40.8s\n",
      "[CV] END bootstrap=False, criterion=gini, max_depth=5, max_features=0.3, min_samples_leaf=2, min_samples_split=4, n_estimators=1100; total time=  40.7s\n",
      "[CV] END bootstrap=False, criterion=gini, max_depth=5, max_features=0.3, min_samples_leaf=2, min_samples_split=4, n_estimators=1100; total time=  39.7s\n",
      "[CV] END bootstrap=False, criterion=gini, max_depth=5, max_features=0.3, min_samples_leaf=2, min_samples_split=4, n_estimators=1100; total time=  39.7s\n",
      "[CV] END bootstrap=True, criterion=gini, max_depth=20, max_features=0.3, min_samples_leaf=4, min_samples_split=2, n_estimators=200; total time=  13.1s\n",
      "[CV] END bootstrap=True, criterion=gini, max_depth=20, max_features=0.3, min_samples_leaf=4, min_samples_split=2, n_estimators=200; total time=  12.8s\n",
      "[CV] END bootstrap=True, criterion=gini, max_depth=20, max_features=0.3, min_samples_leaf=4, min_samples_split=2, n_estimators=200; total time=  13.0s\n",
      "[CV] END bootstrap=True, criterion=gini, max_depth=20, max_features=0.3, min_samples_leaf=4, min_samples_split=2, n_estimators=200; total time=  13.0s\n",
      "[CV] END bootstrap=True, criterion=gini, max_depth=20, max_features=0.3, min_samples_leaf=4, min_samples_split=2, n_estimators=200; total time=  13.0s\n"
     ]
    },
    {
     "name": "stderr",
     "output_type": "stream",
     "text": [
      "Exception ignored in: <function ResourceTracker.__del__ at 0x106047880>\n",
      "Traceback (most recent call last):\n",
      "  File \"/Library/Frameworks/Python.framework/Versions/3.13/lib/python3.13/multiprocessing/resource_tracker.py\", line 82, in __del__\n",
      "  File \"/Library/Frameworks/Python.framework/Versions/3.13/lib/python3.13/multiprocessing/resource_tracker.py\", line 91, in _stop\n",
      "  File \"/Library/Frameworks/Python.framework/Versions/3.13/lib/python3.13/multiprocessing/resource_tracker.py\", line 116, in _stop_locked\n",
      "ChildProcessError: [Errno 10] No child processes\n"
     ]
    },
    {
     "name": "stdout",
     "output_type": "stream",
     "text": [
      "[CV] END bootstrap=False, criterion=gini, max_depth=5, max_features=0.3, min_samples_leaf=4, min_samples_split=2, n_estimators=1200; total time=  43.4s\n",
      "[CV] END bootstrap=False, criterion=gini, max_depth=5, max_features=0.3, min_samples_leaf=4, min_samples_split=2, n_estimators=1200; total time=  42.9s\n",
      "[CV] END bootstrap=False, criterion=gini, max_depth=5, max_features=0.3, min_samples_leaf=4, min_samples_split=2, n_estimators=1200; total time=  42.5s\n",
      "[CV] END bootstrap=False, criterion=gini, max_depth=5, max_features=0.3, min_samples_leaf=4, min_samples_split=2, n_estimators=1200; total time=  42.4s\n",
      "[CV] END bootstrap=False, criterion=gini, max_depth=5, max_features=0.3, min_samples_leaf=4, min_samples_split=2, n_estimators=1200; total time=  43.3s\n",
      "[CV] END bootstrap=True, criterion=entropy, max_depth=20, max_features=sqrt, min_samples_leaf=4, min_samples_split=4, n_estimators=600; total time=  31.1s\n"
     ]
    },
    {
     "name": "stderr",
     "output_type": "stream",
     "text": [
      "Exception ignored in: <function ResourceTracker.__del__ at 0x105a47880>\n",
      "Traceback (most recent call last):\n",
      "  File \"/Library/Frameworks/Python.framework/Versions/3.13/lib/python3.13/multiprocessing/resource_tracker.py\", line 82, in __del__\n",
      "  File \"/Library/Frameworks/Python.framework/Versions/3.13/lib/python3.13/multiprocessing/resource_tracker.py\", line 91, in _stop\n",
      "  File \"/Library/Frameworks/Python.framework/Versions/3.13/lib/python3.13/multiprocessing/resource_tracker.py\", line 116, in _stop_locked\n",
      "ChildProcessError: [Errno 10] No child processes\n"
     ]
    },
    {
     "name": "stdout",
     "output_type": "stream",
     "text": [
      "[CV] END bootstrap=True, criterion=entropy, max_depth=20, max_features=sqrt, min_samples_leaf=4, min_samples_split=4, n_estimators=600; total time=  30.8s\n",
      "[CV] END bootstrap=True, criterion=entropy, max_depth=20, max_features=sqrt, min_samples_leaf=4, min_samples_split=4, n_estimators=600; total time=  30.2s\n",
      "[CV] END bootstrap=True, criterion=entropy, max_depth=20, max_features=sqrt, min_samples_leaf=4, min_samples_split=4, n_estimators=600; total time=  30.4s\n"
     ]
    },
    {
     "name": "stderr",
     "output_type": "stream",
     "text": [
      "Exception ignored in: <function ResourceTracker.__del__ at 0x1062f3880>\n",
      "Traceback (most recent call last):\n",
      "  File \"/Library/Frameworks/Python.framework/Versions/3.13/lib/python3.13/multiprocessing/resource_tracker.py\", line 82, in __del__\n",
      "  File \"/Library/Frameworks/Python.framework/Versions/3.13/lib/python3.13/multiprocessing/resource_tracker.py\", line 91, in _stop\n",
      "  File \"/Library/Frameworks/Python.framework/Versions/3.13/lib/python3.13/multiprocessing/resource_tracker.py\", line 116, in _stop_locked\n",
      "ChildProcessError: [Errno 10] No child processes\n",
      "Exception ignored in: <function ResourceTracker.__del__ at 0x10749f880>\n",
      "Traceback (most recent call last):\n",
      "  File \"/Library/Frameworks/Python.framework/Versions/3.13/lib/python3.13/multiprocessing/resource_tracker.py\", line 82, in __del__\n",
      "  File \"/Library/Frameworks/Python.framework/Versions/3.13/lib/python3.13/multiprocessing/resource_tracker.py\", line 91, in _stop\n",
      "  File \"/Library/Frameworks/Python.framework/Versions/3.13/lib/python3.13/multiprocessing/resource_tracker.py\", line 116, in _stop_locked\n",
      "ChildProcessError: [Errno 10] No child processes\n"
     ]
    },
    {
     "name": "stdout",
     "output_type": "stream",
     "text": [
      "[CV] END bootstrap=True, criterion=entropy, max_depth=20, max_features=sqrt, min_samples_leaf=4, min_samples_split=4, n_estimators=600; total time=  29.7s\n",
      "[CV] END bootstrap=True, criterion=gini, max_depth=10, max_features=log2, min_samples_leaf=2, min_samples_split=2, n_estimators=300; total time=   8.2s\n",
      "[CV] END bootstrap=True, criterion=gini, max_depth=10, max_features=log2, min_samples_leaf=2, min_samples_split=2, n_estimators=300; total time=   8.1s\n",
      "[CV] END bootstrap=True, criterion=gini, max_depth=10, max_features=log2, min_samples_leaf=2, min_samples_split=2, n_estimators=300; total time=   8.1s\n",
      "[CV] END bootstrap=True, criterion=gini, max_depth=10, max_features=log2, min_samples_leaf=2, min_samples_split=2, n_estimators=300; total time=   8.2s\n",
      "[CV] END bootstrap=True, criterion=gini, max_depth=10, max_features=log2, min_samples_leaf=2, min_samples_split=2, n_estimators=300; total time=   8.0s\n",
      "[CV] END bootstrap=True, criterion=entropy, max_depth=15, max_features=0.3, min_samples_leaf=4, min_samples_split=3, n_estimators=1100; total time= 1.1min\n"
     ]
    },
    {
     "name": "stderr",
     "output_type": "stream",
     "text": [
      "Exception ignored in: <function ResourceTracker.__del__ at 0x104447880>\n",
      "Traceback (most recent call last):\n",
      "  File \"/Library/Frameworks/Python.framework/Versions/3.13/lib/python3.13/multiprocessing/resource_tracker.py\", line 82, in __del__\n",
      "  File \"/Library/Frameworks/Python.framework/Versions/3.13/lib/python3.13/multiprocessing/resource_tracker.py\", line 91, in _stop\n",
      "  File \"/Library/Frameworks/Python.framework/Versions/3.13/lib/python3.13/multiprocessing/resource_tracker.py\", line 116, in _stop_locked\n",
      "ChildProcessError: [Errno 10] No child processes\n"
     ]
    },
    {
     "name": "stdout",
     "output_type": "stream",
     "text": [
      "[CV] END bootstrap=True, criterion=entropy, max_depth=15, max_features=0.3, min_samples_leaf=4, min_samples_split=3, n_estimators=1100; total time= 1.1min\n"
     ]
    },
    {
     "name": "stderr",
     "output_type": "stream",
     "text": [
      "Exception ignored in: <function ResourceTracker.__del__ at 0x110147880>\n",
      "Traceback (most recent call last):\n",
      "  File \"/Library/Frameworks/Python.framework/Versions/3.13/lib/python3.13/multiprocessing/resource_tracker.py\", line 82, in __del__\n",
      "  File \"/Library/Frameworks/Python.framework/Versions/3.13/lib/python3.13/multiprocessing/resource_tracker.py\", line 91, in _stop\n",
      "  File \"/Library/Frameworks/Python.framework/Versions/3.13/lib/python3.13/multiprocessing/resource_tracker.py\", line 116, in _stop_locked\n",
      "ChildProcessError: [Errno 10] No child processes\n"
     ]
    },
    {
     "name": "stdout",
     "output_type": "stream",
     "text": [
      "[CV] END bootstrap=True, criterion=gini, max_depth=10, max_features=sqrt, min_samples_leaf=4, min_samples_split=3, n_estimators=1100; total time=  33.7s\n",
      "[CV] END bootstrap=True, criterion=entropy, max_depth=15, max_features=0.3, min_samples_leaf=4, min_samples_split=3, n_estimators=1100; total time= 1.1min\n",
      "[CV] END bootstrap=True, criterion=gini, max_depth=10, max_features=sqrt, min_samples_leaf=4, min_samples_split=3, n_estimators=1100; total time=  33.4s\n",
      "[CV] END bootstrap=True, criterion=gini, max_depth=10, max_features=sqrt, min_samples_leaf=4, min_samples_split=3, n_estimators=1100; total time=  34.4s\n",
      "[CV] END bootstrap=True, criterion=entropy, max_depth=15, max_features=0.3, min_samples_leaf=4, min_samples_split=3, n_estimators=1100; total time= 1.1min\n",
      "[CV] END bootstrap=True, criterion=entropy, max_depth=15, max_features=0.3, min_samples_leaf=4, min_samples_split=3, n_estimators=1100; total time= 1.1min\n",
      "[CV] END bootstrap=True, criterion=gini, max_depth=None, max_features=0.3, min_samples_leaf=2, min_samples_split=4, n_estimators=400; total time=  28.8s\n"
     ]
    },
    {
     "name": "stderr",
     "output_type": "stream",
     "text": [
      "Exception ignored in: <function ResourceTracker.__del__ at 0x107f47880>\n",
      "Traceback (most recent call last):\n",
      "  File \"/Library/Frameworks/Python.framework/Versions/3.13/lib/python3.13/multiprocessing/resource_tracker.py\", line 82, in __del__\n",
      "  File \"/Library/Frameworks/Python.framework/Versions/3.13/lib/python3.13/multiprocessing/resource_tracker.py\", line 91, in _stop\n",
      "  File \"/Library/Frameworks/Python.framework/Versions/3.13/lib/python3.13/multiprocessing/resource_tracker.py\", line 116, in _stop_locked\n",
      "ChildProcessError: [Errno 10] No child processes\n"
     ]
    },
    {
     "name": "stdout",
     "output_type": "stream",
     "text": [
      "[CV] END bootstrap=True, criterion=gini, max_depth=None, max_features=0.3, min_samples_leaf=2, min_samples_split=4, n_estimators=400; total time=  28.9s\n",
      "[CV] END bootstrap=True, criterion=gini, max_depth=10, max_features=sqrt, min_samples_leaf=4, min_samples_split=3, n_estimators=1100; total time=  34.5s\n",
      "[CV] END bootstrap=True, criterion=gini, max_depth=10, max_features=sqrt, min_samples_leaf=4, min_samples_split=3, n_estimators=1100; total time=  34.4s\n",
      "[CV] END bootstrap=True, criterion=gini, max_depth=None, max_features=0.3, min_samples_leaf=2, min_samples_split=4, n_estimators=400; total time=  28.0s\n",
      "[CV] END bootstrap=True, criterion=gini, max_depth=None, max_features=0.3, min_samples_leaf=2, min_samples_split=4, n_estimators=400; total time=  27.7s\n"
     ]
    },
    {
     "name": "stderr",
     "output_type": "stream",
     "text": [
      "Exception ignored in: <function ResourceTracker.__del__ at 0x108047880>\n",
      "Traceback (most recent call last):\n",
      "  File \"/Library/Frameworks/Python.framework/Versions/3.13/lib/python3.13/multiprocessing/resource_tracker.py\", line 82, in __del__\n",
      "  File \"/Library/Frameworks/Python.framework/Versions/3.13/lib/python3.13/multiprocessing/resource_tracker.py\", line 91, in _stop\n",
      "  File \"/Library/Frameworks/Python.framework/Versions/3.13/lib/python3.13/multiprocessing/resource_tracker.py\", line 116, in _stop_locked\n",
      "ChildProcessError: [Errno 10] No child processes\n"
     ]
    },
    {
     "name": "stdout",
     "output_type": "stream",
     "text": [
      "[CV] END bootstrap=False, criterion=gini, max_depth=20, max_features=auto, min_samples_leaf=1, min_samples_split=3, n_estimators=100; total time=   0.0s\n",
      "[CV] END bootstrap=False, criterion=gini, max_depth=20, max_features=auto, min_samples_leaf=1, min_samples_split=3, n_estimators=100; total time=   0.0s\n",
      "[CV] END bootstrap=False, criterion=gini, max_depth=20, max_features=auto, min_samples_leaf=1, min_samples_split=3, n_estimators=100; total time=   0.0s\n",
      "[CV] END bootstrap=False, criterion=gini, max_depth=20, max_features=auto, min_samples_leaf=1, min_samples_split=3, n_estimators=100; total time=   0.0s\n",
      "[CV] END bootstrap=False, criterion=gini, max_depth=20, max_features=auto, min_samples_leaf=1, min_samples_split=3, n_estimators=100; total time=   0.0s\n",
      "[CV] END bootstrap=True, criterion=gini, max_depth=None, max_features=0.3, min_samples_leaf=2, min_samples_split=4, n_estimators=400; total time=  27.1s\n"
     ]
    },
    {
     "name": "stderr",
     "output_type": "stream",
     "text": [
      "Exception ignored in: <function ResourceTracker.__del__ at 0x107847880>\n",
      "Traceback (most recent call last):\n",
      "  File \"/Library/Frameworks/Python.framework/Versions/3.13/lib/python3.13/multiprocessing/resource_tracker.py\", line 82, in __del__\n",
      "  File \"/Library/Frameworks/Python.framework/Versions/3.13/lib/python3.13/multiprocessing/resource_tracker.py\", line 91, in _stop\n",
      "  File \"/Library/Frameworks/Python.framework/Versions/3.13/lib/python3.13/multiprocessing/resource_tracker.py\", line 116, in _stop_locked\n",
      "ChildProcessError: [Errno 10] No child processes\n"
     ]
    },
    {
     "name": "stdout",
     "output_type": "stream",
     "text": [
      "[CV] END bootstrap=False, criterion=gini, max_depth=15, max_features=0.5, min_samples_leaf=2, min_samples_split=3, n_estimators=200; total time=  29.6s\n",
      "[CV] END bootstrap=False, criterion=gini, max_depth=15, max_features=0.5, min_samples_leaf=2, min_samples_split=3, n_estimators=200; total time=  29.2s\n",
      "[CV] END bootstrap=False, criterion=gini, max_depth=15, max_features=0.5, min_samples_leaf=2, min_samples_split=3, n_estimators=200; total time=  29.7s\n",
      "[CV] END bootstrap=False, criterion=gini, max_depth=15, max_features=0.5, min_samples_leaf=2, min_samples_split=3, n_estimators=200; total time=  29.4s\n",
      "[CV] END bootstrap=False, criterion=gini, max_depth=15, max_features=0.5, min_samples_leaf=2, min_samples_split=3, n_estimators=200; total time=  29.8s\n",
      "[CV] END bootstrap=True, criterion=gini, max_depth=5, max_features=sqrt, min_samples_leaf=2, min_samples_split=3, n_estimators=300; total time=   6.1s\n",
      "[CV] END bootstrap=True, criterion=gini, max_depth=5, max_features=sqrt, min_samples_leaf=2, min_samples_split=3, n_estimators=300; total time=   5.5s\n",
      "[CV] END bootstrap=True, criterion=gini, max_depth=5, max_features=sqrt, min_samples_leaf=2, min_samples_split=3, n_estimators=300; total time=   5.7s\n",
      "[CV] END bootstrap=True, criterion=gini, max_depth=5, max_features=sqrt, min_samples_leaf=2, min_samples_split=3, n_estimators=300; total time=   5.9s\n",
      "[CV] END bootstrap=True, criterion=gini, max_depth=5, max_features=sqrt, min_samples_leaf=2, min_samples_split=3, n_estimators=300; total time=   5.7s\n",
      "[CV] END bootstrap=False, criterion=gini, max_depth=5, max_features=0.7, min_samples_leaf=2, min_samples_split=2, n_estimators=100; total time=   8.4s\n",
      "[CV] END bootstrap=False, criterion=gini, max_depth=5, max_features=0.7, min_samples_leaf=2, min_samples_split=2, n_estimators=100; total time=   8.4s\n",
      "[CV] END bootstrap=False, criterion=gini, max_depth=5, max_features=0.7, min_samples_leaf=2, min_samples_split=2, n_estimators=100; total time=   8.3s\n",
      "[CV] END bootstrap=True, criterion=entropy, max_depth=10, max_features=log2, min_samples_leaf=1, min_samples_split=4, n_estimators=100; total time=   2.8s\n",
      "[CV] END bootstrap=True, criterion=entropy, max_depth=10, max_features=log2, min_samples_leaf=1, min_samples_split=4, n_estimators=100; total time=   2.7s\n",
      "[CV] END bootstrap=False, criterion=gini, max_depth=5, max_features=0.7, min_samples_leaf=2, min_samples_split=2, n_estimators=100; total time=   8.3s\n",
      "[CV] END bootstrap=False, criterion=gini, max_depth=5, max_features=0.7, min_samples_leaf=2, min_samples_split=2, n_estimators=100; total time=   8.5s\n",
      "[CV] END bootstrap=True, criterion=entropy, max_depth=10, max_features=log2, min_samples_leaf=1, min_samples_split=4, n_estimators=100; total time=   2.7s\n",
      "[CV] END bootstrap=True, criterion=entropy, max_depth=10, max_features=log2, min_samples_leaf=1, min_samples_split=4, n_estimators=100; total time=   2.8s\n",
      "[CV] END bootstrap=True, criterion=entropy, max_depth=10, max_features=log2, min_samples_leaf=1, min_samples_split=4, n_estimators=100; total time=   2.9s\n",
      "[CV] END bootstrap=True, criterion=entropy, max_depth=20, max_features=sqrt, min_samples_leaf=2, min_samples_split=4, n_estimators=200; total time=  11.1s\n",
      "[CV] END bootstrap=True, criterion=entropy, max_depth=20, max_features=sqrt, min_samples_leaf=2, min_samples_split=4, n_estimators=200; total time=  11.3s\n",
      "[CV] END bootstrap=True, criterion=entropy, max_depth=20, max_features=sqrt, min_samples_leaf=2, min_samples_split=4, n_estimators=200; total time=  11.2s\n",
      "[CV] END bootstrap=True, criterion=entropy, max_depth=20, max_features=sqrt, min_samples_leaf=2, min_samples_split=4, n_estimators=200; total time=  11.3s\n",
      "[CV] END bootstrap=True, criterion=entropy, max_depth=20, max_features=sqrt, min_samples_leaf=2, min_samples_split=4, n_estimators=200; total time=  11.3s\n",
      "[CV] END bootstrap=False, criterion=entropy, max_depth=10, max_features=0.3, min_samples_leaf=1, min_samples_split=3, n_estimators=600; total time=  42.4s\n",
      "[CV] END bootstrap=False, criterion=entropy, max_depth=10, max_features=0.3, min_samples_leaf=1, min_samples_split=3, n_estimators=600; total time=  41.7s\n",
      "[CV] END bootstrap=False, criterion=entropy, max_depth=10, max_features=0.3, min_samples_leaf=1, min_samples_split=3, n_estimators=600; total time=  41.8s\n",
      "[CV] END bootstrap=False, criterion=entropy, max_depth=10, max_features=0.3, min_samples_leaf=1, min_samples_split=3, n_estimators=600; total time=  41.9s\n",
      "[CV] END bootstrap=False, criterion=entropy, max_depth=10, max_features=0.3, min_samples_leaf=1, min_samples_split=3, n_estimators=600; total time=  41.4s\n",
      "[CV] END bootstrap=False, criterion=entropy, max_depth=None, max_features=0.5, min_samples_leaf=4, min_samples_split=2, n_estimators=800; total time= 3.1min\n"
     ]
    },
    {
     "name": "stderr",
     "output_type": "stream",
     "text": [
      "Exception ignored in: <function ResourceTracker.__del__ at 0x107747880>\n",
      "Traceback (most recent call last):\n",
      "  File \"/Library/Frameworks/Python.framework/Versions/3.13/lib/python3.13/multiprocessing/resource_tracker.py\", line 82, in __del__\n",
      "  File \"/Library/Frameworks/Python.framework/Versions/3.13/lib/python3.13/multiprocessing/resource_tracker.py\", line 91, in _stop\n",
      "  File \"/Library/Frameworks/Python.framework/Versions/3.13/lib/python3.13/multiprocessing/resource_tracker.py\", line 116, in _stop_locked\n",
      "ChildProcessError: [Errno 10] No child processes\n"
     ]
    },
    {
     "name": "stdout",
     "output_type": "stream",
     "text": [
      "[CV] END bootstrap=False, criterion=entropy, max_depth=None, max_features=0.5, min_samples_leaf=4, min_samples_split=2, n_estimators=800; total time= 3.1min\n",
      "[CV] END bootstrap=False, criterion=entropy, max_depth=None, max_features=0.5, min_samples_leaf=4, min_samples_split=2, n_estimators=800; total time= 3.1min\n",
      "[CV] END bootstrap=False, criterion=entropy, max_depth=None, max_features=0.5, min_samples_leaf=4, min_samples_split=2, n_estimators=800; total time= 3.0min\n"
     ]
    },
    {
     "name": "stderr",
     "output_type": "stream",
     "text": [
      "Exception ignored in: <function ResourceTracker.__del__ at 0x1062bf880>\n",
      "Traceback (most recent call last):\n",
      "  File \"/Library/Frameworks/Python.framework/Versions/3.13/lib/python3.13/multiprocessing/resource_tracker.py\", line 82, in __del__\n",
      "  File \"/Library/Frameworks/Python.framework/Versions/3.13/lib/python3.13/multiprocessing/resource_tracker.py\", line 91, in _stop\n",
      "  File \"/Library/Frameworks/Python.framework/Versions/3.13/lib/python3.13/multiprocessing/resource_tracker.py\", line 116, in _stop_locked\n",
      "ChildProcessError: [Errno 10] No child processes\n"
     ]
    },
    {
     "name": "stdout",
     "output_type": "stream",
     "text": [
      "[CV] END bootstrap=False, criterion=entropy, max_depth=15, max_features=auto, min_samples_leaf=4, min_samples_split=3, n_estimators=400; total time=   0.0s\n",
      "[CV] END bootstrap=False, criterion=entropy, max_depth=15, max_features=auto, min_samples_leaf=4, min_samples_split=3, n_estimators=400; total time=   0.0s\n",
      "[CV] END bootstrap=False, criterion=entropy, max_depth=15, max_features=auto, min_samples_leaf=4, min_samples_split=3, n_estimators=400; total time=   0.0s\n",
      "[CV] END bootstrap=False, criterion=entropy, max_depth=15, max_features=auto, min_samples_leaf=4, min_samples_split=3, n_estimators=400; total time=   0.0s\n",
      "[CV] END bootstrap=False, criterion=entropy, max_depth=15, max_features=auto, min_samples_leaf=4, min_samples_split=3, n_estimators=400; total time=   0.0s\n",
      "[CV] END bootstrap=True, criterion=gini, max_depth=10, max_features=auto, min_samples_leaf=2, min_samples_split=4, n_estimators=400; total time=   0.0s\n",
      "[CV] END bootstrap=True, criterion=gini, max_depth=10, max_features=auto, min_samples_leaf=2, min_samples_split=4, n_estimators=400; total time=   0.0s\n",
      "[CV] END bootstrap=True, criterion=gini, max_depth=10, max_features=auto, min_samples_leaf=2, min_samples_split=4, n_estimators=400; total time=   0.0s\n",
      "[CV] END bootstrap=True, criterion=gini, max_depth=10, max_features=auto, min_samples_leaf=2, min_samples_split=4, n_estimators=400; total time=   0.0s\n",
      "[CV] END bootstrap=True, criterion=gini, max_depth=10, max_features=auto, min_samples_leaf=2, min_samples_split=4, n_estimators=400; total time=   0.0s\n",
      "[CV] END bootstrap=True, criterion=gini, max_depth=10, max_features=0.7, min_samples_leaf=2, min_samples_split=2, n_estimators=100; total time=   9.6s\n",
      "[CV] END bootstrap=False, criterion=entropy, max_depth=None, max_features=0.5, min_samples_leaf=4, min_samples_split=2, n_estimators=800; total time= 3.1min\n"
     ]
    },
    {
     "name": "stderr",
     "output_type": "stream",
     "text": [
      "Exception ignored in: <function ResourceTracker.__del__ at 0x105547880>\n",
      "Traceback (most recent call last):\n",
      "  File \"/Library/Frameworks/Python.framework/Versions/3.13/lib/python3.13/multiprocessing/resource_tracker.py\", line 82, in __del__\n",
      "  File \"/Library/Frameworks/Python.framework/Versions/3.13/lib/python3.13/multiprocessing/resource_tracker.py\", line 91, in _stop\n",
      "  File \"/Library/Frameworks/Python.framework/Versions/3.13/lib/python3.13/multiprocessing/resource_tracker.py\", line 116, in _stop_locked\n",
      "ChildProcessError: [Errno 10] No child processes\n"
     ]
    },
    {
     "name": "stdout",
     "output_type": "stream",
     "text": [
      "[CV] END bootstrap=True, criterion=gini, max_depth=10, max_features=0.7, min_samples_leaf=2, min_samples_split=2, n_estimators=100; total time=   9.6s\n",
      "[CV] END bootstrap=True, criterion=gini, max_depth=10, max_features=0.7, min_samples_leaf=2, min_samples_split=2, n_estimators=100; total time=   9.2s\n",
      "[CV] END bootstrap=True, criterion=gini, max_depth=10, max_features=0.7, min_samples_leaf=2, min_samples_split=2, n_estimators=100; total time=   9.6s\n",
      "[CV] END bootstrap=True, criterion=gini, max_depth=10, max_features=0.7, min_samples_leaf=2, min_samples_split=2, n_estimators=100; total time=  10.0s\n",
      "[CV] END bootstrap=True, criterion=entropy, max_depth=5, max_features=0.7, min_samples_leaf=4, min_samples_split=4, n_estimators=1000; total time=  58.6s\n",
      "[CV] END bootstrap=True, criterion=entropy, max_depth=5, max_features=0.7, min_samples_leaf=4, min_samples_split=4, n_estimators=1000; total time=  57.3s\n",
      "[CV] END bootstrap=True, criterion=entropy, max_depth=5, max_features=0.7, min_samples_leaf=4, min_samples_split=4, n_estimators=1000; total time=  57.9s\n",
      "[CV] END bootstrap=True, criterion=entropy, max_depth=15, max_features=0.3, min_samples_leaf=4, min_samples_split=3, n_estimators=400; total time=  25.0s\n",
      "[CV] END bootstrap=True, criterion=entropy, max_depth=5, max_features=0.7, min_samples_leaf=4, min_samples_split=4, n_estimators=1000; total time=  58.5s\n",
      "[CV] END bootstrap=True, criterion=entropy, max_depth=15, max_features=0.3, min_samples_leaf=4, min_samples_split=3, n_estimators=400; total time=  25.0s\n",
      "[CV] END bootstrap=True, criterion=entropy, max_depth=5, max_features=0.7, min_samples_leaf=4, min_samples_split=4, n_estimators=1000; total time=  57.8s\n",
      "[CV] END bootstrap=True, criterion=entropy, max_depth=15, max_features=0.3, min_samples_leaf=4, min_samples_split=3, n_estimators=400; total time=  25.2s\n",
      "[CV] END bootstrap=True, criterion=entropy, max_depth=15, max_features=0.3, min_samples_leaf=4, min_samples_split=3, n_estimators=400; total time=  25.0s\n",
      "[CV] END bootstrap=True, criterion=entropy, max_depth=15, max_features=0.3, min_samples_leaf=4, min_samples_split=3, n_estimators=400; total time=  24.6s\n",
      "[CV] END bootstrap=False, criterion=entropy, max_depth=None, max_features=0.7, min_samples_leaf=4, min_samples_split=3, n_estimators=900; total time= 5.0min\n"
     ]
    },
    {
     "name": "stderr",
     "output_type": "stream",
     "text": [
      "Exception ignored in: <function ResourceTracker.__del__ at 0x102e47880>\n",
      "Traceback (most recent call last):\n",
      "  File \"/Library/Frameworks/Python.framework/Versions/3.13/lib/python3.13/multiprocessing/resource_tracker.py\", line 82, in __del__\n",
      "  File \"/Library/Frameworks/Python.framework/Versions/3.13/lib/python3.13/multiprocessing/resource_tracker.py\", line 91, in _stop\n",
      "  File \"/Library/Frameworks/Python.framework/Versions/3.13/lib/python3.13/multiprocessing/resource_tracker.py\", line 116, in _stop_locked\n",
      "ChildProcessError: [Errno 10] No child processes\n"
     ]
    },
    {
     "name": "stdout",
     "output_type": "stream",
     "text": [
      "[CV] END bootstrap=False, criterion=gini, max_depth=None, max_features=0.5, min_samples_leaf=4, min_samples_split=2, n_estimators=400; total time= 1.3min\n",
      "[CV] END bootstrap=False, criterion=gini, max_depth=None, max_features=0.5, min_samples_leaf=4, min_samples_split=2, n_estimators=400; total time= 1.3min\n"
     ]
    },
    {
     "name": "stderr",
     "output_type": "stream",
     "text": [
      "Exception ignored in: <function ResourceTracker.__del__ at 0x102547880>\n",
      "Traceback (most recent call last):\n",
      "  File \"/Library/Frameworks/Python.framework/Versions/3.13/lib/python3.13/multiprocessing/resource_tracker.py\", line 82, in __del__\n",
      "  File \"/Library/Frameworks/Python.framework/Versions/3.13/lib/python3.13/multiprocessing/resource_tracker.py\", line 91, in _stop\n",
      "  File \"/Library/Frameworks/Python.framework/Versions/3.13/lib/python3.13/multiprocessing/resource_tracker.py\", line 116, in _stop_locked\n",
      "ChildProcessError: [Errno 10] No child processes\n"
     ]
    },
    {
     "name": "stdout",
     "output_type": "stream",
     "text": [
      "[CV] END bootstrap=False, criterion=gini, max_depth=None, max_features=0.5, min_samples_leaf=4, min_samples_split=2, n_estimators=400; total time= 1.3min\n"
     ]
    },
    {
     "name": "stderr",
     "output_type": "stream",
     "text": [
      "Exception ignored in: <function ResourceTracker.__del__ at 0x104047880>\n",
      "Traceback (most recent call last):\n",
      "  File \"/Library/Frameworks/Python.framework/Versions/3.13/lib/python3.13/multiprocessing/resource_tracker.py\", line 82, in __del__\n",
      "  File \"/Library/Frameworks/Python.framework/Versions/3.13/lib/python3.13/multiprocessing/resource_tracker.py\", line 91, in _stop\n",
      "  File \"/Library/Frameworks/Python.framework/Versions/3.13/lib/python3.13/multiprocessing/resource_tracker.py\", line 116, in _stop_locked\n",
      "ChildProcessError: [Errno 10] No child processes\n"
     ]
    },
    {
     "name": "stdout",
     "output_type": "stream",
     "text": [
      "[CV] END bootstrap=False, criterion=entropy, max_depth=None, max_features=0.7, min_samples_leaf=4, min_samples_split=3, n_estimators=900; total time= 4.9min\n"
     ]
    },
    {
     "name": "stderr",
     "output_type": "stream",
     "text": [
      "Exception ignored in: <function ResourceTracker.__del__ at 0x1049a3880>\n",
      "Traceback (most recent call last):\n",
      "  File \"/Library/Frameworks/Python.framework/Versions/3.13/lib/python3.13/multiprocessing/resource_tracker.py\", line 82, in __del__\n",
      "  File \"/Library/Frameworks/Python.framework/Versions/3.13/lib/python3.13/multiprocessing/resource_tracker.py\", line 91, in _stop\n",
      "  File \"/Library/Frameworks/Python.framework/Versions/3.13/lib/python3.13/multiprocessing/resource_tracker.py\", line 116, in _stop_locked\n",
      "ChildProcessError: [Errno 10] No child processes\n"
     ]
    },
    {
     "name": "stdout",
     "output_type": "stream",
     "text": [
      "[CV] END bootstrap=False, criterion=entropy, max_depth=None, max_features=0.7, min_samples_leaf=4, min_samples_split=3, n_estimators=900; total time= 4.9min\n"
     ]
    },
    {
     "name": "stderr",
     "output_type": "stream",
     "text": [
      "Exception ignored in: <function ResourceTracker.__del__ at 0x102e73880>\n",
      "Traceback (most recent call last):\n",
      "  File \"/Library/Frameworks/Python.framework/Versions/3.13/lib/python3.13/multiprocessing/resource_tracker.py\", line 82, in __del__\n",
      "  File \"/Library/Frameworks/Python.framework/Versions/3.13/lib/python3.13/multiprocessing/resource_tracker.py\", line 91, in _stop\n",
      "  File \"/Library/Frameworks/Python.framework/Versions/3.13/lib/python3.13/multiprocessing/resource_tracker.py\", line 116, in _stop_locked\n",
      "ChildProcessError: [Errno 10] No child processes\n"
     ]
    },
    {
     "name": "stdout",
     "output_type": "stream",
     "text": [
      "[CV] END bootstrap=False, criterion=entropy, max_depth=None, max_features=0.7, min_samples_leaf=4, min_samples_split=3, n_estimators=900; total time= 4.7min\n",
      "[CV] END bootstrap=False, criterion=entropy, max_depth=None, max_features=0.7, min_samples_leaf=4, min_samples_split=3, n_estimators=900; total time= 4.8min\n",
      "[CV] END bootstrap=False, criterion=gini, max_depth=None, max_features=0.5, min_samples_leaf=4, min_samples_split=2, n_estimators=400; total time= 1.2min\n",
      "[CV] END bootstrap=False, criterion=gini, max_depth=None, max_features=0.5, min_samples_leaf=4, min_samples_split=2, n_estimators=400; total time= 1.3min\n",
      "[CV] END bootstrap=False, criterion=entropy, max_depth=15, max_features=0.3, min_samples_leaf=1, min_samples_split=3, n_estimators=400; total time=  39.6s\n",
      "[CV] END bootstrap=False, criterion=entropy, max_depth=15, max_features=0.3, min_samples_leaf=1, min_samples_split=3, n_estimators=400; total time=  39.8s\n",
      "[CV] END bootstrap=False, criterion=entropy, max_depth=15, max_features=0.3, min_samples_leaf=1, min_samples_split=3, n_estimators=400; total time=  39.5s\n",
      "[CV] END bootstrap=False, criterion=entropy, max_depth=15, max_features=0.3, min_samples_leaf=1, min_samples_split=3, n_estimators=400; total time=  39.8s\n",
      "[CV] END bootstrap=False, criterion=entropy, max_depth=15, max_features=0.3, min_samples_leaf=1, min_samples_split=3, n_estimators=400; total time=  39.7s\n",
      "[CV] END bootstrap=False, criterion=entropy, max_depth=20, max_features=0.5, min_samples_leaf=1, min_samples_split=3, n_estimators=200; total time=  42.8s\n",
      "[CV] END bootstrap=False, criterion=entropy, max_depth=20, max_features=0.5, min_samples_leaf=1, min_samples_split=3, n_estimators=200; total time=  42.8s\n",
      "[CV] END bootstrap=False, criterion=entropy, max_depth=20, max_features=0.5, min_samples_leaf=1, min_samples_split=3, n_estimators=200; total time=  42.8s\n",
      "[CV] END bootstrap=False, criterion=entropy, max_depth=20, max_features=0.5, min_samples_leaf=1, min_samples_split=3, n_estimators=200; total time=  42.5s\n",
      "[CV] END bootstrap=False, criterion=entropy, max_depth=20, max_features=0.5, min_samples_leaf=1, min_samples_split=3, n_estimators=200; total time=  43.1s\n",
      "[CV] END bootstrap=False, criterion=entropy, max_depth=15, max_features=0.3, min_samples_leaf=1, min_samples_split=2, n_estimators=600; total time=  59.3s\n",
      "[CV] END bootstrap=False, criterion=entropy, max_depth=15, max_features=0.3, min_samples_leaf=1, min_samples_split=2, n_estimators=600; total time=  59.5s\n",
      "[CV] END bootstrap=False, criterion=entropy, max_depth=15, max_features=0.3, min_samples_leaf=1, min_samples_split=2, n_estimators=600; total time=  59.7s\n",
      "[CV] END bootstrap=False, criterion=entropy, max_depth=15, max_features=0.3, min_samples_leaf=1, min_samples_split=2, n_estimators=600; total time=  59.6s\n",
      "[CV] END bootstrap=False, criterion=entropy, max_depth=15, max_features=0.3, min_samples_leaf=1, min_samples_split=2, n_estimators=600; total time=  59.7s\n",
      "[CV] END bootstrap=False, criterion=entropy, max_depth=15, max_features=None, min_samples_leaf=2, min_samples_split=2, n_estimators=500; total time= 2.8min\n",
      "[CV] END bootstrap=False, criterion=entropy, max_depth=15, max_features=None, min_samples_leaf=2, min_samples_split=2, n_estimators=500; total time= 2.8min\n",
      "[CV] END bootstrap=False, criterion=entropy, max_depth=15, max_features=None, min_samples_leaf=2, min_samples_split=2, n_estimators=500; total time= 2.8min\n",
      "[CV] END bootstrap=True, criterion=entropy, max_depth=20, max_features=auto, min_samples_leaf=1, min_samples_split=2, n_estimators=100; total time=   0.0s\n",
      "[CV] END bootstrap=True, criterion=entropy, max_depth=20, max_features=auto, min_samples_leaf=1, min_samples_split=2, n_estimators=100; total time=   0.0s\n",
      "[CV] END bootstrap=True, criterion=entropy, max_depth=20, max_features=auto, min_samples_leaf=1, min_samples_split=2, n_estimators=100; total time=   0.0s\n",
      "[CV] END bootstrap=True, criterion=entropy, max_depth=20, max_features=auto, min_samples_leaf=1, min_samples_split=2, n_estimators=100; total time=   0.0s\n",
      "[CV] END bootstrap=True, criterion=entropy, max_depth=20, max_features=auto, min_samples_leaf=1, min_samples_split=2, n_estimators=100; total time=   0.0s\n",
      "[CV] END bootstrap=False, criterion=entropy, max_depth=None, max_features=None, min_samples_leaf=4, min_samples_split=3, n_estimators=1200; total time= 9.3min\n",
      "[CV] END bootstrap=False, criterion=entropy, max_depth=None, max_features=None, min_samples_leaf=4, min_samples_split=3, n_estimators=1200; total time= 9.4min\n",
      "[CV] END bootstrap=False, criterion=entropy, max_depth=None, max_features=None, min_samples_leaf=4, min_samples_split=3, n_estimators=1200; total time= 9.9min\n",
      "[CV] END bootstrap=False, criterion=entropy, max_depth=None, max_features=None, min_samples_leaf=4, min_samples_split=3, n_estimators=1200; total time= 9.5min\n"
     ]
    },
    {
     "name": "stderr",
     "output_type": "stream",
     "text": [
      "Exception ignored in: <function ResourceTracker.__del__ at 0x10859f880>\n",
      "Traceback (most recent call last):\n",
      "  File \"/Library/Frameworks/Python.framework/Versions/3.13/lib/python3.13/multiprocessing/resource_tracker.py\", line 82, in __del__\n",
      "  File \"/Library/Frameworks/Python.framework/Versions/3.13/lib/python3.13/multiprocessing/resource_tracker.py\", line 91, in _stop\n",
      "  File \"/Library/Frameworks/Python.framework/Versions/3.13/lib/python3.13/multiprocessing/resource_tracker.py\", line 116, in _stop_locked\n",
      "ChildProcessError: [Errno 10] No child processes\n"
     ]
    },
    {
     "name": "stdout",
     "output_type": "stream",
     "text": [
      "[CV] END bootstrap=False, criterion=entropy, max_depth=15, max_features=None, min_samples_leaf=2, min_samples_split=2, n_estimators=500; total time= 2.8min\n",
      "[CV] END bootstrap=False, criterion=entropy, max_depth=None, max_features=None, min_samples_leaf=4, min_samples_split=3, n_estimators=1200; total time=10.3min\n",
      "[CV] END bootstrap=False, criterion=entropy, max_depth=15, max_features=None, min_samples_leaf=2, min_samples_split=2, n_estimators=500; total time= 2.8min\n",
      "[CV] END bootstrap=False, criterion=gini, max_depth=10, max_features=None, min_samples_leaf=1, min_samples_split=4, n_estimators=700; total time= 2.6min\n",
      "[CV] END bootstrap=False, criterion=gini, max_depth=None, max_features=0.3, min_samples_leaf=1, min_samples_split=4, n_estimators=700; total time= 1.4min\n"
     ]
    },
    {
     "name": "stderr",
     "output_type": "stream",
     "text": [
      "Exception ignored in: <function ResourceTracker.__del__ at 0x102f43880>\n",
      "Traceback (most recent call last):\n",
      "  File \"/Library/Frameworks/Python.framework/Versions/3.13/lib/python3.13/multiprocessing/resource_tracker.py\", line 82, in __del__\n",
      "  File \"/Library/Frameworks/Python.framework/Versions/3.13/lib/python3.13/multiprocessing/resource_tracker.py\", line 91, in _stop\n",
      "  File \"/Library/Frameworks/Python.framework/Versions/3.13/lib/python3.13/multiprocessing/resource_tracker.py\", line 116, in _stop_locked\n",
      "ChildProcessError: [Errno 10] No child processes\n"
     ]
    },
    {
     "name": "stdout",
     "output_type": "stream",
     "text": [
      "[CV] END bootstrap=False, criterion=gini, max_depth=None, max_features=0.3, min_samples_leaf=1, min_samples_split=4, n_estimators=700; total time= 1.4min\n"
     ]
    },
    {
     "name": "stderr",
     "output_type": "stream",
     "text": [
      "Exception ignored in: <function ResourceTracker.__del__ at 0x106347880>\n",
      "Traceback (most recent call last):\n",
      "  File \"/Library/Frameworks/Python.framework/Versions/3.13/lib/python3.13/multiprocessing/resource_tracker.py\", line 82, in __del__\n",
      "  File \"/Library/Frameworks/Python.framework/Versions/3.13/lib/python3.13/multiprocessing/resource_tracker.py\", line 91, in _stop\n",
      "  File \"/Library/Frameworks/Python.framework/Versions/3.13/lib/python3.13/multiprocessing/resource_tracker.py\", line 116, in _stop_locked\n",
      "ChildProcessError: [Errno 10] No child processes\n"
     ]
    },
    {
     "name": "stdout",
     "output_type": "stream",
     "text": [
      "[CV] END bootstrap=False, criterion=gini, max_depth=10, max_features=None, min_samples_leaf=1, min_samples_split=4, n_estimators=700; total time= 2.6min\n",
      "[CV] END bootstrap=False, criterion=gini, max_depth=None, max_features=0.3, min_samples_leaf=1, min_samples_split=4, n_estimators=700; total time= 1.4min\n"
     ]
    },
    {
     "name": "stderr",
     "output_type": "stream",
     "text": [
      "Exception ignored in: <function ResourceTracker.__del__ at 0x1064bf880>\n",
      "Traceback (most recent call last):\n",
      "  File \"/Library/Frameworks/Python.framework/Versions/3.13/lib/python3.13/multiprocessing/resource_tracker.py\", line 82, in __del__\n",
      "  File \"/Library/Frameworks/Python.framework/Versions/3.13/lib/python3.13/multiprocessing/resource_tracker.py\", line 91, in _stop\n",
      "  File \"/Library/Frameworks/Python.framework/Versions/3.13/lib/python3.13/multiprocessing/resource_tracker.py\", line 116, in _stop_locked\n",
      "ChildProcessError: [Errno 10] No child processes\n"
     ]
    },
    {
     "name": "stdout",
     "output_type": "stream",
     "text": [
      "[CV] END bootstrap=False, criterion=gini, max_depth=None, max_features=0.3, min_samples_leaf=1, min_samples_split=4, n_estimators=700; total time= 1.4min\n"
     ]
    },
    {
     "name": "stderr",
     "output_type": "stream",
     "text": [
      "Exception ignored in: <function ResourceTracker.__del__ at 0x10687b880>\n",
      "Traceback (most recent call last):\n",
      "  File \"/Library/Frameworks/Python.framework/Versions/3.13/lib/python3.13/multiprocessing/resource_tracker.py\", line 82, in __del__\n",
      "  File \"/Library/Frameworks/Python.framework/Versions/3.13/lib/python3.13/multiprocessing/resource_tracker.py\", line 91, in _stop\n",
      "  File \"/Library/Frameworks/Python.framework/Versions/3.13/lib/python3.13/multiprocessing/resource_tracker.py\", line 116, in _stop_locked\n",
      "ChildProcessError: [Errno 10] No child processes\n"
     ]
    },
    {
     "name": "stdout",
     "output_type": "stream",
     "text": [
      "[CV] END bootstrap=False, criterion=gini, max_depth=10, max_features=None, min_samples_leaf=1, min_samples_split=4, n_estimators=700; total time= 2.5min\n",
      "[CV] END bootstrap=False, criterion=entropy, max_depth=15, max_features=0.3, min_samples_leaf=1, min_samples_split=4, n_estimators=300; total time=  27.9s\n",
      "[CV] END bootstrap=False, criterion=entropy, max_depth=15, max_features=0.3, min_samples_leaf=1, min_samples_split=4, n_estimators=300; total time=  27.8s\n",
      "[CV] END bootstrap=False, criterion=gini, max_depth=10, max_features=None, min_samples_leaf=1, min_samples_split=4, n_estimators=700; total time= 2.5min\n",
      "[CV] END bootstrap=False, criterion=entropy, max_depth=15, max_features=0.3, min_samples_leaf=1, min_samples_split=4, n_estimators=300; total time=  29.1s\n",
      "[CV] END bootstrap=False, criterion=gini, max_depth=10, max_features=None, min_samples_leaf=1, min_samples_split=4, n_estimators=700; total time= 2.5min\n",
      "[CV] END bootstrap=False, criterion=entropy, max_depth=15, max_features=0.3, min_samples_leaf=1, min_samples_split=4, n_estimators=300; total time=  29.2s\n",
      "[CV] END bootstrap=True, criterion=gini, max_depth=15, max_features=auto, min_samples_leaf=2, min_samples_split=2, n_estimators=1200; total time=   0.0s\n",
      "[CV] END bootstrap=True, criterion=gini, max_depth=15, max_features=auto, min_samples_leaf=2, min_samples_split=2, n_estimators=1200; total time=   0.0s\n",
      "[CV] END bootstrap=True, criterion=gini, max_depth=15, max_features=auto, min_samples_leaf=2, min_samples_split=2, n_estimators=1200; total time=   0.0s\n",
      "[CV] END bootstrap=True, criterion=gini, max_depth=15, max_features=auto, min_samples_leaf=2, min_samples_split=2, n_estimators=1200; total time=   0.0s\n",
      "[CV] END bootstrap=True, criterion=gini, max_depth=15, max_features=auto, min_samples_leaf=2, min_samples_split=2, n_estimators=1200; total time=   0.0s\n",
      "[CV] END bootstrap=False, criterion=entropy, max_depth=15, max_features=0.3, min_samples_leaf=1, min_samples_split=4, n_estimators=300; total time=  29.5s\n",
      "[CV] END bootstrap=False, criterion=gini, max_depth=None, max_features=0.3, min_samples_leaf=1, min_samples_split=4, n_estimators=700; total time= 1.4min\n",
      "[CV] END bootstrap=False, criterion=gini, max_depth=15, max_features=0.5, min_samples_leaf=4, min_samples_split=3, n_estimators=300; total time=  47.0s\n",
      "[CV] END bootstrap=False, criterion=gini, max_depth=15, max_features=0.5, min_samples_leaf=4, min_samples_split=3, n_estimators=300; total time=  47.2s\n",
      "[CV] END bootstrap=False, criterion=gini, max_depth=15, max_features=0.5, min_samples_leaf=4, min_samples_split=3, n_estimators=300; total time=  46.9s\n",
      "[CV] END bootstrap=False, criterion=gini, max_depth=15, max_features=0.5, min_samples_leaf=4, min_samples_split=3, n_estimators=300; total time=  47.1s\n",
      "[CV] END bootstrap=False, criterion=gini, max_depth=15, max_features=0.5, min_samples_leaf=4, min_samples_split=3, n_estimators=300; total time=  47.2s\n",
      "[CV] END bootstrap=True, criterion=entropy, max_depth=10, max_features=0.5, min_samples_leaf=2, min_samples_split=3, n_estimators=200; total time=  15.7s\n",
      "[CV] END bootstrap=True, criterion=entropy, max_depth=10, max_features=0.5, min_samples_leaf=2, min_samples_split=3, n_estimators=200; total time=  16.0s\n",
      "[CV] END bootstrap=True, criterion=entropy, max_depth=10, max_features=0.5, min_samples_leaf=2, min_samples_split=3, n_estimators=200; total time=  15.9s\n",
      "[CV] END bootstrap=True, criterion=entropy, max_depth=10, max_features=0.5, min_samples_leaf=2, min_samples_split=3, n_estimators=200; total time=  15.7s\n",
      "[CV] END bootstrap=True, criterion=entropy, max_depth=10, max_features=0.5, min_samples_leaf=2, min_samples_split=3, n_estimators=200; total time=  16.0s\n",
      "[CV] END bootstrap=False, criterion=gini, max_depth=15, max_features=0.7, min_samples_leaf=4, min_samples_split=2, n_estimators=200; total time=  43.9s\n",
      "[CV] END bootstrap=False, criterion=gini, max_depth=15, max_features=0.7, min_samples_leaf=4, min_samples_split=2, n_estimators=200; total time=  43.0s\n",
      "[CV] END bootstrap=False, criterion=gini, max_depth=15, max_features=0.7, min_samples_leaf=4, min_samples_split=2, n_estimators=200; total time=  43.3s\n",
      "[CV] END bootstrap=False, criterion=gini, max_depth=15, max_features=0.7, min_samples_leaf=4, min_samples_split=2, n_estimators=200; total time=  43.1s\n",
      "[CV] END bootstrap=False, criterion=gini, max_depth=15, max_features=0.7, min_samples_leaf=4, min_samples_split=2, n_estimators=200; total time=  43.1s\n",
      "[CV] END bootstrap=True, criterion=entropy, max_depth=10, max_features=0.7, min_samples_leaf=1, min_samples_split=2, n_estimators=500; total time=  54.2s\n",
      "[CV] END bootstrap=True, criterion=entropy, max_depth=10, max_features=0.7, min_samples_leaf=1, min_samples_split=2, n_estimators=500; total time=  53.9s\n",
      "[CV] END bootstrap=True, criterion=entropy, max_depth=10, max_features=0.7, min_samples_leaf=1, min_samples_split=2, n_estimators=500; total time=  53.8s\n",
      "[CV] END bootstrap=True, criterion=entropy, max_depth=10, max_features=0.7, min_samples_leaf=1, min_samples_split=2, n_estimators=500; total time=  54.3s\n",
      "[CV] END bootstrap=False, criterion=entropy, max_depth=15, max_features=0.7, min_samples_leaf=1, min_samples_split=4, n_estimators=1000; total time= 4.0min\n",
      "[CV] END bootstrap=False, criterion=entropy, max_depth=15, max_features=0.7, min_samples_leaf=1, min_samples_split=4, n_estimators=1000; total time= 4.0min\n"
     ]
    },
    {
     "name": "stderr",
     "output_type": "stream",
     "text": [
      "Exception ignored in: <function ResourceTracker.__del__ at 0x1086d3880>\n",
      "Traceback (most recent call last):\n",
      "  File \"/Library/Frameworks/Python.framework/Versions/3.13/lib/python3.13/multiprocessing/resource_tracker.py\", line 82, in __del__\n",
      "  File \"/Library/Frameworks/Python.framework/Versions/3.13/lib/python3.13/multiprocessing/resource_tracker.py\", line 91, in _stop\n",
      "  File \"/Library/Frameworks/Python.framework/Versions/3.13/lib/python3.13/multiprocessing/resource_tracker.py\", line 116, in _stop_locked\n",
      "ChildProcessError: [Errno 10] No child processes\n"
     ]
    },
    {
     "name": "stdout",
     "output_type": "stream",
     "text": [
      "[CV] END bootstrap=True, criterion=entropy, max_depth=10, max_features=0.7, min_samples_leaf=1, min_samples_split=2, n_estimators=500; total time=  52.6s\n",
      "[CV] END bootstrap=False, criterion=entropy, max_depth=15, max_features=0.7, min_samples_leaf=1, min_samples_split=4, n_estimators=1000; total time= 4.0min\n",
      "[CV] END bootstrap=False, criterion=entropy, max_depth=15, max_features=0.7, min_samples_leaf=1, min_samples_split=4, n_estimators=1000; total time= 3.9min\n"
     ]
    },
    {
     "name": "stderr",
     "output_type": "stream",
     "text": [
      "Exception ignored in: <function ResourceTracker.__del__ at 0x106247880>\n",
      "Traceback (most recent call last):\n",
      "  File \"/Library/Frameworks/Python.framework/Versions/3.13/lib/python3.13/multiprocessing/resource_tracker.py\", line 82, in __del__\n",
      "  File \"/Library/Frameworks/Python.framework/Versions/3.13/lib/python3.13/multiprocessing/resource_tracker.py\", line 91, in _stop\n",
      "  File \"/Library/Frameworks/Python.framework/Versions/3.13/lib/python3.13/multiprocessing/resource_tracker.py\", line 116, in _stop_locked\n",
      "ChildProcessError: [Errno 10] No child processes\n"
     ]
    },
    {
     "name": "stdout",
     "output_type": "stream",
     "text": [
      "[CV] END bootstrap=False, criterion=entropy, max_depth=15, max_features=0.7, min_samples_leaf=1, min_samples_split=4, n_estimators=1000; total time= 3.9min\n",
      "[CV] END bootstrap=True, criterion=gini, max_depth=10, max_features=None, min_samples_leaf=1, min_samples_split=3, n_estimators=1200; total time= 2.8min\n",
      "[CV] END bootstrap=True, criterion=gini, max_depth=10, max_features=None, min_samples_leaf=1, min_samples_split=3, n_estimators=1200; total time= 2.8min\n",
      "[CV] END bootstrap=True, criterion=gini, max_depth=10, max_features=None, min_samples_leaf=1, min_samples_split=3, n_estimators=1200; total time= 2.8min\n",
      "[CV] END bootstrap=True, criterion=entropy, max_depth=None, max_features=auto, min_samples_leaf=2, min_samples_split=2, n_estimators=200; total time=   0.0s\n",
      "[CV] END bootstrap=True, criterion=entropy, max_depth=None, max_features=auto, min_samples_leaf=2, min_samples_split=2, n_estimators=200; total time=   0.0s\n",
      "[CV] END bootstrap=True, criterion=entropy, max_depth=None, max_features=auto, min_samples_leaf=2, min_samples_split=2, n_estimators=200; total time=   0.0s\n",
      "[CV] END bootstrap=True, criterion=entropy, max_depth=None, max_features=auto, min_samples_leaf=2, min_samples_split=2, n_estimators=200; total time=   0.0s\n",
      "[CV] END bootstrap=True, criterion=entropy, max_depth=None, max_features=auto, min_samples_leaf=2, min_samples_split=2, n_estimators=200; total time=   0.0s\n",
      "[CV] END bootstrap=True, criterion=entropy, max_depth=20, max_features=0.3, min_samples_leaf=1, min_samples_split=3, n_estimators=500; total time=  38.8s\n"
     ]
    },
    {
     "name": "stderr",
     "output_type": "stream",
     "text": [
      "Exception ignored in: <function ResourceTracker.__del__ at 0x102947880>\n",
      "Traceback (most recent call last):\n",
      "  File \"/Library/Frameworks/Python.framework/Versions/3.13/lib/python3.13/multiprocessing/resource_tracker.py\", line 82, in __del__\n",
      "  File \"/Library/Frameworks/Python.framework/Versions/3.13/lib/python3.13/multiprocessing/resource_tracker.py\", line 91, in _stop\n",
      "  File \"/Library/Frameworks/Python.framework/Versions/3.13/lib/python3.13/multiprocessing/resource_tracker.py\", line 116, in _stop_locked\n",
      "ChildProcessError: [Errno 10] No child processes\n"
     ]
    },
    {
     "name": "stdout",
     "output_type": "stream",
     "text": [
      "[CV] END bootstrap=True, criterion=entropy, max_depth=20, max_features=0.3, min_samples_leaf=1, min_samples_split=3, n_estimators=500; total time=  39.0s\n",
      "[CV] END bootstrap=True, criterion=entropy, max_depth=None, max_features=None, min_samples_leaf=2, min_samples_split=3, n_estimators=1100; total time= 5.5min\n"
     ]
    },
    {
     "name": "stderr",
     "output_type": "stream",
     "text": [
      "Exception ignored in: <function ResourceTracker.__del__ at 0x106bef880>\n",
      "Traceback (most recent call last):\n",
      "  File \"/Library/Frameworks/Python.framework/Versions/3.13/lib/python3.13/multiprocessing/resource_tracker.py\", line 82, in __del__\n",
      "  File \"/Library/Frameworks/Python.framework/Versions/3.13/lib/python3.13/multiprocessing/resource_tracker.py\", line 91, in _stop\n",
      "  File \"/Library/Frameworks/Python.framework/Versions/3.13/lib/python3.13/multiprocessing/resource_tracker.py\", line 116, in _stop_locked\n",
      "ChildProcessError: [Errno 10] No child processes\n"
     ]
    },
    {
     "name": "stdout",
     "output_type": "stream",
     "text": [
      "[CV] END bootstrap=True, criterion=entropy, max_depth=None, max_features=None, min_samples_leaf=2, min_samples_split=3, n_estimators=1100; total time= 5.5min\n"
     ]
    },
    {
     "name": "stderr",
     "output_type": "stream",
     "text": [
      "Exception ignored in: <function ResourceTracker.__del__ at 0x107947880>\n",
      "Traceback (most recent call last):\n",
      "  File \"/Library/Frameworks/Python.framework/Versions/3.13/lib/python3.13/multiprocessing/resource_tracker.py\", line 82, in __del__\n",
      "  File \"/Library/Frameworks/Python.framework/Versions/3.13/lib/python3.13/multiprocessing/resource_tracker.py\", line 91, in _stop\n",
      "  File \"/Library/Frameworks/Python.framework/Versions/3.13/lib/python3.13/multiprocessing/resource_tracker.py\", line 116, in _stop_locked\n",
      "ChildProcessError: [Errno 10] No child processes\n"
     ]
    },
    {
     "name": "stdout",
     "output_type": "stream",
     "text": [
      "[CV] END bootstrap=True, criterion=entropy, max_depth=20, max_features=0.3, min_samples_leaf=1, min_samples_split=3, n_estimators=500; total time=  37.7s\n",
      "[CV] END bootstrap=True, criterion=entropy, max_depth=None, max_features=None, min_samples_leaf=2, min_samples_split=3, n_estimators=1100; total time= 5.4min\n",
      "[CV] END bootstrap=True, criterion=entropy, max_depth=None, max_features=None, min_samples_leaf=2, min_samples_split=3, n_estimators=1100; total time= 5.3min\n"
     ]
    },
    {
     "name": "stderr",
     "output_type": "stream",
     "text": [
      "Exception ignored in: <function ResourceTracker.__del__ at 0x107b47880>\n",
      "Traceback (most recent call last):\n",
      "  File \"/Library/Frameworks/Python.framework/Versions/3.13/lib/python3.13/multiprocessing/resource_tracker.py\", line 82, in __del__\n",
      "  File \"/Library/Frameworks/Python.framework/Versions/3.13/lib/python3.13/multiprocessing/resource_tracker.py\", line 91, in _stop\n",
      "  File \"/Library/Frameworks/Python.framework/Versions/3.13/lib/python3.13/multiprocessing/resource_tracker.py\", line 116, in _stop_locked\n",
      "ChildProcessError: [Errno 10] No child processes\n"
     ]
    },
    {
     "name": "stdout",
     "output_type": "stream",
     "text": [
      "[CV] END bootstrap=True, criterion=gini, max_depth=5, max_features=sqrt, min_samples_leaf=2, min_samples_split=2, n_estimators=400; total time=   6.9s\n",
      "[CV] END bootstrap=True, criterion=gini, max_depth=5, max_features=sqrt, min_samples_leaf=2, min_samples_split=2, n_estimators=400; total time=   6.9s\n",
      "[CV] END bootstrap=True, criterion=entropy, max_depth=20, max_features=0.3, min_samples_leaf=1, min_samples_split=3, n_estimators=500; total time=  36.7s\n",
      "[CV] END bootstrap=True, criterion=gini, max_depth=20, max_features=auto, min_samples_leaf=2, min_samples_split=2, n_estimators=600; total time=   0.0s\n",
      "[CV] END bootstrap=True, criterion=gini, max_depth=20, max_features=auto, min_samples_leaf=2, min_samples_split=2, n_estimators=600; total time=   0.0s\n",
      "[CV] END bootstrap=True, criterion=gini, max_depth=20, max_features=auto, min_samples_leaf=2, min_samples_split=2, n_estimators=600; total time=   0.0s\n",
      "[CV] END bootstrap=True, criterion=gini, max_depth=5, max_features=sqrt, min_samples_leaf=2, min_samples_split=2, n_estimators=400; total time=   7.4s\n",
      "[CV] END bootstrap=True, criterion=gini, max_depth=20, max_features=auto, min_samples_leaf=2, min_samples_split=2, n_estimators=600; total time=   0.0s\n",
      "[CV] END bootstrap=True, criterion=gini, max_depth=20, max_features=auto, min_samples_leaf=2, min_samples_split=2, n_estimators=600; total time=   0.0s\n",
      "[CV] END bootstrap=True, criterion=gini, max_depth=5, max_features=sqrt, min_samples_leaf=2, min_samples_split=2, n_estimators=400; total time=   7.3s\n",
      "[CV] END bootstrap=True, criterion=gini, max_depth=5, max_features=sqrt, min_samples_leaf=2, min_samples_split=2, n_estimators=400; total time=   7.5s\n",
      "[CV] END bootstrap=True, criterion=entropy, max_depth=None, max_features=None, min_samples_leaf=2, min_samples_split=3, n_estimators=1100; total time= 5.5min\n"
     ]
    },
    {
     "name": "stderr",
     "output_type": "stream",
     "text": [
      "Exception ignored in: <function ResourceTracker.__del__ at 0x1062c3880>\n",
      "Traceback (most recent call last):\n",
      "  File \"/Library/Frameworks/Python.framework/Versions/3.13/lib/python3.13/multiprocessing/resource_tracker.py\", line 82, in __del__\n",
      "  File \"/Library/Frameworks/Python.framework/Versions/3.13/lib/python3.13/multiprocessing/resource_tracker.py\", line 91, in _stop\n",
      "  File \"/Library/Frameworks/Python.framework/Versions/3.13/lib/python3.13/multiprocessing/resource_tracker.py\", line 116, in _stop_locked\n",
      "ChildProcessError: [Errno 10] No child processes\n"
     ]
    },
    {
     "name": "stdout",
     "output_type": "stream",
     "text": [
      "[CV] END bootstrap=True, criterion=gini, max_depth=10, max_features=None, min_samples_leaf=1, min_samples_split=3, n_estimators=1200; total time= 2.7min\n",
      "[CV] END bootstrap=True, criterion=entropy, max_depth=20, max_features=0.3, min_samples_leaf=1, min_samples_split=3, n_estimators=500; total time=  36.3s\n",
      "[CV] END bootstrap=True, criterion=gini, max_depth=10, max_features=None, min_samples_leaf=1, min_samples_split=3, n_estimators=1200; total time= 2.7min\n",
      "[CV] END bootstrap=False, criterion=entropy, max_depth=20, max_features=0.5, min_samples_leaf=2, min_samples_split=2, n_estimators=1200; total time= 4.3min\n",
      "[CV] END bootstrap=False, criterion=gini, max_depth=15, max_features=None, min_samples_leaf=2, min_samples_split=2, n_estimators=900; total time= 4.6min\n",
      "[CV] END bootstrap=False, criterion=gini, max_depth=15, max_features=None, min_samples_leaf=2, min_samples_split=2, n_estimators=900; total time= 4.7min\n",
      "[CV] END bootstrap=False, criterion=gini, max_depth=15, max_features=None, min_samples_leaf=2, min_samples_split=2, n_estimators=900; total time= 4.6min\n",
      "[CV] END bootstrap=False, criterion=entropy, max_depth=20, max_features=0.5, min_samples_leaf=2, min_samples_split=2, n_estimators=1200; total time= 4.3min\n"
     ]
    },
    {
     "name": "stderr",
     "output_type": "stream",
     "text": [
      "Exception ignored in: <function ResourceTracker.__del__ at 0x106a53880>\n",
      "Traceback (most recent call last):\n",
      "  File \"/Library/Frameworks/Python.framework/Versions/3.13/lib/python3.13/multiprocessing/resource_tracker.py\", line 82, in __del__\n",
      "  File \"/Library/Frameworks/Python.framework/Versions/3.13/lib/python3.13/multiprocessing/resource_tracker.py\", line 91, in _stop\n",
      "  File \"/Library/Frameworks/Python.framework/Versions/3.13/lib/python3.13/multiprocessing/resource_tracker.py\", line 116, in _stop_locked\n",
      "ChildProcessError: [Errno 10] No child processes\n",
      "Exception ignored in: <function ResourceTracker.__del__ at 0x102dbb880>\n",
      "Traceback (most recent call last):\n",
      "  File \"/Library/Frameworks/Python.framework/Versions/3.13/lib/python3.13/multiprocessing/resource_tracker.py\", line 82, in __del__\n",
      "  File \"/Library/Frameworks/Python.framework/Versions/3.13/lib/python3.13/multiprocessing/resource_tracker.py\", line 91, in _stop\n",
      "  File \"/Library/Frameworks/Python.framework/Versions/3.13/lib/python3.13/multiprocessing/resource_tracker.py\", line 116, in _stop_locked\n",
      "ChildProcessError: [Errno 10] No child processes\n"
     ]
    },
    {
     "name": "stdout",
     "output_type": "stream",
     "text": [
      "[CV] END bootstrap=False, criterion=gini, max_depth=15, max_features=None, min_samples_leaf=2, min_samples_split=2, n_estimators=900; total time= 4.6min\n"
     ]
    },
    {
     "name": "stderr",
     "output_type": "stream",
     "text": [
      "Exception ignored in: <function ResourceTracker.__del__ at 0x106bbf880>\n",
      "Traceback (most recent call last):\n",
      "  File \"/Library/Frameworks/Python.framework/Versions/3.13/lib/python3.13/multiprocessing/resource_tracker.py\", line 82, in __del__\n",
      "  File \"/Library/Frameworks/Python.framework/Versions/3.13/lib/python3.13/multiprocessing/resource_tracker.py\", line 91, in _stop\n",
      "  File \"/Library/Frameworks/Python.framework/Versions/3.13/lib/python3.13/multiprocessing/resource_tracker.py\", line 116, in _stop_locked\n",
      "ChildProcessError: [Errno 10] No child processes\n"
     ]
    },
    {
     "name": "stdout",
     "output_type": "stream",
     "text": [
      "[CV] END bootstrap=False, criterion=entropy, max_depth=20, max_features=0.5, min_samples_leaf=2, min_samples_split=2, n_estimators=1200; total time= 4.2min\n"
     ]
    },
    {
     "name": "stderr",
     "output_type": "stream",
     "text": [
      "Exception ignored in: <function ResourceTracker.__del__ at 0x10298b880>\n",
      "Traceback (most recent call last):\n",
      "  File \"/Library/Frameworks/Python.framework/Versions/3.13/lib/python3.13/multiprocessing/resource_tracker.py\", line 82, in __del__\n",
      "  File \"/Library/Frameworks/Python.framework/Versions/3.13/lib/python3.13/multiprocessing/resource_tracker.py\", line 91, in _stop\n",
      "  File \"/Library/Frameworks/Python.framework/Versions/3.13/lib/python3.13/multiprocessing/resource_tracker.py\", line 116, in _stop_locked\n",
      "ChildProcessError: [Errno 10] No child processes\n"
     ]
    },
    {
     "name": "stdout",
     "output_type": "stream",
     "text": [
      "[CV] END bootstrap=False, criterion=gini, max_depth=15, max_features=None, min_samples_leaf=2, min_samples_split=2, n_estimators=900; total time= 4.6min\n",
      "[CV] END bootstrap=True, criterion=gini, max_depth=15, max_features=0.3, min_samples_leaf=4, min_samples_split=3, n_estimators=500; total time=  29.4s\n",
      "[CV] END bootstrap=True, criterion=gini, max_depth=15, max_features=0.3, min_samples_leaf=4, min_samples_split=3, n_estimators=500; total time=  29.4s\n",
      "[CV] END bootstrap=True, criterion=gini, max_depth=15, max_features=0.3, min_samples_leaf=4, min_samples_split=3, n_estimators=500; total time=  29.2s\n",
      "[CV] END bootstrap=False, criterion=entropy, max_depth=10, max_features=0.7, min_samples_leaf=2, min_samples_split=3, n_estimators=600; total time= 1.6min\n",
      "[CV] END bootstrap=False, criterion=entropy, max_depth=10, max_features=0.7, min_samples_leaf=2, min_samples_split=3, n_estimators=600; total time= 1.7min\n",
      "[CV] END bootstrap=False, criterion=entropy, max_depth=10, max_features=0.7, min_samples_leaf=2, min_samples_split=3, n_estimators=600; total time= 1.7min\n",
      "[CV] END bootstrap=False, criterion=entropy, max_depth=10, max_features=0.7, min_samples_leaf=2, min_samples_split=3, n_estimators=600; total time= 1.7min\n",
      "[CV] END bootstrap=False, criterion=entropy, max_depth=10, max_features=0.7, min_samples_leaf=2, min_samples_split=3, n_estimators=600; total time= 1.7min\n",
      "[CV] END bootstrap=True, criterion=gini, max_depth=15, max_features=0.3, min_samples_leaf=4, min_samples_split=3, n_estimators=500; total time=  28.7s\n",
      "[CV] END bootstrap=True, criterion=gini, max_depth=15, max_features=0.3, min_samples_leaf=4, min_samples_split=3, n_estimators=500; total time=  28.9s\n",
      "[CV] END bootstrap=False, criterion=gini, max_depth=10, max_features=log2, min_samples_leaf=1, min_samples_split=2, n_estimators=800; total time=  32.4s\n",
      "[CV] END bootstrap=False, criterion=gini, max_depth=10, max_features=log2, min_samples_leaf=1, min_samples_split=2, n_estimators=800; total time=  32.5s\n",
      "[CV] END bootstrap=False, criterion=gini, max_depth=10, max_features=log2, min_samples_leaf=1, min_samples_split=2, n_estimators=800; total time=  32.7s\n",
      "[CV] END bootstrap=False, criterion=entropy, max_depth=20, max_features=0.5, min_samples_leaf=2, min_samples_split=2, n_estimators=1200; total time= 4.2min\n",
      "[CV] END bootstrap=False, criterion=entropy, max_depth=20, max_features=0.5, min_samples_leaf=2, min_samples_split=2, n_estimators=1200; total time= 4.2min\n"
     ]
    },
    {
     "name": "stderr",
     "output_type": "stream",
     "text": [
      "Exception ignored in: <function ResourceTracker.__del__ at 0x108c9f880>\n",
      "Traceback (most recent call last):\n",
      "  File \"/Library/Frameworks/Python.framework/Versions/3.13/lib/python3.13/multiprocessing/resource_tracker.py\", line 82, in __del__\n",
      "  File \"/Library/Frameworks/Python.framework/Versions/3.13/lib/python3.13/multiprocessing/resource_tracker.py\", line 91, in _stop\n",
      "  File \"/Library/Frameworks/Python.framework/Versions/3.13/lib/python3.13/multiprocessing/resource_tracker.py\", line 116, in _stop_locked\n",
      "ChildProcessError: [Errno 10] No child processes\n"
     ]
    },
    {
     "name": "stdout",
     "output_type": "stream",
     "text": [
      "[CV] END bootstrap=False, criterion=gini, max_depth=10, max_features=log2, min_samples_leaf=1, min_samples_split=2, n_estimators=800; total time=  31.5s\n",
      "[CV] END bootstrap=True, criterion=gini, max_depth=15, max_features=None, min_samples_leaf=1, min_samples_split=3, n_estimators=800; total time= 2.6min\n"
     ]
    },
    {
     "name": "stderr",
     "output_type": "stream",
     "text": [
      "Exception ignored in: <function ResourceTracker.__del__ at 0x10302f880>\n",
      "Traceback (most recent call last):\n",
      "  File \"/Library/Frameworks/Python.framework/Versions/3.13/lib/python3.13/multiprocessing/resource_tracker.py\", line 82, in __del__\n",
      "  File \"/Library/Frameworks/Python.framework/Versions/3.13/lib/python3.13/multiprocessing/resource_tracker.py\", line 91, in _stop\n",
      "  File \"/Library/Frameworks/Python.framework/Versions/3.13/lib/python3.13/multiprocessing/resource_tracker.py\", line 116, in _stop_locked\n",
      "ChildProcessError: [Errno 10] No child processes\n"
     ]
    },
    {
     "name": "stdout",
     "output_type": "stream",
     "text": [
      "[CV] END bootstrap=True, criterion=gini, max_depth=15, max_features=None, min_samples_leaf=1, min_samples_split=3, n_estimators=800; total time= 2.6min\n"
     ]
    },
    {
     "name": "stderr",
     "output_type": "stream",
     "text": [
      "Exception ignored in: <function ResourceTracker.__del__ at 0x104cef880>\n",
      "Traceback (most recent call last):\n",
      "  File \"/Library/Frameworks/Python.framework/Versions/3.13/lib/python3.13/multiprocessing/resource_tracker.py\", line 82, in __del__\n",
      "  File \"/Library/Frameworks/Python.framework/Versions/3.13/lib/python3.13/multiprocessing/resource_tracker.py\", line 91, in _stop\n",
      "  File \"/Library/Frameworks/Python.framework/Versions/3.13/lib/python3.13/multiprocessing/resource_tracker.py\", line 116, in _stop_locked\n",
      "ChildProcessError: [Errno 10] No child processes\n"
     ]
    },
    {
     "name": "stdout",
     "output_type": "stream",
     "text": [
      "[CV] END bootstrap=True, criterion=gini, max_depth=15, max_features=None, min_samples_leaf=1, min_samples_split=3, n_estimators=800; total time= 2.6min\n"
     ]
    },
    {
     "name": "stderr",
     "output_type": "stream",
     "text": [
      "Exception ignored in: <function ResourceTracker.__del__ at 0x104fd7880>\n",
      "Traceback (most recent call last):\n",
      "  File \"/Library/Frameworks/Python.framework/Versions/3.13/lib/python3.13/multiprocessing/resource_tracker.py\", line 82, in __del__\n",
      "  File \"/Library/Frameworks/Python.framework/Versions/3.13/lib/python3.13/multiprocessing/resource_tracker.py\", line 91, in _stop\n",
      "  File \"/Library/Frameworks/Python.framework/Versions/3.13/lib/python3.13/multiprocessing/resource_tracker.py\", line 116, in _stop_locked\n",
      "ChildProcessError: [Errno 10] No child processes\n"
     ]
    },
    {
     "name": "stdout",
     "output_type": "stream",
     "text": [
      "[CV] END bootstrap=True, criterion=gini, max_depth=15, max_features=None, min_samples_leaf=1, min_samples_split=3, n_estimators=800; total time= 2.6min\n"
     ]
    },
    {
     "name": "stderr",
     "output_type": "stream",
     "text": [
      "Exception ignored in: <function ResourceTracker.__del__ at 0x103847880>\n",
      "Traceback (most recent call last):\n",
      "  File \"/Library/Frameworks/Python.framework/Versions/3.13/lib/python3.13/multiprocessing/resource_tracker.py\", line 82, in __del__\n",
      "  File \"/Library/Frameworks/Python.framework/Versions/3.13/lib/python3.13/multiprocessing/resource_tracker.py\", line 91, in _stop\n",
      "  File \"/Library/Frameworks/Python.framework/Versions/3.13/lib/python3.13/multiprocessing/resource_tracker.py\", line 116, in _stop_locked\n",
      "ChildProcessError: [Errno 10] No child processes\n"
     ]
    },
    {
     "name": "stdout",
     "output_type": "stream",
     "text": [
      "[CV] END bootstrap=False, criterion=gini, max_depth=10, max_features=log2, min_samples_leaf=1, min_samples_split=2, n_estimators=800; total time=  28.6s\n",
      "[CV] END bootstrap=True, criterion=gini, max_depth=15, max_features=None, min_samples_leaf=1, min_samples_split=3, n_estimators=800; total time= 2.6min\n",
      "[CV] END bootstrap=False, criterion=entropy, max_depth=10, max_features=0.5, min_samples_leaf=2, min_samples_split=4, n_estimators=600; total time= 1.2min\n",
      "[CV] END bootstrap=False, criterion=entropy, max_depth=15, max_features=sqrt, min_samples_leaf=1, min_samples_split=3, n_estimators=1200; total time= 1.4min\n",
      "[CV] END bootstrap=False, criterion=entropy, max_depth=15, max_features=sqrt, min_samples_leaf=1, min_samples_split=3, n_estimators=1200; total time= 1.4min\n"
     ]
    },
    {
     "name": "stderr",
     "output_type": "stream",
     "text": [
      "Exception ignored in: <function ResourceTracker.__del__ at 0x102947880>\n",
      "Traceback (most recent call last):\n",
      "  File \"/Library/Frameworks/Python.framework/Versions/3.13/lib/python3.13/multiprocessing/resource_tracker.py\", line 82, in __del__\n",
      "  File \"/Library/Frameworks/Python.framework/Versions/3.13/lib/python3.13/multiprocessing/resource_tracker.py\", line 91, in _stop\n",
      "  File \"/Library/Frameworks/Python.framework/Versions/3.13/lib/python3.13/multiprocessing/resource_tracker.py\", line 116, in _stop_locked\n",
      "ChildProcessError: [Errno 10] No child processes\n"
     ]
    },
    {
     "name": "stdout",
     "output_type": "stream",
     "text": [
      "[CV] END bootstrap=False, criterion=entropy, max_depth=10, max_features=0.5, min_samples_leaf=2, min_samples_split=4, n_estimators=600; total time= 1.2min\n",
      "[CV] END bootstrap=False, criterion=gini, max_depth=None, max_features=auto, min_samples_leaf=4, min_samples_split=2, n_estimators=500; total time=   0.0s\n",
      "[CV] END bootstrap=False, criterion=gini, max_depth=None, max_features=auto, min_samples_leaf=4, min_samples_split=2, n_estimators=500; total time=   0.0s\n",
      "[CV] END bootstrap=False, criterion=gini, max_depth=None, max_features=auto, min_samples_leaf=4, min_samples_split=2, n_estimators=500; total time=   0.1s\n",
      "[CV] END bootstrap=False, criterion=gini, max_depth=None, max_features=auto, min_samples_leaf=4, min_samples_split=2, n_estimators=500; total time=   0.0s\n",
      "[CV] END bootstrap=False, criterion=gini, max_depth=None, max_features=auto, min_samples_leaf=4, min_samples_split=2, n_estimators=500; total time=   0.0s\n",
      "[CV] END bootstrap=True, criterion=entropy, max_depth=5, max_features=log2, min_samples_leaf=2, min_samples_split=2, n_estimators=200; total time=   3.4s\n",
      "[CV] END bootstrap=False, criterion=entropy, max_depth=10, max_features=0.5, min_samples_leaf=2, min_samples_split=4, n_estimators=600; total time= 1.2min\n",
      "[CV] END bootstrap=False, criterion=entropy, max_depth=15, max_features=sqrt, min_samples_leaf=1, min_samples_split=3, n_estimators=1200; total time= 1.4min\n",
      "[CV] END bootstrap=True, criterion=entropy, max_depth=5, max_features=log2, min_samples_leaf=2, min_samples_split=2, n_estimators=200; total time=   3.1s\n",
      "[CV] END bootstrap=False, criterion=entropy, max_depth=15, max_features=sqrt, min_samples_leaf=1, min_samples_split=3, n_estimators=1200; total time= 1.4min\n",
      "[CV] END bootstrap=True, criterion=entropy, max_depth=5, max_features=log2, min_samples_leaf=2, min_samples_split=2, n_estimators=200; total time=   3.5s\n",
      "[CV] END bootstrap=False, criterion=entropy, max_depth=15, max_features=sqrt, min_samples_leaf=1, min_samples_split=3, n_estimators=1200; total time= 1.4min\n",
      "[CV] END bootstrap=True, criterion=entropy, max_depth=5, max_features=log2, min_samples_leaf=2, min_samples_split=2, n_estimators=200; total time=   3.0s\n",
      "[CV] END bootstrap=True, criterion=entropy, max_depth=5, max_features=log2, min_samples_leaf=2, min_samples_split=2, n_estimators=200; total time=   2.7s\n",
      "[CV] END bootstrap=True, criterion=gini, max_depth=5, max_features=None, min_samples_leaf=4, min_samples_split=3, n_estimators=200; total time=  15.3s\n",
      "[CV] END bootstrap=True, criterion=gini, max_depth=5, max_features=None, min_samples_leaf=4, min_samples_split=3, n_estimators=200; total time=  15.2s\n",
      "[CV] END bootstrap=True, criterion=gini, max_depth=5, max_features=None, min_samples_leaf=4, min_samples_split=3, n_estimators=200; total time=  15.1s\n",
      "[CV] END bootstrap=False, criterion=entropy, max_depth=10, max_features=0.5, min_samples_leaf=2, min_samples_split=4, n_estimators=600; total time= 1.2min\n",
      "[CV] END bootstrap=False, criterion=entropy, max_depth=10, max_features=0.5, min_samples_leaf=2, min_samples_split=4, n_estimators=600; total time= 1.2min\n",
      "[CV] END bootstrap=True, criterion=gini, max_depth=5, max_features=None, min_samples_leaf=4, min_samples_split=3, n_estimators=200; total time=  15.1s\n",
      "[CV] END bootstrap=True, criterion=gini, max_depth=5, max_features=sqrt, min_samples_leaf=2, min_samples_split=4, n_estimators=400; total time=   7.7s\n",
      "[CV] END bootstrap=True, criterion=gini, max_depth=5, max_features=sqrt, min_samples_leaf=2, min_samples_split=4, n_estimators=400; total time=   7.3s\n",
      "[CV] END bootstrap=True, criterion=gini, max_depth=5, max_features=None, min_samples_leaf=4, min_samples_split=3, n_estimators=200; total time=  15.2s\n",
      "[CV] END bootstrap=True, criterion=gini, max_depth=5, max_features=sqrt, min_samples_leaf=2, min_samples_split=4, n_estimators=400; total time=   7.7s\n",
      "[CV] END bootstrap=True, criterion=gini, max_depth=5, max_features=sqrt, min_samples_leaf=2, min_samples_split=4, n_estimators=400; total time=   7.4s\n",
      "[CV] END bootstrap=True, criterion=gini, max_depth=5, max_features=sqrt, min_samples_leaf=2, min_samples_split=4, n_estimators=400; total time=   7.5s\n",
      "[CV] END bootstrap=False, criterion=entropy, max_depth=20, max_features=log2, min_samples_leaf=1, min_samples_split=3, n_estimators=500; total time=  37.6s\n",
      "[CV] END bootstrap=False, criterion=entropy, max_depth=20, max_features=log2, min_samples_leaf=1, min_samples_split=3, n_estimators=500; total time=  37.5s\n"
     ]
    },
    {
     "name": "stderr",
     "output_type": "stream",
     "text": [
      "Exception ignored in: <function ResourceTracker.__del__ at 0x11059f880>\n",
      "Traceback (most recent call last):\n",
      "  File \"/Library/Frameworks/Python.framework/Versions/3.13/lib/python3.13/multiprocessing/resource_tracker.py\", line 82, in __del__\n",
      "  File \"/Library/Frameworks/Python.framework/Versions/3.13/lib/python3.13/multiprocessing/resource_tracker.py\", line 91, in _stop\n",
      "  File \"/Library/Frameworks/Python.framework/Versions/3.13/lib/python3.13/multiprocessing/resource_tracker.py\", line 116, in _stop_locked\n",
      "ChildProcessError: [Errno 10] No child processes\n",
      "Exception ignored in: <function ResourceTracker.__del__ at 0x102577880>\n",
      "Traceback (most recent call last):\n",
      "  File \"/Library/Frameworks/Python.framework/Versions/3.13/lib/python3.13/multiprocessing/resource_tracker.py\", line 82, in __del__\n",
      "  File \"/Library/Frameworks/Python.framework/Versions/3.13/lib/python3.13/multiprocessing/resource_tracker.py\", line 91, in _stop\n",
      "  File \"/Library/Frameworks/Python.framework/Versions/3.13/lib/python3.13/multiprocessing/resource_tracker.py\", line 116, in _stop_locked\n",
      "ChildProcessError: [Errno 10] No child processes\n"
     ]
    },
    {
     "name": "stdout",
     "output_type": "stream",
     "text": [
      "[CV] END bootstrap=False, criterion=entropy, max_depth=20, max_features=log2, min_samples_leaf=1, min_samples_split=3, n_estimators=500; total time=  36.2s\n"
     ]
    },
    {
     "name": "stderr",
     "output_type": "stream",
     "text": [
      "Exception ignored in: <function ResourceTracker.__del__ at 0x104597880>\n",
      "Traceback (most recent call last):\n",
      "  File \"/Library/Frameworks/Python.framework/Versions/3.13/lib/python3.13/multiprocessing/resource_tracker.py\", line 82, in __del__\n",
      "  File \"/Library/Frameworks/Python.framework/Versions/3.13/lib/python3.13/multiprocessing/resource_tracker.py\", line 91, in _stop\n",
      "  File \"/Library/Frameworks/Python.framework/Versions/3.13/lib/python3.13/multiprocessing/resource_tracker.py\", line 116, in _stop_locked\n",
      "ChildProcessError: [Errno 10] No child processes\n"
     ]
    },
    {
     "name": "stdout",
     "output_type": "stream",
     "text": [
      "[CV] END bootstrap=True, criterion=gini, max_depth=None, max_features=sqrt, min_samples_leaf=2, min_samples_split=4, n_estimators=200; total time=  11.0s\n",
      "[CV] END bootstrap=True, criterion=gini, max_depth=None, max_features=sqrt, min_samples_leaf=2, min_samples_split=4, n_estimators=200; total time=  10.9s\n",
      "[CV] END bootstrap=False, criterion=entropy, max_depth=20, max_features=log2, min_samples_leaf=1, min_samples_split=3, n_estimators=500; total time=  36.8s\n",
      "[CV] END bootstrap=False, criterion=entropy, max_depth=20, max_features=log2, min_samples_leaf=1, min_samples_split=3, n_estimators=500; total time=  37.1s\n",
      "[CV] END bootstrap=True, criterion=gini, max_depth=None, max_features=sqrt, min_samples_leaf=2, min_samples_split=4, n_estimators=200; total time=  11.0s\n",
      "[CV] END bootstrap=True, criterion=gini, max_depth=None, max_features=sqrt, min_samples_leaf=2, min_samples_split=4, n_estimators=200; total time=  10.8s\n",
      "[CV] END bootstrap=True, criterion=gini, max_depth=None, max_features=sqrt, min_samples_leaf=2, min_samples_split=4, n_estimators=200; total time=  10.8s\n",
      "[CV] END bootstrap=False, criterion=gini, max_depth=15, max_features=0.3, min_samples_leaf=2, min_samples_split=4, n_estimators=800; total time= 1.2min\n"
     ]
    },
    {
     "name": "stderr",
     "output_type": "stream",
     "text": [
      "Exception ignored in: <function ResourceTracker.__del__ at 0x104747880>\n",
      "Traceback (most recent call last):\n",
      "  File \"/Library/Frameworks/Python.framework/Versions/3.13/lib/python3.13/multiprocessing/resource_tracker.py\", line 82, in __del__\n",
      "  File \"/Library/Frameworks/Python.framework/Versions/3.13/lib/python3.13/multiprocessing/resource_tracker.py\", line 91, in _stop\n",
      "  File \"/Library/Frameworks/Python.framework/Versions/3.13/lib/python3.13/multiprocessing/resource_tracker.py\", line 116, in _stop_locked\n",
      "ChildProcessError: [Errno 10] No child processes\n"
     ]
    },
    {
     "name": "stdout",
     "output_type": "stream",
     "text": [
      "[CV] END bootstrap=False, criterion=gini, max_depth=15, max_features=0.3, min_samples_leaf=2, min_samples_split=4, n_estimators=800; total time= 1.2min\n",
      "[CV] END bootstrap=False, criterion=gini, max_depth=15, max_features=0.3, min_samples_leaf=2, min_samples_split=4, n_estimators=800; total time= 1.2min\n"
     ]
    },
    {
     "name": "stderr",
     "output_type": "stream",
     "text": [
      "Exception ignored in: <function ResourceTracker.__del__ at 0x104b47880>\n",
      "Traceback (most recent call last):\n",
      "  File \"/Library/Frameworks/Python.framework/Versions/3.13/lib/python3.13/multiprocessing/resource_tracker.py\", line 82, in __del__\n",
      "  File \"/Library/Frameworks/Python.framework/Versions/3.13/lib/python3.13/multiprocessing/resource_tracker.py\", line 91, in _stop\n",
      "  File \"/Library/Frameworks/Python.framework/Versions/3.13/lib/python3.13/multiprocessing/resource_tracker.py\", line 116, in _stop_locked\n",
      "ChildProcessError: [Errno 10] No child processes\n"
     ]
    },
    {
     "name": "stdout",
     "output_type": "stream",
     "text": [
      "[CV] END bootstrap=False, criterion=entropy, max_depth=15, max_features=0.7, min_samples_leaf=1, min_samples_split=2, n_estimators=1100; total time= 4.3min\n",
      "[CV] END bootstrap=False, criterion=entropy, max_depth=15, max_features=0.7, min_samples_leaf=1, min_samples_split=2, n_estimators=1100; total time= 4.3min\n",
      "[CV] END bootstrap=False, criterion=entropy, max_depth=15, max_features=0.7, min_samples_leaf=1, min_samples_split=2, n_estimators=1100; total time= 4.3min\n",
      "[CV] END bootstrap=False, criterion=entropy, max_depth=15, max_features=0.7, min_samples_leaf=1, min_samples_split=2, n_estimators=1100; total time= 4.3min\n"
     ]
    },
    {
     "name": "stderr",
     "output_type": "stream",
     "text": [
      "Exception ignored in: <function ResourceTracker.__del__ at 0x106747880>\n",
      "Traceback (most recent call last):\n",
      "  File \"/Library/Frameworks/Python.framework/Versions/3.13/lib/python3.13/multiprocessing/resource_tracker.py\", line 82, in __del__\n",
      "  File \"/Library/Frameworks/Python.framework/Versions/3.13/lib/python3.13/multiprocessing/resource_tracker.py\", line 91, in _stop\n",
      "  File \"/Library/Frameworks/Python.framework/Versions/3.13/lib/python3.13/multiprocessing/resource_tracker.py\", line 116, in _stop_locked\n",
      "ChildProcessError: [Errno 10] No child processes\n",
      "Exception ignored in: <function ResourceTracker.__del__ at 0x102947880>\n",
      "Traceback (most recent call last):\n",
      "  File \"/Library/Frameworks/Python.framework/Versions/3.13/lib/python3.13/multiprocessing/resource_tracker.py\", line 82, in __del__\n",
      "  File \"/Library/Frameworks/Python.framework/Versions/3.13/lib/python3.13/multiprocessing/resource_tracker.py\", line 91, in _stop\n",
      "  File \"/Library/Frameworks/Python.framework/Versions/3.13/lib/python3.13/multiprocessing/resource_tracker.py\", line 116, in _stop_locked\n",
      "ChildProcessError: [Errno 10] No child processes\n"
     ]
    },
    {
     "name": "stdout",
     "output_type": "stream",
     "text": [
      "[CV] END bootstrap=False, criterion=entropy, max_depth=15, max_features=0.7, min_samples_leaf=1, min_samples_split=2, n_estimators=1100; total time= 4.3min\n"
     ]
    },
    {
     "name": "stderr",
     "output_type": "stream",
     "text": [
      "Exception ignored in: <function ResourceTracker.__del__ at 0x105b47880>\n",
      "Traceback (most recent call last):\n",
      "  File \"/Library/Frameworks/Python.framework/Versions/3.13/lib/python3.13/multiprocessing/resource_tracker.py\", line 82, in __del__\n",
      "  File \"/Library/Frameworks/Python.framework/Versions/3.13/lib/python3.13/multiprocessing/resource_tracker.py\", line 91, in _stop\n",
      "  File \"/Library/Frameworks/Python.framework/Versions/3.13/lib/python3.13/multiprocessing/resource_tracker.py\", line 116, in _stop_locked\n",
      "ChildProcessError: [Errno 10] No child processes\n"
     ]
    },
    {
     "name": "stdout",
     "output_type": "stream",
     "text": [
      "[CV] END bootstrap=False, criterion=gini, max_depth=15, max_features=0.3, min_samples_leaf=2, min_samples_split=4, n_estimators=800; total time= 1.1min\n",
      "[CV] END bootstrap=False, criterion=gini, max_depth=15, max_features=0.3, min_samples_leaf=2, min_samples_split=4, n_estimators=800; total time= 1.1min\n",
      "[CV] END bootstrap=False, criterion=gini, max_depth=10, max_features=0.5, min_samples_leaf=2, min_samples_split=4, n_estimators=1200; total time= 2.3min\n",
      "[CV] END bootstrap=False, criterion=gini, max_depth=10, max_features=0.5, min_samples_leaf=2, min_samples_split=4, n_estimators=1200; total time= 2.3min\n",
      "[CV] END bootstrap=False, criterion=gini, max_depth=10, max_features=0.5, min_samples_leaf=2, min_samples_split=4, n_estimators=1200; total time= 2.3min\n"
     ]
    },
    {
     "name": "stderr",
     "output_type": "stream",
     "text": [
      "Exception ignored in: <function ResourceTracker.__del__ at 0x102e47880>\n",
      "Traceback (most recent call last):\n",
      "  File \"/Library/Frameworks/Python.framework/Versions/3.13/lib/python3.13/multiprocessing/resource_tracker.py\", line 82, in __del__\n",
      "  File \"/Library/Frameworks/Python.framework/Versions/3.13/lib/python3.13/multiprocessing/resource_tracker.py\", line 91, in _stop\n",
      "  File \"/Library/Frameworks/Python.framework/Versions/3.13/lib/python3.13/multiprocessing/resource_tracker.py\", line 116, in _stop_locked\n",
      "ChildProcessError: [Errno 10] No child processes\n"
     ]
    },
    {
     "name": "stdout",
     "output_type": "stream",
     "text": [
      "[CV] END bootstrap=False, criterion=entropy, max_depth=None, max_features=0.7, min_samples_leaf=2, min_samples_split=3, n_estimators=600; total time= 3.5min\n",
      "[CV] END bootstrap=False, criterion=entropy, max_depth=None, max_features=0.7, min_samples_leaf=2, min_samples_split=3, n_estimators=600; total time= 3.4min\n",
      "[CV] END bootstrap=False, criterion=entropy, max_depth=None, max_features=0.7, min_samples_leaf=2, min_samples_split=3, n_estimators=600; total time= 3.5min\n",
      "[CV] END bootstrap=False, criterion=entropy, max_depth=None, max_features=0.7, min_samples_leaf=2, min_samples_split=3, n_estimators=600; total time= 3.5min\n"
     ]
    },
    {
     "name": "stderr",
     "output_type": "stream",
     "text": [
      "Exception ignored in: <function ResourceTracker.__del__ at 0x106b47880>\n",
      "Traceback (most recent call last):\n",
      "  File \"/Library/Frameworks/Python.framework/Versions/3.13/lib/python3.13/multiprocessing/resource_tracker.py\", line 82, in __del__\n",
      "  File \"/Library/Frameworks/Python.framework/Versions/3.13/lib/python3.13/multiprocessing/resource_tracker.py\", line 91, in _stop\n",
      "  File \"/Library/Frameworks/Python.framework/Versions/3.13/lib/python3.13/multiprocessing/resource_tracker.py\", line 116, in _stop_locked\n",
      "ChildProcessError: [Errno 10] No child processes\n"
     ]
    },
    {
     "name": "stdout",
     "output_type": "stream",
     "text": [
      "[CV] END bootstrap=False, criterion=entropy, max_depth=None, max_features=0.7, min_samples_leaf=2, min_samples_split=3, n_estimators=600; total time= 3.5min\n",
      "[CV] END bootstrap=False, criterion=gini, max_depth=10, max_features=0.5, min_samples_leaf=2, min_samples_split=4, n_estimators=1200; total time= 2.2min\n",
      "[CV] END bootstrap=False, criterion=entropy, max_depth=15, max_features=0.5, min_samples_leaf=1, min_samples_split=2, n_estimators=600; total time= 1.8min\n",
      "[CV] END bootstrap=False, criterion=gini, max_depth=10, max_features=0.5, min_samples_leaf=2, min_samples_split=4, n_estimators=1200; total time= 2.3min\n",
      "[CV] END bootstrap=False, criterion=gini, max_depth=10, max_features=0.5, min_samples_leaf=2, min_samples_split=3, n_estimators=1200; total time= 2.3min\n",
      "[CV] END bootstrap=False, criterion=gini, max_depth=10, max_features=0.5, min_samples_leaf=2, min_samples_split=3, n_estimators=1200; total time= 2.3min\n",
      "[CV] END bootstrap=False, criterion=gini, max_depth=10, max_features=0.5, min_samples_leaf=2, min_samples_split=3, n_estimators=1200; total time= 2.3min\n",
      "[CV] END bootstrap=False, criterion=gini, max_depth=10, max_features=0.5, min_samples_leaf=2, min_samples_split=3, n_estimators=1200; total time= 2.3min\n",
      "[CV] END bootstrap=False, criterion=gini, max_depth=10, max_features=0.5, min_samples_leaf=2, min_samples_split=3, n_estimators=1200; total time= 2.3min\n",
      "[CV] END bootstrap=False, criterion=gini, max_depth=10, max_features=0.5, min_samples_leaf=2, min_samples_split=2, n_estimators=300; total time=  34.8s\n",
      "[CV] END bootstrap=False, criterion=gini, max_depth=10, max_features=0.5, min_samples_leaf=2, min_samples_split=2, n_estimators=300; total time=  35.1s\n",
      "[CV] END bootstrap=False, criterion=entropy, max_depth=15, max_features=0.5, min_samples_leaf=1, min_samples_split=2, n_estimators=600; total time= 1.8min\n",
      "[CV] END bootstrap=False, criterion=gini, max_depth=10, max_features=0.5, min_samples_leaf=2, min_samples_split=2, n_estimators=300; total time=  34.7s\n",
      "[CV] END bootstrap=False, criterion=gini, max_depth=10, max_features=0.5, min_samples_leaf=2, min_samples_split=2, n_estimators=300; total time=  34.2s\n",
      "[CV] END bootstrap=False, criterion=gini, max_depth=10, max_features=0.5, min_samples_leaf=2, min_samples_split=2, n_estimators=300; total time=  34.5s\n",
      "[CV] END bootstrap=False, criterion=entropy, max_depth=15, max_features=0.5, min_samples_leaf=1, min_samples_split=2, n_estimators=600; total time= 1.8min\n",
      "[CV] END bootstrap=False, criterion=entropy, max_depth=15, max_features=0.5, min_samples_leaf=1, min_samples_split=2, n_estimators=600; total time= 1.8min\n",
      "[CV] END bootstrap=False, criterion=entropy, max_depth=15, max_features=0.5, min_samples_leaf=1, min_samples_split=2, n_estimators=600; total time= 1.7min\n",
      "[CV] END bootstrap=True, criterion=gini, max_depth=15, max_features=0.3, min_samples_leaf=2, min_samples_split=2, n_estimators=200; total time=  11.7s\n",
      "[CV] END bootstrap=True, criterion=gini, max_depth=15, max_features=0.3, min_samples_leaf=2, min_samples_split=2, n_estimators=200; total time=  11.9s\n",
      "[CV] END bootstrap=True, criterion=gini, max_depth=15, max_features=0.3, min_samples_leaf=2, min_samples_split=2, n_estimators=200; total time=  11.6s\n",
      "[CV] END bootstrap=True, criterion=gini, max_depth=15, max_features=0.3, min_samples_leaf=2, min_samples_split=2, n_estimators=200; total time=  11.8s\n",
      "[CV] END bootstrap=True, criterion=gini, max_depth=15, max_features=0.3, min_samples_leaf=2, min_samples_split=2, n_estimators=200; total time=  11.8s\n",
      "[CV] END bootstrap=False, criterion=entropy, max_depth=15, max_features=sqrt, min_samples_leaf=4, min_samples_split=3, n_estimators=500; total time=  36.2s\n",
      "[CV] END bootstrap=False, criterion=entropy, max_depth=15, max_features=sqrt, min_samples_leaf=4, min_samples_split=3, n_estimators=500; total time=  36.4s\n",
      "[CV] END bootstrap=False, criterion=entropy, max_depth=15, max_features=sqrt, min_samples_leaf=4, min_samples_split=3, n_estimators=500; total time=  36.9s\n",
      "[CV] END bootstrap=False, criterion=entropy, max_depth=15, max_features=sqrt, min_samples_leaf=4, min_samples_split=3, n_estimators=500; total time=  36.0s\n"
     ]
    },
    {
     "name": "stderr",
     "output_type": "stream",
     "text": [
      "Exception ignored in: <function ResourceTracker.__del__ at 0x104d3b880>\n",
      "Traceback (most recent call last):\n",
      "  File \"/Library/Frameworks/Python.framework/Versions/3.13/lib/python3.13/multiprocessing/resource_tracker.py\", line 82, in __del__\n",
      "  File \"/Library/Frameworks/Python.framework/Versions/3.13/lib/python3.13/multiprocessing/resource_tracker.py\", line 91, in _stop\n",
      "  File \"/Library/Frameworks/Python.framework/Versions/3.13/lib/python3.13/multiprocessing/resource_tracker.py\", line 116, in _stop_locked\n",
      "ChildProcessError: [Errno 10] No child processes\n"
     ]
    },
    {
     "name": "stdout",
     "output_type": "stream",
     "text": [
      "[CV] END bootstrap=False, criterion=entropy, max_depth=15, max_features=sqrt, min_samples_leaf=4, min_samples_split=3, n_estimators=500; total time=  36.1s\n",
      "[CV] END bootstrap=False, criterion=gini, max_depth=15, max_features=0.5, min_samples_leaf=2, min_samples_split=2, n_estimators=1200; total time= 3.2min\n",
      "[CV] END bootstrap=False, criterion=gini, max_depth=15, max_features=0.5, min_samples_leaf=2, min_samples_split=2, n_estimators=1200; total time= 3.2min\n"
     ]
    },
    {
     "name": "stderr",
     "output_type": "stream",
     "text": [
      "Exception ignored in: <function ResourceTracker.__del__ at 0x104a47880>\n",
      "Traceback (most recent call last):\n",
      "  File \"/Library/Frameworks/Python.framework/Versions/3.13/lib/python3.13/multiprocessing/resource_tracker.py\", line 82, in __del__\n",
      "  File \"/Library/Frameworks/Python.framework/Versions/3.13/lib/python3.13/multiprocessing/resource_tracker.py\", line 91, in _stop\n",
      "  File \"/Library/Frameworks/Python.framework/Versions/3.13/lib/python3.13/multiprocessing/resource_tracker.py\", line 116, in _stop_locked\n",
      "ChildProcessError: [Errno 10] No child processes\n"
     ]
    },
    {
     "name": "stdout",
     "output_type": "stream",
     "text": [
      "[CV] END bootstrap=False, criterion=gini, max_depth=15, max_features=0.5, min_samples_leaf=2, min_samples_split=2, n_estimators=1200; total time= 3.2min\n"
     ]
    },
    {
     "name": "stderr",
     "output_type": "stream",
     "text": [
      "Exception ignored in: <function ResourceTracker.__del__ at 0x103147880>\n",
      "Traceback (most recent call last):\n",
      "  File \"/Library/Frameworks/Python.framework/Versions/3.13/lib/python3.13/multiprocessing/resource_tracker.py\", line 82, in __del__\n",
      "  File \"/Library/Frameworks/Python.framework/Versions/3.13/lib/python3.13/multiprocessing/resource_tracker.py\", line 91, in _stop\n",
      "  File \"/Library/Frameworks/Python.framework/Versions/3.13/lib/python3.13/multiprocessing/resource_tracker.py\", line 116, in _stop_locked\n",
      "ChildProcessError: [Errno 10] No child processes\n"
     ]
    },
    {
     "name": "stdout",
     "output_type": "stream",
     "text": [
      "[CV] END bootstrap=False, criterion=gini, max_depth=15, max_features=0.5, min_samples_leaf=2, min_samples_split=2, n_estimators=1200; total time= 3.2min\n"
     ]
    },
    {
     "name": "stderr",
     "output_type": "stream",
     "text": [
      "Exception ignored in: <function ResourceTracker.__del__ at 0x1069db880>\n",
      "Traceback (most recent call last):\n",
      "  File \"/Library/Frameworks/Python.framework/Versions/3.13/lib/python3.13/multiprocessing/resource_tracker.py\", line 82, in __del__\n",
      "  File \"/Library/Frameworks/Python.framework/Versions/3.13/lib/python3.13/multiprocessing/resource_tracker.py\", line 91, in _stop\n",
      "  File \"/Library/Frameworks/Python.framework/Versions/3.13/lib/python3.13/multiprocessing/resource_tracker.py\", line 116, in _stop_locked\n",
      "ChildProcessError: [Errno 10] No child processes\n"
     ]
    },
    {
     "name": "stdout",
     "output_type": "stream",
     "text": [
      "[CV] END bootstrap=False, criterion=gini, max_depth=15, max_features=0.5, min_samples_leaf=2, min_samples_split=2, n_estimators=1200; total time= 3.1min\n"
     ]
    },
    {
     "name": "stderr",
     "output_type": "stream",
     "text": [
      "Exception ignored in: <function ResourceTracker.__del__ at 0x106c47880>\n",
      "Traceback (most recent call last):\n",
      "  File \"/Library/Frameworks/Python.framework/Versions/3.13/lib/python3.13/multiprocessing/resource_tracker.py\", line 82, in __del__\n",
      "  File \"/Library/Frameworks/Python.framework/Versions/3.13/lib/python3.13/multiprocessing/resource_tracker.py\", line 91, in _stop\n",
      "  File \"/Library/Frameworks/Python.framework/Versions/3.13/lib/python3.13/multiprocessing/resource_tracker.py\", line 116, in _stop_locked\n",
      "ChildProcessError: [Errno 10] No child processes\n"
     ]
    },
    {
     "name": "stdout",
     "output_type": "stream",
     "text": [
      "[CV] END bootstrap=True, criterion=entropy, max_depth=20, max_features=0.3, min_samples_leaf=2, min_samples_split=2, n_estimators=600; total time=  44.5s\n",
      "[CV] END bootstrap=True, criterion=entropy, max_depth=20, max_features=0.3, min_samples_leaf=2, min_samples_split=2, n_estimators=600; total time=  44.7s\n",
      "[CV] END bootstrap=True, criterion=entropy, max_depth=20, max_features=0.3, min_samples_leaf=2, min_samples_split=2, n_estimators=600; total time=  45.6s\n",
      "[CV] END bootstrap=True, criterion=entropy, max_depth=10, max_features=None, min_samples_leaf=2, min_samples_split=2, n_estimators=1200; total time= 3.0min\n",
      "[CV] END bootstrap=True, criterion=entropy, max_depth=20, max_features=0.3, min_samples_leaf=2, min_samples_split=2, n_estimators=600; total time=  45.5s\n",
      "[CV] END bootstrap=True, criterion=entropy, max_depth=20, max_features=0.3, min_samples_leaf=2, min_samples_split=2, n_estimators=600; total time=  45.8s\n",
      "[CV] END bootstrap=True, criterion=entropy, max_depth=10, max_features=None, min_samples_leaf=2, min_samples_split=2, n_estimators=1200; total time= 3.0min\n",
      "[CV] END bootstrap=True, criterion=entropy, max_depth=10, max_features=None, min_samples_leaf=2, min_samples_split=2, n_estimators=1200; total time= 3.0min\n",
      "[CV] END bootstrap=True, criterion=gini, max_depth=5, max_features=log2, min_samples_leaf=2, min_samples_split=3, n_estimators=300; total time=   4.7s\n",
      "[CV] END bootstrap=True, criterion=gini, max_depth=5, max_features=log2, min_samples_leaf=2, min_samples_split=3, n_estimators=300; total time=   4.6s\n",
      "[CV] END bootstrap=True, criterion=gini, max_depth=5, max_features=log2, min_samples_leaf=2, min_samples_split=3, n_estimators=300; total time=   4.8s\n",
      "[CV] END bootstrap=True, criterion=gini, max_depth=5, max_features=log2, min_samples_leaf=2, min_samples_split=3, n_estimators=300; total time=   4.7s\n",
      "[CV] END bootstrap=True, criterion=gini, max_depth=5, max_features=log2, min_samples_leaf=2, min_samples_split=3, n_estimators=300; total time=   4.7s\n",
      "[CV] END bootstrap=False, criterion=entropy, max_depth=15, max_features=0.3, min_samples_leaf=2, min_samples_split=4, n_estimators=1000; total time= 1.7min\n",
      "[CV] END bootstrap=True, criterion=gini, max_depth=5, max_features=0.7, min_samples_leaf=1, min_samples_split=4, n_estimators=400; total time=  21.7s\n",
      "[CV] END bootstrap=True, criterion=entropy, max_depth=10, max_features=None, min_samples_leaf=2, min_samples_split=2, n_estimators=1200; total time= 3.0min\n",
      "[CV] END bootstrap=True, criterion=entropy, max_depth=10, max_features=None, min_samples_leaf=2, min_samples_split=2, n_estimators=1200; total time= 3.0min\n",
      "[CV] END bootstrap=False, criterion=entropy, max_depth=15, max_features=0.3, min_samples_leaf=2, min_samples_split=4, n_estimators=1000; total time= 1.6min\n",
      "[CV] END bootstrap=False, criterion=gini, max_depth=None, max_features=auto, min_samples_leaf=2, min_samples_split=2, n_estimators=400; total time=   0.0s\n",
      "[CV] END bootstrap=False, criterion=gini, max_depth=None, max_features=auto, min_samples_leaf=2, min_samples_split=2, n_estimators=400; total time=   0.0s\n",
      "[CV] END bootstrap=False, criterion=gini, max_depth=None, max_features=auto, min_samples_leaf=2, min_samples_split=2, n_estimators=400; total time=   0.0s\n",
      "[CV] END bootstrap=False, criterion=gini, max_depth=None, max_features=auto, min_samples_leaf=2, min_samples_split=2, n_estimators=400; total time=   0.0s\n",
      "[CV] END bootstrap=False, criterion=gini, max_depth=None, max_features=auto, min_samples_leaf=2, min_samples_split=2, n_estimators=400; total time=   0.0s\n",
      "[CV] END bootstrap=False, criterion=entropy, max_depth=15, max_features=0.3, min_samples_leaf=2, min_samples_split=4, n_estimators=1000; total time= 1.6min\n",
      "[CV] END bootstrap=True, criterion=gini, max_depth=5, max_features=0.7, min_samples_leaf=1, min_samples_split=4, n_estimators=400; total time=  21.4s\n",
      "[CV] END bootstrap=True, criterion=gini, max_depth=5, max_features=0.7, min_samples_leaf=1, min_samples_split=4, n_estimators=400; total time=  22.0s\n",
      "[CV] END bootstrap=False, criterion=entropy, max_depth=15, max_features=0.3, min_samples_leaf=2, min_samples_split=4, n_estimators=1000; total time= 1.6min\n",
      "[CV] END bootstrap=True, criterion=gini, max_depth=5, max_features=0.7, min_samples_leaf=1, min_samples_split=4, n_estimators=400; total time=  22.2s\n",
      "[CV] END bootstrap=True, criterion=gini, max_depth=5, max_features=0.7, min_samples_leaf=1, min_samples_split=4, n_estimators=400; total time=  21.5s\n",
      "[CV] END bootstrap=False, criterion=entropy, max_depth=15, max_features=0.3, min_samples_leaf=2, min_samples_split=4, n_estimators=1000; total time= 1.6min\n"
     ]
    },
    {
     "name": "stderr",
     "output_type": "stream",
     "text": [
      "Exception ignored in: <function ResourceTracker.__del__ at 0x104f6b880>\n",
      "Traceback (most recent call last):\n",
      "  File \"/Library/Frameworks/Python.framework/Versions/3.13/lib/python3.13/multiprocessing/resource_tracker.py\", line 82, in __del__\n",
      "  File \"/Library/Frameworks/Python.framework/Versions/3.13/lib/python3.13/multiprocessing/resource_tracker.py\", line 91, in _stop\n",
      "  File \"/Library/Frameworks/Python.framework/Versions/3.13/lib/python3.13/multiprocessing/resource_tracker.py\", line 116, in _stop_locked\n",
      "ChildProcessError: [Errno 10] No child processes\n"
     ]
    },
    {
     "name": "stdout",
     "output_type": "stream",
     "text": [
      "[CV] END bootstrap=True, criterion=entropy, max_depth=20, max_features=0.3, min_samples_leaf=1, min_samples_split=3, n_estimators=600; total time=  45.7s\n",
      "[CV] END bootstrap=True, criterion=entropy, max_depth=20, max_features=0.3, min_samples_leaf=1, min_samples_split=3, n_estimators=600; total time=  45.6s\n",
      "[CV] END bootstrap=True, criterion=entropy, max_depth=20, max_features=0.3, min_samples_leaf=1, min_samples_split=3, n_estimators=600; total time=  45.1s\n",
      "[CV] END bootstrap=True, criterion=entropy, max_depth=20, max_features=0.3, min_samples_leaf=1, min_samples_split=3, n_estimators=600; total time=  45.1s\n",
      "[CV] END bootstrap=True, criterion=entropy, max_depth=20, max_features=0.3, min_samples_leaf=1, min_samples_split=3, n_estimators=600; total time=  45.1s\n"
     ]
    },
    {
     "name": "stderr",
     "output_type": "stream",
     "text": [
      "Exception ignored in: <function ResourceTracker.__del__ at 0x106c53880>\n",
      "Traceback (most recent call last):\n",
      "  File \"/Library/Frameworks/Python.framework/Versions/3.13/lib/python3.13/multiprocessing/resource_tracker.py\", line 82, in __del__\n",
      "  File \"/Library/Frameworks/Python.framework/Versions/3.13/lib/python3.13/multiprocessing/resource_tracker.py\", line 91, in _stop\n",
      "  File \"/Library/Frameworks/Python.framework/Versions/3.13/lib/python3.13/multiprocessing/resource_tracker.py\", line 116, in _stop_locked\n",
      "ChildProcessError: [Errno 10] No child processes\n",
      "Exception ignored in: <function ResourceTracker.__del__ at 0x106347880>\n",
      "Traceback (most recent call last):\n",
      "  File \"/Library/Frameworks/Python.framework/Versions/3.13/lib/python3.13/multiprocessing/resource_tracker.py\", line 82, in __del__\n",
      "  File \"/Library/Frameworks/Python.framework/Versions/3.13/lib/python3.13/multiprocessing/resource_tracker.py\", line 91, in _stop\n",
      "  File \"/Library/Frameworks/Python.framework/Versions/3.13/lib/python3.13/multiprocessing/resource_tracker.py\", line 116, in _stop_locked\n",
      "ChildProcessError: [Errno 10] No child processes\n",
      "Exception ignored in: <function ResourceTracker.__del__ at 0x102ce3880>\n",
      "Traceback (most recent call last):\n",
      "  File \"/Library/Frameworks/Python.framework/Versions/3.13/lib/python3.13/multiprocessing/resource_tracker.py\", line 82, in __del__\n",
      "  File \"/Library/Frameworks/Python.framework/Versions/3.13/lib/python3.13/multiprocessing/resource_tracker.py\", line 91, in _stop\n",
      "  File \"/Library/Frameworks/Python.framework/Versions/3.13/lib/python3.13/multiprocessing/resource_tracker.py\", line 116, in _stop_locked\n",
      "ChildProcessError: [Errno 10] No child processes\n"
     ]
    },
    {
     "name": "stdout",
     "output_type": "stream",
     "text": [
      "[CV] END bootstrap=True, criterion=gini, max_depth=10, max_features=0.3, min_samples_leaf=1, min_samples_split=4, n_estimators=1000; total time=  39.7s\n",
      "[CV] END bootstrap=True, criterion=gini, max_depth=10, max_features=0.3, min_samples_leaf=1, min_samples_split=4, n_estimators=1000; total time=  40.5s\n",
      "[CV] END bootstrap=True, criterion=gini, max_depth=10, max_features=0.3, min_samples_leaf=1, min_samples_split=4, n_estimators=1000; total time=  40.3s\n",
      "[CV] END bootstrap=True, criterion=gini, max_depth=5, max_features=log2, min_samples_leaf=2, min_samples_split=4, n_estimators=400; total time=   6.4s\n",
      "[CV] END bootstrap=True, criterion=gini, max_depth=10, max_features=0.3, min_samples_leaf=1, min_samples_split=4, n_estimators=1000; total time=  41.0s\n",
      "[CV] END bootstrap=True, criterion=gini, max_depth=10, max_features=0.3, min_samples_leaf=1, min_samples_split=4, n_estimators=1000; total time=  40.8s\n",
      "[CV] END bootstrap=True, criterion=gini, max_depth=5, max_features=log2, min_samples_leaf=2, min_samples_split=4, n_estimators=400; total time=   6.3s\n",
      "[CV] END bootstrap=True, criterion=gini, max_depth=5, max_features=log2, min_samples_leaf=2, min_samples_split=4, n_estimators=400; total time=   7.0s\n",
      "[CV] END bootstrap=True, criterion=gini, max_depth=5, max_features=log2, min_samples_leaf=2, min_samples_split=4, n_estimators=400; total time=   6.8s\n",
      "[CV] END bootstrap=True, criterion=gini, max_depth=5, max_features=log2, min_samples_leaf=2, min_samples_split=4, n_estimators=400; total time=   6.1s\n",
      "[CV] END bootstrap=False, criterion=entropy, max_depth=None, max_features=0.7, min_samples_leaf=4, min_samples_split=2, n_estimators=600; total time= 3.2min\n"
     ]
    },
    {
     "name": "stderr",
     "output_type": "stream",
     "text": [
      "Exception ignored in: <function ResourceTracker.__del__ at 0x105013880>\n",
      "Traceback (most recent call last):\n",
      "  File \"/Library/Frameworks/Python.framework/Versions/3.13/lib/python3.13/multiprocessing/resource_tracker.py\", line 82, in __del__\n",
      "  File \"/Library/Frameworks/Python.framework/Versions/3.13/lib/python3.13/multiprocessing/resource_tracker.py\", line 91, in _stop\n",
      "  File \"/Library/Frameworks/Python.framework/Versions/3.13/lib/python3.13/multiprocessing/resource_tracker.py\", line 116, in _stop_locked\n",
      "ChildProcessError: [Errno 10] No child processes\n"
     ]
    },
    {
     "name": "stdout",
     "output_type": "stream",
     "text": [
      "[CV] END bootstrap=False, criterion=entropy, max_depth=None, max_features=0.7, min_samples_leaf=4, min_samples_split=2, n_estimators=600; total time= 3.3min\n",
      "[CV] END bootstrap=False, criterion=entropy, max_depth=None, max_features=0.7, min_samples_leaf=4, min_samples_split=2, n_estimators=600; total time= 3.3min\n",
      "[CV] END bootstrap=False, criterion=entropy, max_depth=None, max_features=0.7, min_samples_leaf=4, min_samples_split=2, n_estimators=600; total time= 3.3min\n",
      "[CV] END bootstrap=True, criterion=entropy, max_depth=10, max_features=log2, min_samples_leaf=2, min_samples_split=4, n_estimators=100; total time=   2.7s\n",
      "[CV] END bootstrap=False, criterion=entropy, max_depth=None, max_features=0.7, min_samples_leaf=4, min_samples_split=2, n_estimators=600; total time= 3.3min\n",
      "[CV] END bootstrap=True, criterion=entropy, max_depth=10, max_features=log2, min_samples_leaf=2, min_samples_split=4, n_estimators=100; total time=   2.9s\n",
      "[CV] END bootstrap=True, criterion=entropy, max_depth=10, max_features=log2, min_samples_leaf=2, min_samples_split=4, n_estimators=100; total time=   3.0s\n",
      "[CV] END bootstrap=True, criterion=entropy, max_depth=10, max_features=log2, min_samples_leaf=2, min_samples_split=4, n_estimators=100; total time=   3.0s\n",
      "[CV] END bootstrap=True, criterion=entropy, max_depth=10, max_features=log2, min_samples_leaf=2, min_samples_split=4, n_estimators=100; total time=   2.8s\n",
      "[CV] END bootstrap=True, criterion=entropy, max_depth=15, max_features=0.5, min_samples_leaf=4, min_samples_split=4, n_estimators=500; total time=  54.7s\n",
      "[CV] END bootstrap=True, criterion=entropy, max_depth=15, max_features=0.5, min_samples_leaf=4, min_samples_split=4, n_estimators=500; total time=  54.4s\n",
      "[CV] END bootstrap=True, criterion=entropy, max_depth=15, max_features=0.5, min_samples_leaf=4, min_samples_split=4, n_estimators=500; total time=  54.4s\n",
      "[CV] END bootstrap=True, criterion=gini, max_depth=10, max_features=0.7, min_samples_leaf=4, min_samples_split=4, n_estimators=300; total time=  30.0s\n",
      "[CV] END bootstrap=True, criterion=entropy, max_depth=15, max_features=0.5, min_samples_leaf=4, min_samples_split=4, n_estimators=500; total time=  54.4s\n",
      "[CV] END bootstrap=True, criterion=entropy, max_depth=15, max_features=0.5, min_samples_leaf=4, min_samples_split=4, n_estimators=500; total time=  54.3s\n",
      "[CV] END bootstrap=True, criterion=gini, max_depth=10, max_features=0.7, min_samples_leaf=4, min_samples_split=4, n_estimators=300; total time=  29.9s\n",
      "[CV] END bootstrap=True, criterion=gini, max_depth=10, max_features=0.7, min_samples_leaf=4, min_samples_split=4, n_estimators=300; total time=  29.9s\n",
      "[CV] END bootstrap=True, criterion=gini, max_depth=10, max_features=0.7, min_samples_leaf=4, min_samples_split=4, n_estimators=300; total time=  30.0s\n",
      "[CV] END bootstrap=False, criterion=entropy, max_depth=None, max_features=0.5, min_samples_leaf=2, min_samples_split=2, n_estimators=1200; total time= 5.0min\n"
     ]
    },
    {
     "name": "stderr",
     "output_type": "stream",
     "text": [
      "Exception ignored in: <function ResourceTracker.__del__ at 0x107b47880>\n",
      "Traceback (most recent call last):\n",
      "  File \"/Library/Frameworks/Python.framework/Versions/3.13/lib/python3.13/multiprocessing/resource_tracker.py\", line 82, in __del__\n",
      "  File \"/Library/Frameworks/Python.framework/Versions/3.13/lib/python3.13/multiprocessing/resource_tracker.py\", line 91, in _stop\n",
      "  File \"/Library/Frameworks/Python.framework/Versions/3.13/lib/python3.13/multiprocessing/resource_tracker.py\", line 116, in _stop_locked\n",
      "ChildProcessError: [Errno 10] No child processes\n"
     ]
    },
    {
     "name": "stdout",
     "output_type": "stream",
     "text": [
      "[CV] END bootstrap=False, criterion=entropy, max_depth=None, max_features=0.5, min_samples_leaf=2, min_samples_split=2, n_estimators=1200; total time= 5.1min\n"
     ]
    },
    {
     "name": "stderr",
     "output_type": "stream",
     "text": [
      "Exception ignored in: <function ResourceTracker.__del__ at 0x102bd3880>\n",
      "Traceback (most recent call last):\n",
      "  File \"/Library/Frameworks/Python.framework/Versions/3.13/lib/python3.13/multiprocessing/resource_tracker.py\", line 82, in __del__\n",
      "  File \"/Library/Frameworks/Python.framework/Versions/3.13/lib/python3.13/multiprocessing/resource_tracker.py\", line 91, in _stop\n",
      "  File \"/Library/Frameworks/Python.framework/Versions/3.13/lib/python3.13/multiprocessing/resource_tracker.py\", line 116, in _stop_locked\n",
      "ChildProcessError: [Errno 10] No child processes\n"
     ]
    },
    {
     "name": "stdout",
     "output_type": "stream",
     "text": [
      "[CV] END bootstrap=False, criterion=entropy, max_depth=None, max_features=0.5, min_samples_leaf=2, min_samples_split=2, n_estimators=1200; total time= 5.1min\n"
     ]
    },
    {
     "name": "stderr",
     "output_type": "stream",
     "text": [
      "Exception ignored in: <function ResourceTracker.__del__ at 0x104b47880>\n",
      "Traceback (most recent call last):\n",
      "  File \"/Library/Frameworks/Python.framework/Versions/3.13/lib/python3.13/multiprocessing/resource_tracker.py\", line 82, in __del__\n",
      "  File \"/Library/Frameworks/Python.framework/Versions/3.13/lib/python3.13/multiprocessing/resource_tracker.py\", line 91, in _stop\n",
      "  File \"/Library/Frameworks/Python.framework/Versions/3.13/lib/python3.13/multiprocessing/resource_tracker.py\", line 116, in _stop_locked\n",
      "ChildProcessError: [Errno 10] No child processes\n"
     ]
    },
    {
     "name": "stdout",
     "output_type": "stream",
     "text": [
      "[CV] END bootstrap=True, criterion=gini, max_depth=10, max_features=0.7, min_samples_leaf=4, min_samples_split=4, n_estimators=300; total time=  28.7s\n",
      "[CV] END bootstrap=False, criterion=gini, max_depth=15, max_features=sqrt, min_samples_leaf=4, min_samples_split=3, n_estimators=200; total time=  10.8s\n",
      "[CV] END bootstrap=False, criterion=gini, max_depth=15, max_features=sqrt, min_samples_leaf=4, min_samples_split=3, n_estimators=200; total time=  10.9s\n",
      "[CV] END bootstrap=False, criterion=gini, max_depth=15, max_features=sqrt, min_samples_leaf=4, min_samples_split=3, n_estimators=200; total time=  12.1s\n",
      "[CV] END bootstrap=False, criterion=gini, max_depth=15, max_features=sqrt, min_samples_leaf=4, min_samples_split=3, n_estimators=200; total time=  12.4s\n",
      "[CV] END bootstrap=False, criterion=gini, max_depth=15, max_features=sqrt, min_samples_leaf=4, min_samples_split=3, n_estimators=200; total time=  12.8s\n",
      "[CV] END bootstrap=True, criterion=gini, max_depth=15, max_features=None, min_samples_leaf=4, min_samples_split=2, n_estimators=600; total time= 1.9min\n",
      "[CV] END bootstrap=True, criterion=gini, max_depth=15, max_features=None, min_samples_leaf=4, min_samples_split=2, n_estimators=600; total time= 1.9min\n",
      "[CV] END bootstrap=True, criterion=gini, max_depth=15, max_features=None, min_samples_leaf=4, min_samples_split=2, n_estimators=600; total time= 1.9min\n",
      "[CV] END bootstrap=True, criterion=gini, max_depth=15, max_features=None, min_samples_leaf=4, min_samples_split=2, n_estimators=600; total time= 1.9min\n",
      "[CV] END bootstrap=True, criterion=gini, max_depth=15, max_features=None, min_samples_leaf=4, min_samples_split=2, n_estimators=600; total time= 1.9min\n",
      "[CV] END bootstrap=False, criterion=entropy, max_depth=None, max_features=0.5, min_samples_leaf=2, min_samples_split=2, n_estimators=1200; total time= 4.9min\n",
      "[CV] END bootstrap=True, criterion=gini, max_depth=10, max_features=sqrt, min_samples_leaf=1, min_samples_split=2, n_estimators=400; total time=  12.7s\n",
      "[CV] END bootstrap=False, criterion=entropy, max_depth=None, max_features=0.5, min_samples_leaf=2, min_samples_split=2, n_estimators=1200; total time= 5.0min\n",
      "[CV] END bootstrap=True, criterion=gini, max_depth=10, max_features=sqrt, min_samples_leaf=1, min_samples_split=2, n_estimators=400; total time=  13.1s\n",
      "[CV] END bootstrap=True, criterion=gini, max_depth=10, max_features=sqrt, min_samples_leaf=1, min_samples_split=2, n_estimators=400; total time=  12.8s\n",
      "[CV] END bootstrap=True, criterion=gini, max_depth=10, max_features=sqrt, min_samples_leaf=1, min_samples_split=2, n_estimators=400; total time=  13.2s\n",
      "[CV] END bootstrap=True, criterion=gini, max_depth=10, max_features=sqrt, min_samples_leaf=1, min_samples_split=2, n_estimators=400; total time=  12.8s\n",
      "[CV] END bootstrap=True, criterion=gini, max_depth=10, max_features=log2, min_samples_leaf=4, min_samples_split=2, n_estimators=800; total time=  21.7s\n",
      "[CV] END bootstrap=True, criterion=gini, max_depth=10, max_features=log2, min_samples_leaf=4, min_samples_split=2, n_estimators=800; total time=  21.9s\n",
      "[CV] END bootstrap=True, criterion=gini, max_depth=10, max_features=log2, min_samples_leaf=4, min_samples_split=2, n_estimators=800; total time=  21.7s\n",
      "[CV] END bootstrap=True, criterion=gini, max_depth=10, max_features=log2, min_samples_leaf=4, min_samples_split=2, n_estimators=800; total time=  21.5s\n",
      "[CV] END bootstrap=True, criterion=gini, max_depth=10, max_features=log2, min_samples_leaf=4, min_samples_split=2, n_estimators=800; total time=  22.0s\n",
      "[CV] END bootstrap=False, criterion=gini, max_depth=None, max_features=0.7, min_samples_leaf=2, min_samples_split=4, n_estimators=800; total time= 4.0min\n",
      "[CV] END bootstrap=False, criterion=gini, max_depth=None, max_features=0.7, min_samples_leaf=2, min_samples_split=4, n_estimators=800; total time= 4.0min\n"
     ]
    },
    {
     "name": "stderr",
     "output_type": "stream",
     "text": [
      "Exception ignored in: <function ResourceTracker.__del__ at 0x10a947880>\n",
      "Traceback (most recent call last):\n",
      "  File \"/Library/Frameworks/Python.framework/Versions/3.13/lib/python3.13/multiprocessing/resource_tracker.py\", line 82, in __del__\n",
      "  File \"/Library/Frameworks/Python.framework/Versions/3.13/lib/python3.13/multiprocessing/resource_tracker.py\", line 91, in _stop\n",
      "  File \"/Library/Frameworks/Python.framework/Versions/3.13/lib/python3.13/multiprocessing/resource_tracker.py\", line 116, in _stop_locked\n",
      "ChildProcessError: [Errno 10] No child processes\n"
     ]
    },
    {
     "name": "stdout",
     "output_type": "stream",
     "text": [
      "[CV] END bootstrap=False, criterion=gini, max_depth=None, max_features=0.7, min_samples_leaf=2, min_samples_split=4, n_estimators=800; total time= 3.9min\n",
      "[CV] END bootstrap=False, criterion=gini, max_depth=None, max_features=None, min_samples_leaf=2, min_samples_split=3, n_estimators=1200; total time= 8.8min\n"
     ]
    },
    {
     "name": "stderr",
     "output_type": "stream",
     "text": [
      "Exception ignored in: <function ResourceTracker.__del__ at 0x102f47880>\n",
      "Traceback (most recent call last):\n",
      "  File \"/Library/Frameworks/Python.framework/Versions/3.13/lib/python3.13/multiprocessing/resource_tracker.py\", line 82, in __del__\n",
      "  File \"/Library/Frameworks/Python.framework/Versions/3.13/lib/python3.13/multiprocessing/resource_tracker.py\", line 91, in _stop\n",
      "  File \"/Library/Frameworks/Python.framework/Versions/3.13/lib/python3.13/multiprocessing/resource_tracker.py\", line 116, in _stop_locked\n",
      "ChildProcessError: [Errno 10] No child processes\n"
     ]
    },
    {
     "name": "stdout",
     "output_type": "stream",
     "text": [
      "[CV] END bootstrap=True, criterion=gini, max_depth=15, max_features=None, min_samples_leaf=1, min_samples_split=3, n_estimators=500; total time= 1.7min\n",
      "[CV] END bootstrap=False, criterion=gini, max_depth=None, max_features=None, min_samples_leaf=2, min_samples_split=3, n_estimators=1200; total time= 8.0min\n"
     ]
    },
    {
     "name": "stderr",
     "output_type": "stream",
     "text": [
      "Exception ignored in: <function ResourceTracker.__del__ at 0x104b47880>\n",
      "Traceback (most recent call last):\n",
      "  File \"/Library/Frameworks/Python.framework/Versions/3.13/lib/python3.13/multiprocessing/resource_tracker.py\", line 82, in __del__\n",
      "  File \"/Library/Frameworks/Python.framework/Versions/3.13/lib/python3.13/multiprocessing/resource_tracker.py\", line 91, in _stop\n",
      "  File \"/Library/Frameworks/Python.framework/Versions/3.13/lib/python3.13/multiprocessing/resource_tracker.py\", line 116, in _stop_locked\n",
      "ChildProcessError: [Errno 10] No child processes\n"
     ]
    },
    {
     "name": "stdout",
     "output_type": "stream",
     "text": [
      "[CV] END bootstrap=False, criterion=gini, max_depth=None, max_features=None, min_samples_leaf=2, min_samples_split=3, n_estimators=1200; total time= 8.4min\n"
     ]
    },
    {
     "name": "stderr",
     "output_type": "stream",
     "text": [
      "Exception ignored in: <function ResourceTracker.__del__ at 0x106e47880>\n",
      "Traceback (most recent call last):\n",
      "  File \"/Library/Frameworks/Python.framework/Versions/3.13/lib/python3.13/multiprocessing/resource_tracker.py\", line 82, in __del__\n",
      "  File \"/Library/Frameworks/Python.framework/Versions/3.13/lib/python3.13/multiprocessing/resource_tracker.py\", line 91, in _stop\n",
      "  File \"/Library/Frameworks/Python.framework/Versions/3.13/lib/python3.13/multiprocessing/resource_tracker.py\", line 116, in _stop_locked\n",
      "ChildProcessError: [Errno 10] No child processes\n"
     ]
    },
    {
     "name": "stdout",
     "output_type": "stream",
     "text": [
      "[CV] END bootstrap=False, criterion=gini, max_depth=None, max_features=None, min_samples_leaf=2, min_samples_split=3, n_estimators=1200; total time= 8.3min\n"
     ]
    },
    {
     "name": "stderr",
     "output_type": "stream",
     "text": [
      "Exception ignored in: <function ResourceTracker.__del__ at 0x106b47880>\n",
      "Traceback (most recent call last):\n",
      "  File \"/Library/Frameworks/Python.framework/Versions/3.13/lib/python3.13/multiprocessing/resource_tracker.py\", line 82, in __del__\n",
      "  File \"/Library/Frameworks/Python.framework/Versions/3.13/lib/python3.13/multiprocessing/resource_tracker.py\", line 91, in _stop\n",
      "  File \"/Library/Frameworks/Python.framework/Versions/3.13/lib/python3.13/multiprocessing/resource_tracker.py\", line 116, in _stop_locked\n",
      "ChildProcessError: [Errno 10] No child processes\n"
     ]
    },
    {
     "name": "stdout",
     "output_type": "stream",
     "text": [
      "[CV] END bootstrap=False, criterion=gini, max_depth=None, max_features=None, min_samples_leaf=2, min_samples_split=3, n_estimators=1200; total time= 8.4min\n"
     ]
    },
    {
     "name": "stderr",
     "output_type": "stream",
     "text": [
      "Exception ignored in: <function ResourceTracker.__del__ at 0x108247880>\n",
      "Traceback (most recent call last):\n",
      "  File \"/Library/Frameworks/Python.framework/Versions/3.13/lib/python3.13/multiprocessing/resource_tracker.py\", line 82, in __del__\n",
      "  File \"/Library/Frameworks/Python.framework/Versions/3.13/lib/python3.13/multiprocessing/resource_tracker.py\", line 91, in _stop\n",
      "  File \"/Library/Frameworks/Python.framework/Versions/3.13/lib/python3.13/multiprocessing/resource_tracker.py\", line 116, in _stop_locked\n",
      "ChildProcessError: [Errno 10] No child processes\n"
     ]
    },
    {
     "name": "stdout",
     "output_type": "stream",
     "text": [
      "[CV] END bootstrap=True, criterion=gini, max_depth=15, max_features=None, min_samples_leaf=1, min_samples_split=3, n_estimators=500; total time= 1.6min\n",
      "[CV] END bootstrap=True, criterion=gini, max_depth=15, max_features=None, min_samples_leaf=1, min_samples_split=3, n_estimators=500; total time= 1.6min\n",
      "[CV] END bootstrap=False, criterion=gini, max_depth=None, max_features=0.7, min_samples_leaf=2, min_samples_split=4, n_estimators=800; total time= 3.7min\n",
      "[CV] END bootstrap=True, criterion=entropy, max_depth=20, max_features=log2, min_samples_leaf=1, min_samples_split=4, n_estimators=700; total time=  34.3s\n",
      "[CV] END bootstrap=True, criterion=entropy, max_depth=20, max_features=log2, min_samples_leaf=1, min_samples_split=4, n_estimators=700; total time=  34.5s\n",
      "[CV] END bootstrap=False, criterion=gini, max_depth=None, max_features=0.7, min_samples_leaf=2, min_samples_split=4, n_estimators=800; total time= 3.9min\n",
      "[CV] END bootstrap=True, criterion=entropy, max_depth=20, max_features=log2, min_samples_leaf=1, min_samples_split=4, n_estimators=700; total time=  34.8s\n",
      "[CV] END bootstrap=True, criterion=entropy, max_depth=20, max_features=log2, min_samples_leaf=1, min_samples_split=4, n_estimators=700; total time=  34.3s\n"
     ]
    },
    {
     "name": "stderr",
     "output_type": "stream",
     "text": [
      "Exception ignored in: <function ResourceTracker.__del__ at 0x107c47880>\n",
      "Traceback (most recent call last):\n",
      "  File \"/Library/Frameworks/Python.framework/Versions/3.13/lib/python3.13/multiprocessing/resource_tracker.py\", line 82, in __del__\n",
      "  File \"/Library/Frameworks/Python.framework/Versions/3.13/lib/python3.13/multiprocessing/resource_tracker.py\", line 91, in _stop\n",
      "  File \"/Library/Frameworks/Python.framework/Versions/3.13/lib/python3.13/multiprocessing/resource_tracker.py\", line 116, in _stop_locked\n",
      "ChildProcessError: [Errno 10] No child processes\n"
     ]
    },
    {
     "name": "stdout",
     "output_type": "stream",
     "text": [
      "[CV] END bootstrap=True, criterion=entropy, max_depth=20, max_features=log2, min_samples_leaf=1, min_samples_split=4, n_estimators=700; total time=  33.4s\n",
      "[CV] END bootstrap=True, criterion=gini, max_depth=15, max_features=None, min_samples_leaf=1, min_samples_split=3, n_estimators=500; total time= 1.6min\n",
      "[CV] END bootstrap=True, criterion=gini, max_depth=10, max_features=0.3, min_samples_leaf=4, min_samples_split=3, n_estimators=400; total time=  17.9s\n",
      "[CV] END bootstrap=True, criterion=gini, max_depth=10, max_features=0.3, min_samples_leaf=4, min_samples_split=3, n_estimators=400; total time=  17.7s\n",
      "[CV] END bootstrap=True, criterion=gini, max_depth=10, max_features=0.3, min_samples_leaf=4, min_samples_split=3, n_estimators=400; total time=  17.8s\n",
      "[CV] END bootstrap=True, criterion=entropy, max_depth=10, max_features=0.3, min_samples_leaf=2, min_samples_split=4, n_estimators=1200; total time=  55.3s\n",
      "[CV] END bootstrap=True, criterion=entropy, max_depth=10, max_features=0.3, min_samples_leaf=2, min_samples_split=4, n_estimators=1200; total time=  55.8s\n",
      "[CV] END bootstrap=True, criterion=gini, max_depth=15, max_features=None, min_samples_leaf=1, min_samples_split=3, n_estimators=500; total time= 1.6min\n",
      "[CV] END bootstrap=True, criterion=entropy, max_depth=10, max_features=0.3, min_samples_leaf=2, min_samples_split=4, n_estimators=1200; total time=  55.8s\n",
      "[CV] END bootstrap=True, criterion=entropy, max_depth=10, max_features=0.3, min_samples_leaf=2, min_samples_split=4, n_estimators=1200; total time=  55.5s\n",
      "[CV] END bootstrap=True, criterion=gini, max_depth=10, max_features=0.3, min_samples_leaf=4, min_samples_split=3, n_estimators=400; total time=  17.0s\n",
      "[CV] END bootstrap=True, criterion=gini, max_depth=10, max_features=0.3, min_samples_leaf=4, min_samples_split=3, n_estimators=400; total time=  17.4s\n",
      "[CV] END bootstrap=True, criterion=entropy, max_depth=10, max_features=0.3, min_samples_leaf=2, min_samples_split=4, n_estimators=1200; total time=  55.5s\n",
      "[CV] END bootstrap=False, criterion=gini, max_depth=5, max_features=sqrt, min_samples_leaf=2, min_samples_split=3, n_estimators=1000; total time=  28.0s\n",
      "[CV] END bootstrap=False, criterion=gini, max_depth=5, max_features=sqrt, min_samples_leaf=2, min_samples_split=3, n_estimators=1000; total time=  27.6s\n",
      "[CV] END bootstrap=False, criterion=gini, max_depth=5, max_features=sqrt, min_samples_leaf=2, min_samples_split=3, n_estimators=1000; total time=  27.4s\n",
      "[CV] END bootstrap=False, criterion=gini, max_depth=5, max_features=sqrt, min_samples_leaf=2, min_samples_split=3, n_estimators=1000; total time=  28.5s\n",
      "[CV] END bootstrap=False, criterion=gini, max_depth=5, max_features=sqrt, min_samples_leaf=2, min_samples_split=3, n_estimators=1000; total time=  28.8s\n",
      "[CV] END bootstrap=False, criterion=entropy, max_depth=None, max_features=0.3, min_samples_leaf=4, min_samples_split=2, n_estimators=500; total time= 1.0min\n"
     ]
    },
    {
     "name": "stderr",
     "output_type": "stream",
     "text": [
      "Exception ignored in: <function ResourceTracker.__del__ at 0x107647880>\n",
      "Traceback (most recent call last):\n",
      "  File \"/Library/Frameworks/Python.framework/Versions/3.13/lib/python3.13/multiprocessing/resource_tracker.py\", line 82, in __del__\n",
      "  File \"/Library/Frameworks/Python.framework/Versions/3.13/lib/python3.13/multiprocessing/resource_tracker.py\", line 91, in _stop\n",
      "  File \"/Library/Frameworks/Python.framework/Versions/3.13/lib/python3.13/multiprocessing/resource_tracker.py\", line 116, in _stop_locked\n",
      "ChildProcessError: [Errno 10] No child processes\n"
     ]
    },
    {
     "name": "stdout",
     "output_type": "stream",
     "text": [
      "[CV] END bootstrap=False, criterion=entropy, max_depth=None, max_features=0.3, min_samples_leaf=4, min_samples_split=2, n_estimators=500; total time= 1.0min\n"
     ]
    },
    {
     "name": "stderr",
     "output_type": "stream",
     "text": [
      "Exception ignored in: <function ResourceTracker.__del__ at 0x102137880>\n",
      "Traceback (most recent call last):\n",
      "  File \"/Library/Frameworks/Python.framework/Versions/3.13/lib/python3.13/multiprocessing/resource_tracker.py\", line 82, in __del__\n",
      "  File \"/Library/Frameworks/Python.framework/Versions/3.13/lib/python3.13/multiprocessing/resource_tracker.py\", line 91, in _stop\n",
      "  File \"/Library/Frameworks/Python.framework/Versions/3.13/lib/python3.13/multiprocessing/resource_tracker.py\", line 116, in _stop_locked\n",
      "ChildProcessError: [Errno 10] No child processes\n"
     ]
    },
    {
     "name": "stdout",
     "output_type": "stream",
     "text": [
      "[CV] END bootstrap=False, criterion=entropy, max_depth=None, max_features=0.3, min_samples_leaf=4, min_samples_split=2, n_estimators=500; total time= 1.0min\n",
      "[CV] END bootstrap=False, criterion=gini, max_depth=10, max_features=log2, min_samples_leaf=1, min_samples_split=2, n_estimators=500; total time=  20.2s\n",
      "[CV] END bootstrap=False, criterion=gini, max_depth=10, max_features=log2, min_samples_leaf=1, min_samples_split=2, n_estimators=500; total time=  20.4s\n",
      "[CV] END bootstrap=True, criterion=entropy, max_depth=15, max_features=None, min_samples_leaf=4, min_samples_split=3, n_estimators=700; total time= 2.5min\n",
      "[CV] END bootstrap=False, criterion=entropy, max_depth=None, max_features=0.3, min_samples_leaf=4, min_samples_split=2, n_estimators=500; total time= 1.0min\n",
      "[CV] END bootstrap=False, criterion=gini, max_depth=10, max_features=log2, min_samples_leaf=1, min_samples_split=2, n_estimators=500; total time=  20.2s\n",
      "[CV] END bootstrap=True, criterion=entropy, max_depth=15, max_features=None, min_samples_leaf=4, min_samples_split=3, n_estimators=700; total time= 2.4min\n",
      "[CV] END bootstrap=True, criterion=entropy, max_depth=15, max_features=None, min_samples_leaf=4, min_samples_split=3, n_estimators=700; total time= 2.5min\n",
      "[CV] END bootstrap=False, criterion=entropy, max_depth=None, max_features=0.3, min_samples_leaf=4, min_samples_split=2, n_estimators=500; total time= 1.0min\n",
      "[CV] END bootstrap=True, criterion=entropy, max_depth=15, max_features=None, min_samples_leaf=4, min_samples_split=3, n_estimators=700; total time= 2.4min\n",
      "[CV] END bootstrap=True, criterion=entropy, max_depth=15, max_features=None, min_samples_leaf=4, min_samples_split=3, n_estimators=700; total time= 2.4min\n",
      "[CV] END bootstrap=False, criterion=gini, max_depth=10, max_features=log2, min_samples_leaf=1, min_samples_split=2, n_estimators=500; total time=  19.5s\n",
      "[CV] END bootstrap=False, criterion=gini, max_depth=10, max_features=log2, min_samples_leaf=1, min_samples_split=2, n_estimators=500; total time=  19.9s\n",
      "[CV] END bootstrap=False, criterion=gini, max_depth=None, max_features=0.3, min_samples_leaf=2, min_samples_split=3, n_estimators=300; total time=  35.4s\n",
      "[CV] END bootstrap=False, criterion=gini, max_depth=None, max_features=0.3, min_samples_leaf=2, min_samples_split=3, n_estimators=300; total time=  35.0s\n"
     ]
    },
    {
     "name": "stderr",
     "output_type": "stream",
     "text": [
      "Exception ignored in: <function ResourceTracker.__del__ at 0x10602f880>\n",
      "Traceback (most recent call last):\n",
      "  File \"/Library/Frameworks/Python.framework/Versions/3.13/lib/python3.13/multiprocessing/resource_tracker.py\", line 82, in __del__\n",
      "  File \"/Library/Frameworks/Python.framework/Versions/3.13/lib/python3.13/multiprocessing/resource_tracker.py\", line 91, in _stop\n",
      "  File \"/Library/Frameworks/Python.framework/Versions/3.13/lib/python3.13/multiprocessing/resource_tracker.py\", line 116, in _stop_locked\n",
      "ChildProcessError: [Errno 10] No child processes\n"
     ]
    },
    {
     "name": "stdout",
     "output_type": "stream",
     "text": [
      "[CV] END bootstrap=False, criterion=gini, max_depth=None, max_features=0.3, min_samples_leaf=2, min_samples_split=3, n_estimators=300; total time=  34.9s\n",
      "[CV] END bootstrap=True, criterion=entropy, max_depth=None, max_features=auto, min_samples_leaf=4, min_samples_split=4, n_estimators=200; total time=   0.0s\n",
      "[CV] END bootstrap=True, criterion=entropy, max_depth=None, max_features=auto, min_samples_leaf=4, min_samples_split=4, n_estimators=200; total time=   0.0s\n",
      "[CV] END bootstrap=True, criterion=entropy, max_depth=None, max_features=auto, min_samples_leaf=4, min_samples_split=4, n_estimators=200; total time=   0.0s\n",
      "[CV] END bootstrap=True, criterion=entropy, max_depth=None, max_features=auto, min_samples_leaf=4, min_samples_split=4, n_estimators=200; total time=   0.0s\n",
      "[CV] END bootstrap=True, criterion=entropy, max_depth=None, max_features=auto, min_samples_leaf=4, min_samples_split=4, n_estimators=200; total time=   0.0s\n",
      "[CV] END bootstrap=False, criterion=gini, max_depth=20, max_features=log2, min_samples_leaf=2, min_samples_split=2, n_estimators=900; total time=  59.5s\n",
      "[CV] END bootstrap=False, criterion=gini, max_depth=20, max_features=log2, min_samples_leaf=2, min_samples_split=2, n_estimators=900; total time= 1.0min\n",
      "[CV] END bootstrap=False, criterion=gini, max_depth=20, max_features=log2, min_samples_leaf=2, min_samples_split=2, n_estimators=900; total time=  59.3s\n"
     ]
    },
    {
     "name": "stderr",
     "output_type": "stream",
     "text": [
      "Exception ignored in: <function ResourceTracker.__del__ at 0x104f47880>\n",
      "Traceback (most recent call last):\n",
      "  File \"/Library/Frameworks/Python.framework/Versions/3.13/lib/python3.13/multiprocessing/resource_tracker.py\", line 82, in __del__\n",
      "  File \"/Library/Frameworks/Python.framework/Versions/3.13/lib/python3.13/multiprocessing/resource_tracker.py\", line 91, in _stop\n",
      "  File \"/Library/Frameworks/Python.framework/Versions/3.13/lib/python3.13/multiprocessing/resource_tracker.py\", line 116, in _stop_locked\n",
      "ChildProcessError: [Errno 10] No child processes\n"
     ]
    },
    {
     "name": "stdout",
     "output_type": "stream",
     "text": [
      "[CV] END bootstrap=False, criterion=gini, max_depth=20, max_features=log2, min_samples_leaf=2, min_samples_split=2, n_estimators=900; total time=  58.8s\n"
     ]
    },
    {
     "name": "stderr",
     "output_type": "stream",
     "text": [
      "Exception ignored in: <function ResourceTracker.__del__ at 0x108c47880>\n",
      "Traceback (most recent call last):\n",
      "  File \"/Library/Frameworks/Python.framework/Versions/3.13/lib/python3.13/multiprocessing/resource_tracker.py\", line 82, in __del__\n",
      "  File \"/Library/Frameworks/Python.framework/Versions/3.13/lib/python3.13/multiprocessing/resource_tracker.py\", line 91, in _stop\n",
      "  File \"/Library/Frameworks/Python.framework/Versions/3.13/lib/python3.13/multiprocessing/resource_tracker.py\", line 116, in _stop_locked\n",
      "ChildProcessError: [Errno 10] No child processes\n"
     ]
    },
    {
     "name": "stdout",
     "output_type": "stream",
     "text": [
      "[CV] END bootstrap=False, criterion=gini, max_depth=5, max_features=sqrt, min_samples_leaf=4, min_samples_split=2, n_estimators=500; total time=  12.1s\n",
      "[CV] END bootstrap=False, criterion=gini, max_depth=20, max_features=log2, min_samples_leaf=2, min_samples_split=2, n_estimators=900; total time=  58.5s\n"
     ]
    },
    {
     "name": "stderr",
     "output_type": "stream",
     "text": [
      "Exception ignored in: <function ResourceTracker.__del__ at 0x105047880>\n",
      "Traceback (most recent call last):\n",
      "  File \"/Library/Frameworks/Python.framework/Versions/3.13/lib/python3.13/multiprocessing/resource_tracker.py\", line 82, in __del__\n",
      "  File \"/Library/Frameworks/Python.framework/Versions/3.13/lib/python3.13/multiprocessing/resource_tracker.py\", line 91, in _stop\n",
      "  File \"/Library/Frameworks/Python.framework/Versions/3.13/lib/python3.13/multiprocessing/resource_tracker.py\", line 116, in _stop_locked\n",
      "ChildProcessError: [Errno 10] No child processes\n"
     ]
    },
    {
     "name": "stdout",
     "output_type": "stream",
     "text": [
      "[CV] END bootstrap=False, criterion=gini, max_depth=5, max_features=sqrt, min_samples_leaf=4, min_samples_split=2, n_estimators=500; total time=  12.8s\n",
      "[CV] END bootstrap=False, criterion=gini, max_depth=5, max_features=sqrt, min_samples_leaf=4, min_samples_split=2, n_estimators=500; total time=  12.6s\n",
      "[CV] END bootstrap=False, criterion=gini, max_depth=5, max_features=sqrt, min_samples_leaf=4, min_samples_split=2, n_estimators=500; total time=  12.2s\n",
      "[CV] END bootstrap=False, criterion=gini, max_depth=None, max_features=0.3, min_samples_leaf=2, min_samples_split=3, n_estimators=300; total time=  31.6s\n",
      "[CV] END bootstrap=False, criterion=gini, max_depth=5, max_features=sqrt, min_samples_leaf=4, min_samples_split=2, n_estimators=500; total time=  12.5s\n",
      "[CV] END bootstrap=False, criterion=gini, max_depth=None, max_features=0.3, min_samples_leaf=2, min_samples_split=3, n_estimators=300; total time=  32.4s\n",
      "[CV] END bootstrap=False, criterion=entropy, max_depth=15, max_features=sqrt, min_samples_leaf=2, min_samples_split=4, n_estimators=200; total time=  14.6s\n",
      "[CV] END bootstrap=False, criterion=entropy, max_depth=15, max_features=sqrt, min_samples_leaf=2, min_samples_split=4, n_estimators=200; total time=  14.3s\n",
      "[CV] END bootstrap=True, criterion=gini, max_depth=None, max_features=sqrt, min_samples_leaf=2, min_samples_split=2, n_estimators=600; total time=  31.3s\n"
     ]
    },
    {
     "name": "stderr",
     "output_type": "stream",
     "text": [
      "Exception ignored in: <function ResourceTracker.__del__ at 0x1067d3880>\n",
      "Traceback (most recent call last):\n",
      "  File \"/Library/Frameworks/Python.framework/Versions/3.13/lib/python3.13/multiprocessing/resource_tracker.py\", line 82, in __del__\n",
      "  File \"/Library/Frameworks/Python.framework/Versions/3.13/lib/python3.13/multiprocessing/resource_tracker.py\", line 91, in _stop\n",
      "  File \"/Library/Frameworks/Python.framework/Versions/3.13/lib/python3.13/multiprocessing/resource_tracker.py\", line 116, in _stop_locked\n",
      "ChildProcessError: [Errno 10] No child processes\n"
     ]
    },
    {
     "name": "stdout",
     "output_type": "stream",
     "text": [
      "[CV] END bootstrap=False, criterion=entropy, max_depth=15, max_features=sqrt, min_samples_leaf=2, min_samples_split=4, n_estimators=200; total time=  14.5s\n",
      "[CV] END bootstrap=True, criterion=gini, max_depth=None, max_features=sqrt, min_samples_leaf=2, min_samples_split=2, n_estimators=600; total time=  31.6s\n",
      "[CV] END bootstrap=True, criterion=gini, max_depth=None, max_features=sqrt, min_samples_leaf=2, min_samples_split=2, n_estimators=600; total time=  31.4s\n",
      "[CV] END bootstrap=False, criterion=entropy, max_depth=15, max_features=sqrt, min_samples_leaf=2, min_samples_split=4, n_estimators=200; total time=  13.5s\n",
      "[CV] END bootstrap=True, criterion=gini, max_depth=None, max_features=sqrt, min_samples_leaf=2, min_samples_split=2, n_estimators=600; total time=  31.4s\n",
      "[CV] END bootstrap=False, criterion=entropy, max_depth=15, max_features=sqrt, min_samples_leaf=2, min_samples_split=4, n_estimators=200; total time=  12.9s\n",
      "[CV] END bootstrap=True, criterion=gini, max_depth=None, max_features=sqrt, min_samples_leaf=2, min_samples_split=2, n_estimators=600; total time=  31.1s\n"
     ]
    },
    {
     "name": "stderr",
     "output_type": "stream",
     "text": [
      "Exception ignored in: <function ResourceTracker.__del__ at 0x106517880>\n",
      "Traceback (most recent call last):\n",
      "  File \"/Library/Frameworks/Python.framework/Versions/3.13/lib/python3.13/multiprocessing/resource_tracker.py\", line 82, in __del__\n",
      "  File \"/Library/Frameworks/Python.framework/Versions/3.13/lib/python3.13/multiprocessing/resource_tracker.py\", line 91, in _stop\n",
      "  File \"/Library/Frameworks/Python.framework/Versions/3.13/lib/python3.13/multiprocessing/resource_tracker.py\", line 116, in _stop_locked\n",
      "ChildProcessError: [Errno 10] No child processes\n"
     ]
    },
    {
     "name": "stdout",
     "output_type": "stream",
     "text": [
      "[CV] END bootstrap=True, criterion=entropy, max_depth=5, max_features=0.7, min_samples_leaf=2, min_samples_split=4, n_estimators=1100; total time= 1.1min\n",
      "[CV] END bootstrap=True, criterion=entropy, max_depth=5, max_features=0.7, min_samples_leaf=2, min_samples_split=4, n_estimators=1100; total time= 1.1min\n",
      "[CV] END bootstrap=True, criterion=entropy, max_depth=5, max_features=0.7, min_samples_leaf=2, min_samples_split=4, n_estimators=1100; total time= 1.1min\n",
      "[CV] END bootstrap=True, criterion=entropy, max_depth=5, max_features=0.3, min_samples_leaf=4, min_samples_split=3, n_estimators=1000; total time=  25.3s\n",
      "[CV] END bootstrap=True, criterion=entropy, max_depth=5, max_features=0.3, min_samples_leaf=4, min_samples_split=3, n_estimators=1000; total time=  25.7s\n",
      "[CV] END bootstrap=True, criterion=entropy, max_depth=5, max_features=0.7, min_samples_leaf=2, min_samples_split=4, n_estimators=1100; total time= 1.1min\n",
      "[CV] END bootstrap=True, criterion=entropy, max_depth=5, max_features=0.7, min_samples_leaf=2, min_samples_split=4, n_estimators=1100; total time= 1.1min\n",
      "[CV] END bootstrap=True, criterion=entropy, max_depth=5, max_features=0.3, min_samples_leaf=4, min_samples_split=3, n_estimators=1000; total time=  25.8s\n",
      "[CV] END bootstrap=True, criterion=entropy, max_depth=5, max_features=0.3, min_samples_leaf=4, min_samples_split=3, n_estimators=1000; total time=  26.1s\n",
      "[CV] END bootstrap=True, criterion=entropy, max_depth=5, max_features=0.3, min_samples_leaf=4, min_samples_split=3, n_estimators=1000; total time=  26.8s\n",
      "[CV] END bootstrap=True, criterion=entropy, max_depth=None, max_features=0.7, min_samples_leaf=1, min_samples_split=4, n_estimators=1000; total time= 3.5min\n"
     ]
    },
    {
     "name": "stderr",
     "output_type": "stream",
     "text": [
      "Exception ignored in: <function ResourceTracker.__del__ at 0x1041eb880>\n",
      "Traceback (most recent call last):\n",
      "  File \"/Library/Frameworks/Python.framework/Versions/3.13/lib/python3.13/multiprocessing/resource_tracker.py\", line 82, in __del__\n",
      "  File \"/Library/Frameworks/Python.framework/Versions/3.13/lib/python3.13/multiprocessing/resource_tracker.py\", line 91, in _stop\n",
      "  File \"/Library/Frameworks/Python.framework/Versions/3.13/lib/python3.13/multiprocessing/resource_tracker.py\", line 116, in _stop_locked\n",
      "ChildProcessError: [Errno 10] No child processes\n"
     ]
    },
    {
     "name": "stdout",
     "output_type": "stream",
     "text": [
      "[CV] END bootstrap=True, criterion=entropy, max_depth=None, max_features=0.7, min_samples_leaf=1, min_samples_split=4, n_estimators=1000; total time= 3.5min\n",
      "[CV] END bootstrap=True, criterion=entropy, max_depth=None, max_features=0.7, min_samples_leaf=1, min_samples_split=4, n_estimators=1000; total time= 3.5min\n",
      "[CV] END bootstrap=True, criterion=entropy, max_depth=None, max_features=0.7, min_samples_leaf=1, min_samples_split=4, n_estimators=1000; total time= 3.5min\n",
      "[CV] END bootstrap=True, criterion=entropy, max_depth=None, max_features=0.7, min_samples_leaf=1, min_samples_split=4, n_estimators=1000; total time= 3.5min\n"
     ]
    },
    {
     "name": "stderr",
     "output_type": "stream",
     "text": [
      "Exception ignored in: <function ResourceTracker.__del__ at 0x104c57880>\n",
      "Traceback (most recent call last):\n",
      "  File \"/Library/Frameworks/Python.framework/Versions/3.13/lib/python3.13/multiprocessing/resource_tracker.py\", line 82, in __del__\n",
      "  File \"/Library/Frameworks/Python.framework/Versions/3.13/lib/python3.13/multiprocessing/resource_tracker.py\", line 91, in _stop\n",
      "  File \"/Library/Frameworks/Python.framework/Versions/3.13/lib/python3.13/multiprocessing/resource_tracker.py\", line 116, in _stop_locked\n",
      "ChildProcessError: [Errno 10] No child processes\n"
     ]
    },
    {
     "name": "stdout",
     "output_type": "stream",
     "text": [
      "[CV] END bootstrap=True, criterion=entropy, max_depth=None, max_features=None, min_samples_leaf=4, min_samples_split=3, n_estimators=900; total time= 4.2min\n"
     ]
    },
    {
     "name": "stderr",
     "output_type": "stream",
     "text": [
      "Exception ignored in: <function ResourceTracker.__del__ at 0x1056d3880>\n",
      "Traceback (most recent call last):\n",
      "  File \"/Library/Frameworks/Python.framework/Versions/3.13/lib/python3.13/multiprocessing/resource_tracker.py\", line 82, in __del__\n",
      "  File \"/Library/Frameworks/Python.framework/Versions/3.13/lib/python3.13/multiprocessing/resource_tracker.py\", line 91, in _stop\n",
      "  File \"/Library/Frameworks/Python.framework/Versions/3.13/lib/python3.13/multiprocessing/resource_tracker.py\", line 116, in _stop_locked\n",
      "ChildProcessError: [Errno 10] No child processes\n"
     ]
    },
    {
     "name": "stdout",
     "output_type": "stream",
     "text": [
      "[CV] END bootstrap=True, criterion=entropy, max_depth=None, max_features=None, min_samples_leaf=4, min_samples_split=3, n_estimators=900; total time= 4.2min\n",
      "[CV] END bootstrap=True, criterion=entropy, max_depth=None, max_features=None, min_samples_leaf=4, min_samples_split=3, n_estimators=900; total time= 4.2min\n"
     ]
    },
    {
     "name": "stderr",
     "output_type": "stream",
     "text": [
      "Exception ignored in: <function ResourceTracker.__del__ at 0x106047880>\n",
      "Traceback (most recent call last):\n",
      "  File \"/Library/Frameworks/Python.framework/Versions/3.13/lib/python3.13/multiprocessing/resource_tracker.py\", line 82, in __del__\n",
      "  File \"/Library/Frameworks/Python.framework/Versions/3.13/lib/python3.13/multiprocessing/resource_tracker.py\", line 91, in _stop\n",
      "  File \"/Library/Frameworks/Python.framework/Versions/3.13/lib/python3.13/multiprocessing/resource_tracker.py\", line 116, in _stop_locked\n",
      "ChildProcessError: [Errno 10] No child processes\n"
     ]
    },
    {
     "name": "stdout",
     "output_type": "stream",
     "text": [
      "[CV] END bootstrap=True, criterion=gini, max_depth=15, max_features=auto, min_samples_leaf=2, min_samples_split=3, n_estimators=1000; total time=   0.0s\n",
      "[CV] END bootstrap=True, criterion=gini, max_depth=15, max_features=auto, min_samples_leaf=2, min_samples_split=3, n_estimators=1000; total time=   0.0s\n",
      "[CV] END bootstrap=True, criterion=gini, max_depth=15, max_features=auto, min_samples_leaf=2, min_samples_split=3, n_estimators=1000; total time=   0.0s\n",
      "[CV] END bootstrap=True, criterion=gini, max_depth=15, max_features=auto, min_samples_leaf=2, min_samples_split=3, n_estimators=1000; total time=   0.0s\n",
      "[CV] END bootstrap=True, criterion=gini, max_depth=15, max_features=auto, min_samples_leaf=2, min_samples_split=3, n_estimators=1000; total time=   0.0s\n",
      "[CV] END bootstrap=True, criterion=entropy, max_depth=None, max_features=None, min_samples_leaf=4, min_samples_split=3, n_estimators=900; total time= 4.0min\n",
      "[CV] END bootstrap=True, criterion=entropy, max_depth=None, max_features=None, min_samples_leaf=4, min_samples_split=3, n_estimators=900; total time= 4.2min\n",
      "[CV] END bootstrap=False, criterion=gini, max_depth=None, max_features=None, min_samples_leaf=2, min_samples_split=3, n_estimators=700; total time= 4.9min\n"
     ]
    },
    {
     "name": "stderr",
     "output_type": "stream",
     "text": [
      "Exception ignored in: <function ResourceTracker.__del__ at 0x107747880>\n",
      "Traceback (most recent call last):\n",
      "  File \"/Library/Frameworks/Python.framework/Versions/3.13/lib/python3.13/multiprocessing/resource_tracker.py\", line 82, in __del__\n",
      "  File \"/Library/Frameworks/Python.framework/Versions/3.13/lib/python3.13/multiprocessing/resource_tracker.py\", line 91, in _stop\n",
      "  File \"/Library/Frameworks/Python.framework/Versions/3.13/lib/python3.13/multiprocessing/resource_tracker.py\", line 116, in _stop_locked\n",
      "ChildProcessError: [Errno 10] No child processes\n"
     ]
    },
    {
     "name": "stdout",
     "output_type": "stream",
     "text": [
      "[CV] END bootstrap=False, criterion=gini, max_depth=None, max_features=None, min_samples_leaf=2, min_samples_split=3, n_estimators=700; total time= 5.1min\n",
      "[CV] END bootstrap=False, criterion=gini, max_depth=None, max_features=None, min_samples_leaf=2, min_samples_split=3, n_estimators=700; total time= 4.9min\n",
      "[CV] END bootstrap=False, criterion=entropy, max_depth=20, max_features=0.5, min_samples_leaf=1, min_samples_split=4, n_estimators=900; total time= 3.2min\n"
     ]
    },
    {
     "name": "stderr",
     "output_type": "stream",
     "text": [
      "Exception ignored in: <function ResourceTracker.__del__ at 0x110847880>\n",
      "Traceback (most recent call last):\n",
      "  File \"/Library/Frameworks/Python.framework/Versions/3.13/lib/python3.13/multiprocessing/resource_tracker.py\", line 82, in __del__\n",
      "  File \"/Library/Frameworks/Python.framework/Versions/3.13/lib/python3.13/multiprocessing/resource_tracker.py\", line 91, in _stop\n",
      "  File \"/Library/Frameworks/Python.framework/Versions/3.13/lib/python3.13/multiprocessing/resource_tracker.py\", line 116, in _stop_locked\n",
      "ChildProcessError: [Errno 10] No child processes\n"
     ]
    },
    {
     "name": "stdout",
     "output_type": "stream",
     "text": [
      "[CV] END bootstrap=False, criterion=entropy, max_depth=15, max_features=0.5, min_samples_leaf=2, min_samples_split=4, n_estimators=700; total time= 2.0min\n",
      "[CV] END bootstrap=False, criterion=entropy, max_depth=20, max_features=0.5, min_samples_leaf=1, min_samples_split=4, n_estimators=900; total time= 3.2min\n",
      "[CV] END bootstrap=False, criterion=entropy, max_depth=20, max_features=0.5, min_samples_leaf=1, min_samples_split=4, n_estimators=900; total time= 3.2min\n",
      "[CV] END bootstrap=False, criterion=gini, max_depth=None, max_features=None, min_samples_leaf=2, min_samples_split=3, n_estimators=700; total time= 4.6min\n",
      "[CV] END bootstrap=True, criterion=gini, max_depth=10, max_features=auto, min_samples_leaf=4, min_samples_split=3, n_estimators=300; total time=   0.0s\n",
      "[CV] END bootstrap=True, criterion=gini, max_depth=10, max_features=auto, min_samples_leaf=4, min_samples_split=3, n_estimators=300; total time=   0.0s\n",
      "[CV] END bootstrap=True, criterion=gini, max_depth=10, max_features=auto, min_samples_leaf=4, min_samples_split=3, n_estimators=300; total time=   0.0s\n",
      "[CV] END bootstrap=True, criterion=gini, max_depth=10, max_features=auto, min_samples_leaf=4, min_samples_split=3, n_estimators=300; total time=   0.0s\n",
      "[CV] END bootstrap=True, criterion=gini, max_depth=10, max_features=auto, min_samples_leaf=4, min_samples_split=3, n_estimators=300; total time=   0.0s\n",
      "[CV] END bootstrap=False, criterion=entropy, max_depth=20, max_features=0.5, min_samples_leaf=1, min_samples_split=4, n_estimators=900; total time= 3.2min\n",
      "[CV] END bootstrap=False, criterion=gini, max_depth=None, max_features=None, min_samples_leaf=2, min_samples_split=3, n_estimators=700; total time= 4.8min\n",
      "[CV] END bootstrap=False, criterion=entropy, max_depth=20, max_features=0.5, min_samples_leaf=1, min_samples_split=4, n_estimators=900; total time= 3.2min\n",
      "[CV] END bootstrap=False, criterion=entropy, max_depth=15, max_features=0.5, min_samples_leaf=2, min_samples_split=4, n_estimators=700; total time= 2.0min\n",
      "[CV] END bootstrap=False, criterion=entropy, max_depth=15, max_features=0.5, min_samples_leaf=2, min_samples_split=4, n_estimators=700; total time= 2.0min\n",
      "[CV] END bootstrap=False, criterion=entropy, max_depth=15, max_features=0.5, min_samples_leaf=2, min_samples_split=4, n_estimators=700; total time= 2.0min\n",
      "[CV] END bootstrap=False, criterion=entropy, max_depth=15, max_features=0.5, min_samples_leaf=2, min_samples_split=4, n_estimators=700; total time= 2.0min\n",
      "[CV] END bootstrap=True, criterion=entropy, max_depth=None, max_features=0.5, min_samples_leaf=4, min_samples_split=2, n_estimators=1100; total time= 2.6min\n",
      "[CV] END bootstrap=False, criterion=gini, max_depth=5, max_features=0.7, min_samples_leaf=2, min_samples_split=4, n_estimators=1100; total time= 1.5min\n",
      "[CV] END bootstrap=True, criterion=entropy, max_depth=None, max_features=0.5, min_samples_leaf=4, min_samples_split=2, n_estimators=1100; total time= 2.6min\n",
      "[CV] END bootstrap=True, criterion=entropy, max_depth=None, max_features=0.5, min_samples_leaf=4, min_samples_split=2, n_estimators=1100; total time= 2.6min\n"
     ]
    },
    {
     "name": "stderr",
     "output_type": "stream",
     "text": [
      "Exception ignored in: <function ResourceTracker.__del__ at 0x104c47880>\n",
      "Traceback (most recent call last):\n",
      "  File \"/Library/Frameworks/Python.framework/Versions/3.13/lib/python3.13/multiprocessing/resource_tracker.py\", line 82, in __del__\n",
      "  File \"/Library/Frameworks/Python.framework/Versions/3.13/lib/python3.13/multiprocessing/resource_tracker.py\", line 91, in _stop\n",
      "  File \"/Library/Frameworks/Python.framework/Versions/3.13/lib/python3.13/multiprocessing/resource_tracker.py\", line 116, in _stop_locked\n",
      "ChildProcessError: [Errno 10] No child processes\n"
     ]
    },
    {
     "name": "stdout",
     "output_type": "stream",
     "text": [
      "[CV] END bootstrap=True, criterion=entropy, max_depth=None, max_features=0.5, min_samples_leaf=4, min_samples_split=2, n_estimators=1100; total time= 2.5min\n",
      "[CV] END bootstrap=False, criterion=gini, max_depth=5, max_features=0.7, min_samples_leaf=2, min_samples_split=4, n_estimators=1100; total time= 1.5min\n",
      "[CV] END bootstrap=False, criterion=gini, max_depth=5, max_features=0.7, min_samples_leaf=2, min_samples_split=4, n_estimators=1100; total time= 1.5min\n",
      "[CV] END bootstrap=True, criterion=entropy, max_depth=None, max_features=0.5, min_samples_leaf=4, min_samples_split=2, n_estimators=1100; total time= 2.5min\n"
     ]
    },
    {
     "name": "stderr",
     "output_type": "stream",
     "text": [
      "Exception ignored in: <function ResourceTracker.__del__ at 0x104a23880>\n",
      "Traceback (most recent call last):\n",
      "  File \"/Library/Frameworks/Python.framework/Versions/3.13/lib/python3.13/multiprocessing/resource_tracker.py\", line 82, in __del__\n",
      "  File \"/Library/Frameworks/Python.framework/Versions/3.13/lib/python3.13/multiprocessing/resource_tracker.py\", line 91, in _stop\n",
      "  File \"/Library/Frameworks/Python.framework/Versions/3.13/lib/python3.13/multiprocessing/resource_tracker.py\", line 116, in _stop_locked\n",
      "ChildProcessError: [Errno 10] No child processes\n"
     ]
    },
    {
     "name": "stdout",
     "output_type": "stream",
     "text": [
      "[CV] END bootstrap=False, criterion=gini, max_depth=5, max_features=0.7, min_samples_leaf=2, min_samples_split=4, n_estimators=1100; total time= 1.5min\n",
      "[CV] END bootstrap=False, criterion=gini, max_depth=5, max_features=0.7, min_samples_leaf=2, min_samples_split=4, n_estimators=1100; total time= 1.5min\n",
      "[CV] END bootstrap=True, criterion=entropy, max_depth=None, max_features=0.7, min_samples_leaf=4, min_samples_split=3, n_estimators=400; total time= 1.3min\n",
      "[CV] END bootstrap=True, criterion=entropy, max_depth=None, max_features=0.7, min_samples_leaf=4, min_samples_split=3, n_estimators=400; total time= 1.3min\n",
      "[CV] END bootstrap=True, criterion=entropy, max_depth=None, max_features=0.7, min_samples_leaf=4, min_samples_split=3, n_estimators=400; total time= 1.3min\n",
      "[CV] END bootstrap=True, criterion=entropy, max_depth=None, max_features=0.7, min_samples_leaf=4, min_samples_split=3, n_estimators=400; total time= 1.3min\n",
      "[CV] END bootstrap=False, criterion=gini, max_depth=10, max_features=0.7, min_samples_leaf=2, min_samples_split=4, n_estimators=300; total time=  47.2s\n",
      "[CV] END bootstrap=True, criterion=entropy, max_depth=15, max_features=None, min_samples_leaf=4, min_samples_split=3, n_estimators=1100; total time= 3.9min\n",
      "[CV] END bootstrap=True, criterion=entropy, max_depth=15, max_features=None, min_samples_leaf=4, min_samples_split=3, n_estimators=1100; total time= 3.8min\n",
      "[CV] END bootstrap=True, criterion=entropy, max_depth=15, max_features=None, min_samples_leaf=4, min_samples_split=3, n_estimators=1100; total time= 3.8min\n",
      "[CV] END bootstrap=True, criterion=entropy, max_depth=15, max_features=None, min_samples_leaf=4, min_samples_split=3, n_estimators=1100; total time= 3.9min\n",
      "[CV] END bootstrap=True, criterion=entropy, max_depth=None, max_features=0.7, min_samples_leaf=4, min_samples_split=3, n_estimators=400; total time= 1.3min\n",
      "[CV] END bootstrap=False, criterion=gini, max_depth=10, max_features=0.7, min_samples_leaf=2, min_samples_split=4, n_estimators=300; total time=  46.9s\n",
      "[CV] END bootstrap=True, criterion=entropy, max_depth=15, max_features=None, min_samples_leaf=4, min_samples_split=3, n_estimators=1100; total time= 3.8min\n",
      "[CV] END bootstrap=True, criterion=entropy, max_depth=15, max_features=log2, min_samples_leaf=4, min_samples_split=2, n_estimators=300; total time=  11.6s\n",
      "[CV] END bootstrap=True, criterion=entropy, max_depth=15, max_features=log2, min_samples_leaf=4, min_samples_split=2, n_estimators=300; total time=  11.8s\n",
      "[CV] END bootstrap=True, criterion=entropy, max_depth=15, max_features=log2, min_samples_leaf=4, min_samples_split=2, n_estimators=300; total time=  11.9s\n",
      "[CV] END bootstrap=True, criterion=entropy, max_depth=15, max_features=log2, min_samples_leaf=4, min_samples_split=2, n_estimators=300; total time=  11.6s\n",
      "[CV] END bootstrap=True, criterion=entropy, max_depth=15, max_features=log2, min_samples_leaf=4, min_samples_split=2, n_estimators=300; total time=  12.2s\n",
      "[CV] END bootstrap=False, criterion=gini, max_depth=10, max_features=0.7, min_samples_leaf=2, min_samples_split=4, n_estimators=300; total time=  46.6s\n",
      "[CV] END bootstrap=False, criterion=gini, max_depth=10, max_features=0.7, min_samples_leaf=2, min_samples_split=4, n_estimators=300; total time=  46.7s\n",
      "[CV] END bootstrap=False, criterion=entropy, max_depth=15, max_features=0.3, min_samples_leaf=2, min_samples_split=4, n_estimators=200; total time=  19.9s\n",
      "[CV] END bootstrap=True, criterion=gini, max_depth=5, max_features=0.7, min_samples_leaf=4, min_samples_split=2, n_estimators=600; total time=  33.3s\n",
      "[CV] END bootstrap=False, criterion=gini, max_depth=10, max_features=0.7, min_samples_leaf=2, min_samples_split=4, n_estimators=300; total time=  46.8s\n",
      "[CV] END bootstrap=True, criterion=gini, max_depth=5, max_features=0.7, min_samples_leaf=4, min_samples_split=2, n_estimators=600; total time=  33.9s\n",
      "[CV] END bootstrap=False, criterion=gini, max_depth=None, max_features=auto, min_samples_leaf=2, min_samples_split=2, n_estimators=800; total time=   0.0s\n",
      "[CV] END bootstrap=False, criterion=gini, max_depth=None, max_features=auto, min_samples_leaf=2, min_samples_split=2, n_estimators=800; total time=   0.0s\n",
      "[CV] END bootstrap=False, criterion=gini, max_depth=None, max_features=auto, min_samples_leaf=2, min_samples_split=2, n_estimators=800; total time=   0.0s\n",
      "[CV] END bootstrap=False, criterion=gini, max_depth=None, max_features=auto, min_samples_leaf=2, min_samples_split=2, n_estimators=800; total time=   0.0s\n",
      "[CV] END bootstrap=False, criterion=gini, max_depth=None, max_features=auto, min_samples_leaf=2, min_samples_split=2, n_estimators=800; total time=   0.0s\n",
      "[CV] END bootstrap=True, criterion=gini, max_depth=5, max_features=0.7, min_samples_leaf=4, min_samples_split=2, n_estimators=600; total time=  33.9s\n",
      "[CV] END bootstrap=True, criterion=gini, max_depth=5, max_features=log2, min_samples_leaf=4, min_samples_split=3, n_estimators=100; total time=   2.0s\n",
      "[CV] END bootstrap=True, criterion=gini, max_depth=5, max_features=log2, min_samples_leaf=4, min_samples_split=3, n_estimators=100; total time=   1.8s\n",
      "[CV] END bootstrap=True, criterion=gini, max_depth=5, max_features=log2, min_samples_leaf=4, min_samples_split=3, n_estimators=100; total time=   1.8s\n",
      "[CV] END bootstrap=True, criterion=gini, max_depth=5, max_features=log2, min_samples_leaf=4, min_samples_split=3, n_estimators=100; total time=   1.7s\n",
      "[CV] END bootstrap=True, criterion=gini, max_depth=5, max_features=0.7, min_samples_leaf=4, min_samples_split=2, n_estimators=600; total time=  33.2s\n",
      "[CV] END bootstrap=True, criterion=gini, max_depth=5, max_features=log2, min_samples_leaf=4, min_samples_split=3, n_estimators=100; total time=   1.7s\n",
      "[CV] END bootstrap=True, criterion=gini, max_depth=5, max_features=0.7, min_samples_leaf=4, min_samples_split=2, n_estimators=600; total time=  33.4s\n",
      "[CV] END bootstrap=False, criterion=entropy, max_depth=5, max_features=sqrt, min_samples_leaf=1, min_samples_split=4, n_estimators=300; total time=   8.5s\n",
      "[CV] END bootstrap=False, criterion=entropy, max_depth=5, max_features=sqrt, min_samples_leaf=1, min_samples_split=4, n_estimators=300; total time=   9.2s\n",
      "[CV] END bootstrap=False, criterion=entropy, max_depth=5, max_features=sqrt, min_samples_leaf=1, min_samples_split=4, n_estimators=300; total time=   9.0s\n",
      "[CV] END bootstrap=False, criterion=entropy, max_depth=15, max_features=0.3, min_samples_leaf=2, min_samples_split=4, n_estimators=200; total time=  19.7s\n",
      "[CV] END bootstrap=False, criterion=entropy, max_depth=15, max_features=0.3, min_samples_leaf=2, min_samples_split=4, n_estimators=200; total time=  19.4s\n",
      "[CV] END bootstrap=False, criterion=entropy, max_depth=15, max_features=0.3, min_samples_leaf=2, min_samples_split=4, n_estimators=200; total time=  18.8s\n",
      "[CV] END bootstrap=False, criterion=entropy, max_depth=5, max_features=sqrt, min_samples_leaf=1, min_samples_split=4, n_estimators=300; total time=   8.6s\n",
      "[CV] END bootstrap=False, criterion=entropy, max_depth=None, max_features=auto, min_samples_leaf=2, min_samples_split=3, n_estimators=500; total time=   0.0s\n",
      "[CV] END bootstrap=False, criterion=entropy, max_depth=None, max_features=auto, min_samples_leaf=2, min_samples_split=3, n_estimators=500; total time=   0.0s\n",
      "[CV] END bootstrap=False, criterion=entropy, max_depth=15, max_features=0.3, min_samples_leaf=2, min_samples_split=4, n_estimators=200; total time=  19.2s\n",
      "[CV] END bootstrap=False, criterion=entropy, max_depth=None, max_features=auto, min_samples_leaf=2, min_samples_split=3, n_estimators=500; total time=   0.0s\n",
      "[CV] END bootstrap=False, criterion=entropy, max_depth=None, max_features=auto, min_samples_leaf=2, min_samples_split=3, n_estimators=500; total time=   0.0s\n",
      "[CV] END bootstrap=False, criterion=entropy, max_depth=None, max_features=auto, min_samples_leaf=2, min_samples_split=3, n_estimators=500; total time=   0.1s\n",
      "[CV] END bootstrap=False, criterion=entropy, max_depth=5, max_features=sqrt, min_samples_leaf=1, min_samples_split=4, n_estimators=300; total time=   8.0s\n",
      "[CV] END bootstrap=True, criterion=gini, max_depth=15, max_features=None, min_samples_leaf=4, min_samples_split=4, n_estimators=200; total time=  38.8s\n",
      "[CV] END bootstrap=True, criterion=gini, max_depth=15, max_features=None, min_samples_leaf=4, min_samples_split=4, n_estimators=200; total time=  38.7s\n",
      "[CV] END bootstrap=True, criterion=gini, max_depth=15, max_features=None, min_samples_leaf=4, min_samples_split=4, n_estimators=200; total time=  38.3s\n",
      "[CV] END bootstrap=True, criterion=gini, max_depth=15, max_features=None, min_samples_leaf=4, min_samples_split=4, n_estimators=200; total time=  38.4s\n",
      "[CV] END bootstrap=True, criterion=gini, max_depth=15, max_features=None, min_samples_leaf=4, min_samples_split=4, n_estimators=200; total time=  38.9s\n",
      "[CV] END bootstrap=False, criterion=entropy, max_depth=15, max_features=log2, min_samples_leaf=2, min_samples_split=4, n_estimators=1000; total time= 1.0min\n"
     ]
    },
    {
     "name": "stderr",
     "output_type": "stream",
     "text": [
      "Exception ignored in: <function ResourceTracker.__del__ at 0x102747880>\n",
      "Traceback (most recent call last):\n",
      "  File \"/Library/Frameworks/Python.framework/Versions/3.13/lib/python3.13/multiprocessing/resource_tracker.py\", line 82, in __del__\n",
      "  File \"/Library/Frameworks/Python.framework/Versions/3.13/lib/python3.13/multiprocessing/resource_tracker.py\", line 91, in _stop\n",
      "  File \"/Library/Frameworks/Python.framework/Versions/3.13/lib/python3.13/multiprocessing/resource_tracker.py\", line 116, in _stop_locked\n",
      "ChildProcessError: [Errno 10] No child processes\n"
     ]
    },
    {
     "name": "stdout",
     "output_type": "stream",
     "text": [
      "[CV] END bootstrap=False, criterion=entropy, max_depth=15, max_features=log2, min_samples_leaf=2, min_samples_split=4, n_estimators=1000; total time=  59.9s\n",
      "[CV] END bootstrap=True, criterion=gini, max_depth=20, max_features=0.5, min_samples_leaf=2, min_samples_split=4, n_estimators=1200; total time= 2.4min\n",
      "[CV] END bootstrap=False, criterion=entropy, max_depth=15, max_features=log2, min_samples_leaf=2, min_samples_split=4, n_estimators=1000; total time= 1.0min\n",
      "[CV] END bootstrap=True, criterion=gini, max_depth=20, max_features=0.5, min_samples_leaf=2, min_samples_split=4, n_estimators=1200; total time= 2.4min\n",
      "[CV] END bootstrap=True, criterion=gini, max_depth=20, max_features=0.5, min_samples_leaf=2, min_samples_split=4, n_estimators=1200; total time= 2.4min\n",
      "[CV] END bootstrap=True, criterion=gini, max_depth=20, max_features=0.5, min_samples_leaf=2, min_samples_split=4, n_estimators=1200; total time= 2.4min\n",
      "[CV] END bootstrap=True, criterion=gini, max_depth=20, max_features=0.5, min_samples_leaf=2, min_samples_split=4, n_estimators=1200; total time= 2.4min\n"
     ]
    },
    {
     "name": "stderr",
     "output_type": "stream",
     "text": [
      "Exception ignored in: <function ResourceTracker.__del__ at 0x104e0f880>\n",
      "Traceback (most recent call last):\n",
      "  File \"/Library/Frameworks/Python.framework/Versions/3.13/lib/python3.13/multiprocessing/resource_tracker.py\", line 82, in __del__\n",
      "  File \"/Library/Frameworks/Python.framework/Versions/3.13/lib/python3.13/multiprocessing/resource_tracker.py\", line 91, in _stop\n",
      "  File \"/Library/Frameworks/Python.framework/Versions/3.13/lib/python3.13/multiprocessing/resource_tracker.py\", line 116, in _stop_locked\n",
      "ChildProcessError: [Errno 10] No child processes\n"
     ]
    },
    {
     "name": "stdout",
     "output_type": "stream",
     "text": [
      "[CV] END bootstrap=False, criterion=entropy, max_depth=15, max_features=log2, min_samples_leaf=2, min_samples_split=4, n_estimators=1000; total time=  59.7s\n",
      "[CV] END bootstrap=True, criterion=gini, max_depth=5, max_features=None, min_samples_leaf=2, min_samples_split=4, n_estimators=700; total time=  54.3s\n",
      "[CV] END bootstrap=True, criterion=gini, max_depth=5, max_features=None, min_samples_leaf=2, min_samples_split=4, n_estimators=700; total time=  54.5s\n",
      "[CV] END bootstrap=True, criterion=gini, max_depth=5, max_features=None, min_samples_leaf=2, min_samples_split=4, n_estimators=700; total time=  55.1s\n",
      "[CV] END bootstrap=True, criterion=gini, max_depth=5, max_features=None, min_samples_leaf=2, min_samples_split=4, n_estimators=700; total time=  54.8s\n",
      "[CV] END bootstrap=True, criterion=gini, max_depth=5, max_features=None, min_samples_leaf=2, min_samples_split=4, n_estimators=700; total time=  54.9s\n",
      "[CV] END bootstrap=False, criterion=entropy, max_depth=15, max_features=log2, min_samples_leaf=2, min_samples_split=4, n_estimators=1000; total time= 1.0min\n",
      "[CV] END bootstrap=False, criterion=gini, max_depth=10, max_features=None, min_samples_leaf=1, min_samples_split=2, n_estimators=300; total time= 1.1min\n",
      "[CV] END bootstrap=False, criterion=gini, max_depth=10, max_features=None, min_samples_leaf=1, min_samples_split=2, n_estimators=300; total time= 1.1min\n",
      "[CV] END bootstrap=False, criterion=gini, max_depth=10, max_features=log2, min_samples_leaf=4, min_samples_split=4, n_estimators=1000; total time=  40.9s\n",
      "[CV] END bootstrap=False, criterion=gini, max_depth=10, max_features=log2, min_samples_leaf=4, min_samples_split=4, n_estimators=1000; total time=  41.0s\n",
      "[CV] END bootstrap=False, criterion=gini, max_depth=5, max_features=auto, min_samples_leaf=2, min_samples_split=4, n_estimators=700; total time=   0.0s\n",
      "[CV] END bootstrap=False, criterion=gini, max_depth=5, max_features=auto, min_samples_leaf=2, min_samples_split=4, n_estimators=700; total time=   0.0s\n",
      "[CV] END bootstrap=False, criterion=gini, max_depth=5, max_features=auto, min_samples_leaf=2, min_samples_split=4, n_estimators=700; total time=   0.0s\n",
      "[CV] END bootstrap=False, criterion=gini, max_depth=5, max_features=auto, min_samples_leaf=2, min_samples_split=4, n_estimators=700; total time=   0.0s\n",
      "[CV] END bootstrap=False, criterion=gini, max_depth=5, max_features=auto, min_samples_leaf=2, min_samples_split=4, n_estimators=700; total time=   0.0s\n",
      "[CV] END bootstrap=False, criterion=gini, max_depth=10, max_features=log2, min_samples_leaf=4, min_samples_split=4, n_estimators=1000; total time=  41.0s\n",
      "[CV] END bootstrap=True, criterion=gini, max_depth=5, max_features=0.5, min_samples_leaf=1, min_samples_split=4, n_estimators=200; total time=   8.3s\n",
      "[CV] END bootstrap=True, criterion=gini, max_depth=5, max_features=0.5, min_samples_leaf=1, min_samples_split=4, n_estimators=200; total time=   8.5s\n",
      "[CV] END bootstrap=True, criterion=gini, max_depth=5, max_features=0.5, min_samples_leaf=1, min_samples_split=4, n_estimators=200; total time=   8.4s\n",
      "[CV] END bootstrap=False, criterion=gini, max_depth=10, max_features=log2, min_samples_leaf=4, min_samples_split=4, n_estimators=1000; total time=  40.3s\n",
      "[CV] END bootstrap=True, criterion=gini, max_depth=5, max_features=0.5, min_samples_leaf=1, min_samples_split=4, n_estimators=200; total time=   8.3s\n",
      "[CV] END bootstrap=True, criterion=gini, max_depth=5, max_features=0.5, min_samples_leaf=1, min_samples_split=4, n_estimators=200; total time=   8.5s\n",
      "[CV] END bootstrap=False, criterion=gini, max_depth=15, max_features=log2, min_samples_leaf=1, min_samples_split=2, n_estimators=100; total time=   5.8s\n",
      "[CV] END bootstrap=False, criterion=gini, max_depth=15, max_features=log2, min_samples_leaf=1, min_samples_split=2, n_estimators=100; total time=   5.6s\n",
      "[CV] END bootstrap=False, criterion=gini, max_depth=15, max_features=log2, min_samples_leaf=1, min_samples_split=2, n_estimators=100; total time=   5.7s\n",
      "[CV] END bootstrap=False, criterion=gini, max_depth=15, max_features=log2, min_samples_leaf=1, min_samples_split=2, n_estimators=100; total time=   5.8s\n",
      "[CV] END bootstrap=False, criterion=gini, max_depth=10, max_features=None, min_samples_leaf=1, min_samples_split=2, n_estimators=300; total time= 1.1min\n",
      "[CV] END bootstrap=False, criterion=gini, max_depth=10, max_features=None, min_samples_leaf=1, min_samples_split=2, n_estimators=300; total time= 1.1min\n",
      "[CV] END bootstrap=False, criterion=gini, max_depth=15, max_features=log2, min_samples_leaf=1, min_samples_split=2, n_estimators=100; total time=   5.7s\n",
      "[CV] END bootstrap=False, criterion=gini, max_depth=10, max_features=auto, min_samples_leaf=2, min_samples_split=4, n_estimators=800; total time=   0.0s\n",
      "[CV] END bootstrap=False, criterion=gini, max_depth=10, max_features=auto, min_samples_leaf=2, min_samples_split=4, n_estimators=800; total time=   0.0s\n",
      "[CV] END bootstrap=False, criterion=gini, max_depth=10, max_features=auto, min_samples_leaf=2, min_samples_split=4, n_estimators=800; total time=   0.0s\n",
      "[CV] END bootstrap=False, criterion=gini, max_depth=10, max_features=auto, min_samples_leaf=2, min_samples_split=4, n_estimators=800; total time=   0.0s\n",
      "[CV] END bootstrap=False, criterion=gini, max_depth=10, max_features=auto, min_samples_leaf=2, min_samples_split=4, n_estimators=800; total time=   0.0s\n",
      "[CV] END bootstrap=False, criterion=gini, max_depth=10, max_features=None, min_samples_leaf=1, min_samples_split=2, n_estimators=300; total time= 1.1min\n",
      "[CV] END bootstrap=False, criterion=gini, max_depth=10, max_features=log2, min_samples_leaf=4, min_samples_split=4, n_estimators=1000; total time=  40.1s\n",
      "[CV] END bootstrap=True, criterion=entropy, max_depth=20, max_features=0.7, min_samples_leaf=1, min_samples_split=3, n_estimators=100; total time=  18.8s\n",
      "[CV] END bootstrap=True, criterion=entropy, max_depth=20, max_features=0.7, min_samples_leaf=1, min_samples_split=3, n_estimators=100; total time=  18.8s\n",
      "[CV] END bootstrap=True, criterion=entropy, max_depth=20, max_features=0.7, min_samples_leaf=1, min_samples_split=3, n_estimators=100; total time=  18.3s\n",
      "[CV] END bootstrap=True, criterion=entropy, max_depth=20, max_features=0.7, min_samples_leaf=1, min_samples_split=3, n_estimators=100; total time=  18.4s\n",
      "[CV] END bootstrap=True, criterion=entropy, max_depth=20, max_features=0.7, min_samples_leaf=1, min_samples_split=3, n_estimators=100; total time=  18.8s\n",
      "[CV] END bootstrap=True, criterion=gini, max_depth=None, max_features=0.7, min_samples_leaf=1, min_samples_split=2, n_estimators=300; total time=  54.0s\n"
     ]
    },
    {
     "name": "stderr",
     "output_type": "stream",
     "text": [
      "Exception ignored in: <function ResourceTracker.__del__ at 0x106323880>\n",
      "Traceback (most recent call last):\n",
      "  File \"/Library/Frameworks/Python.framework/Versions/3.13/lib/python3.13/multiprocessing/resource_tracker.py\", line 82, in __del__\n",
      "  File \"/Library/Frameworks/Python.framework/Versions/3.13/lib/python3.13/multiprocessing/resource_tracker.py\", line 91, in _stop\n",
      "  File \"/Library/Frameworks/Python.framework/Versions/3.13/lib/python3.13/multiprocessing/resource_tracker.py\", line 116, in _stop_locked\n",
      "ChildProcessError: [Errno 10] No child processes\n"
     ]
    },
    {
     "name": "stdout",
     "output_type": "stream",
     "text": [
      "[CV] END bootstrap=True, criterion=gini, max_depth=15, max_features=0.5, min_samples_leaf=1, min_samples_split=2, n_estimators=200; total time=  20.0s\n",
      "[CV] END bootstrap=True, criterion=gini, max_depth=None, max_features=0.7, min_samples_leaf=1, min_samples_split=2, n_estimators=300; total time=  54.1s\n",
      "[CV] END bootstrap=True, criterion=gini, max_depth=None, max_features=0.7, min_samples_leaf=1, min_samples_split=2, n_estimators=300; total time=  54.5s\n",
      "[CV] END bootstrap=True, criterion=gini, max_depth=None, max_features=0.7, min_samples_leaf=1, min_samples_split=2, n_estimators=300; total time=  52.9s\n",
      "[CV] END bootstrap=True, criterion=gini, max_depth=None, max_features=0.7, min_samples_leaf=1, min_samples_split=2, n_estimators=300; total time=  54.1s\n",
      "[CV] END bootstrap=True, criterion=gini, max_depth=15, max_features=0.5, min_samples_leaf=1, min_samples_split=2, n_estimators=200; total time=  19.7s\n",
      "[CV] END bootstrap=True, criterion=gini, max_depth=15, max_features=0.5, min_samples_leaf=1, min_samples_split=2, n_estimators=200; total time=  19.7s\n",
      "[CV] END bootstrap=True, criterion=gini, max_depth=15, max_features=0.5, min_samples_leaf=1, min_samples_split=2, n_estimators=200; total time=  19.7s\n",
      "[CV] END bootstrap=True, criterion=gini, max_depth=15, max_features=0.5, min_samples_leaf=1, min_samples_split=2, n_estimators=200; total time=  20.2s\n",
      "[CV] END bootstrap=False, criterion=entropy, max_depth=10, max_features=sqrt, min_samples_leaf=2, min_samples_split=4, n_estimators=1100; total time=  56.9s\n",
      "[CV] END bootstrap=False, criterion=entropy, max_depth=10, max_features=sqrt, min_samples_leaf=2, min_samples_split=4, n_estimators=1100; total time=  57.4s\n",
      "[CV] END bootstrap=False, criterion=entropy, max_depth=10, max_features=sqrt, min_samples_leaf=2, min_samples_split=4, n_estimators=1100; total time=  57.0s\n",
      "[CV] END bootstrap=False, criterion=entropy, max_depth=10, max_features=sqrt, min_samples_leaf=2, min_samples_split=4, n_estimators=1100; total time=  57.3s\n",
      "[CV] END bootstrap=False, criterion=entropy, max_depth=10, max_features=sqrt, min_samples_leaf=2, min_samples_split=4, n_estimators=1100; total time=  57.8s\n",
      "[CV] END bootstrap=True, criterion=gini, max_depth=15, max_features=None, min_samples_leaf=2, min_samples_split=3, n_estimators=500; total time= 1.6min\n",
      "[CV] END bootstrap=True, criterion=gini, max_depth=15, max_features=None, min_samples_leaf=2, min_samples_split=3, n_estimators=500; total time= 1.7min\n",
      "[CV] END bootstrap=True, criterion=gini, max_depth=15, max_features=None, min_samples_leaf=2, min_samples_split=3, n_estimators=500; total time= 1.6min\n",
      "[CV] END bootstrap=True, criterion=gini, max_depth=20, max_features=0.3, min_samples_leaf=4, min_samples_split=2, n_estimators=300; total time=  19.7s\n",
      "[CV] END bootstrap=True, criterion=gini, max_depth=20, max_features=0.3, min_samples_leaf=4, min_samples_split=2, n_estimators=300; total time=  19.7s\n",
      "[CV] END bootstrap=True, criterion=gini, max_depth=20, max_features=0.3, min_samples_leaf=4, min_samples_split=2, n_estimators=300; total time=  19.7s\n",
      "[CV] END bootstrap=True, criterion=gini, max_depth=20, max_features=0.3, min_samples_leaf=4, min_samples_split=2, n_estimators=300; total time=  19.8s\n",
      "[CV] END bootstrap=True, criterion=gini, max_depth=15, max_features=None, min_samples_leaf=2, min_samples_split=3, n_estimators=500; total time= 1.6min\n",
      "[CV] END bootstrap=True, criterion=gini, max_depth=15, max_features=None, min_samples_leaf=2, min_samples_split=3, n_estimators=500; total time= 1.6min\n",
      "[CV] END bootstrap=True, criterion=gini, max_depth=20, max_features=0.3, min_samples_leaf=4, min_samples_split=2, n_estimators=300; total time=  19.5s\n",
      "[CV] END bootstrap=True, criterion=entropy, max_depth=20, max_features=None, min_samples_leaf=2, min_samples_split=2, n_estimators=1200; total time= 5.1min\n",
      "[CV] END bootstrap=True, criterion=entropy, max_depth=20, max_features=None, min_samples_leaf=2, min_samples_split=2, n_estimators=1200; total time= 5.1min\n"
     ]
    },
    {
     "name": "stderr",
     "output_type": "stream",
     "text": [
      "Exception ignored in: <function ResourceTracker.__del__ at 0x106c83880>\n",
      "Traceback (most recent call last):\n",
      "  File \"/Library/Frameworks/Python.framework/Versions/3.13/lib/python3.13/multiprocessing/resource_tracker.py\", line 82, in __del__\n",
      "  File \"/Library/Frameworks/Python.framework/Versions/3.13/lib/python3.13/multiprocessing/resource_tracker.py\", line 91, in _stop\n",
      "  File \"/Library/Frameworks/Python.framework/Versions/3.13/lib/python3.13/multiprocessing/resource_tracker.py\", line 116, in _stop_locked\n",
      "ChildProcessError: [Errno 10] No child processes\n"
     ]
    },
    {
     "name": "stdout",
     "output_type": "stream",
     "text": [
      "[CV] END bootstrap=True, criterion=entropy, max_depth=20, max_features=None, min_samples_leaf=2, min_samples_split=2, n_estimators=1200; total time= 5.1min\n",
      "[CV] END bootstrap=False, criterion=entropy, max_depth=10, max_features=auto, min_samples_leaf=2, min_samples_split=2, n_estimators=1000; total time=   0.0s\n",
      "[CV] END bootstrap=False, criterion=entropy, max_depth=10, max_features=auto, min_samples_leaf=2, min_samples_split=2, n_estimators=1000; total time=   0.0s\n",
      "[CV] END bootstrap=False, criterion=entropy, max_depth=10, max_features=auto, min_samples_leaf=2, min_samples_split=2, n_estimators=1000; total time=   0.0s\n",
      "[CV] END bootstrap=False, criterion=entropy, max_depth=10, max_features=auto, min_samples_leaf=2, min_samples_split=2, n_estimators=1000; total time=   0.0s\n",
      "[CV] END bootstrap=False, criterion=entropy, max_depth=10, max_features=auto, min_samples_leaf=2, min_samples_split=2, n_estimators=1000; total time=   0.0s\n",
      "[CV] END bootstrap=True, criterion=entropy, max_depth=20, max_features=None, min_samples_leaf=2, min_samples_split=2, n_estimators=1200; total time= 5.1min\n",
      "[CV] END bootstrap=True, criterion=entropy, max_depth=20, max_features=None, min_samples_leaf=2, min_samples_split=2, n_estimators=1200; total time= 5.1min\n",
      "[CV] END bootstrap=False, criterion=entropy, max_depth=None, max_features=0.3, min_samples_leaf=4, min_samples_split=3, n_estimators=300; total time=  37.0s\n"
     ]
    },
    {
     "name": "stderr",
     "output_type": "stream",
     "text": [
      "Exception ignored in: <function ResourceTracker.__del__ at 0x1028ef880>\n",
      "Traceback (most recent call last):\n",
      "  File \"/Library/Frameworks/Python.framework/Versions/3.13/lib/python3.13/multiprocessing/resource_tracker.py\", line 82, in __del__\n",
      "  File \"/Library/Frameworks/Python.framework/Versions/3.13/lib/python3.13/multiprocessing/resource_tracker.py\", line 91, in _stop\n",
      "  File \"/Library/Frameworks/Python.framework/Versions/3.13/lib/python3.13/multiprocessing/resource_tracker.py\", line 116, in _stop_locked\n",
      "ChildProcessError: [Errno 10] No child processes\n"
     ]
    },
    {
     "name": "stdout",
     "output_type": "stream",
     "text": [
      "[CV] END bootstrap=False, criterion=entropy, max_depth=None, max_features=0.3, min_samples_leaf=4, min_samples_split=3, n_estimators=300; total time=  36.5s\n",
      "[CV] END bootstrap=False, criterion=entropy, max_depth=None, max_features=0.3, min_samples_leaf=4, min_samples_split=3, n_estimators=300; total time=  36.2s\n",
      "[CV] END bootstrap=False, criterion=gini, max_depth=15, max_features=auto, min_samples_leaf=1, min_samples_split=4, n_estimators=800; total time=   0.0s\n",
      "[CV] END bootstrap=False, criterion=gini, max_depth=15, max_features=auto, min_samples_leaf=1, min_samples_split=4, n_estimators=800; total time=   0.0s\n",
      "[CV] END bootstrap=False, criterion=gini, max_depth=15, max_features=auto, min_samples_leaf=1, min_samples_split=4, n_estimators=800; total time=   0.2s\n",
      "[CV] END bootstrap=False, criterion=gini, max_depth=15, max_features=auto, min_samples_leaf=1, min_samples_split=4, n_estimators=800; total time=   0.0s\n",
      "[CV] END bootstrap=False, criterion=gini, max_depth=15, max_features=auto, min_samples_leaf=1, min_samples_split=4, n_estimators=800; total time=   0.0s\n",
      "[CV] END bootstrap=False, criterion=entropy, max_depth=None, max_features=0.3, min_samples_leaf=4, min_samples_split=3, n_estimators=300; total time=  36.4s\n",
      "[CV] END bootstrap=False, criterion=entropy, max_depth=None, max_features=0.3, min_samples_leaf=4, min_samples_split=3, n_estimators=300; total time=  37.1s\n",
      "[CV] END bootstrap=True, criterion=gini, max_depth=20, max_features=None, min_samples_leaf=4, min_samples_split=2, n_estimators=1200; total time= 4.4min\n"
     ]
    },
    {
     "name": "stderr",
     "output_type": "stream",
     "text": [
      "Exception ignored in: <function ResourceTracker.__del__ at 0x107147880>\n",
      "Traceback (most recent call last):\n",
      "  File \"/Library/Frameworks/Python.framework/Versions/3.13/lib/python3.13/multiprocessing/resource_tracker.py\", line 82, in __del__\n",
      "  File \"/Library/Frameworks/Python.framework/Versions/3.13/lib/python3.13/multiprocessing/resource_tracker.py\", line 91, in _stop\n",
      "  File \"/Library/Frameworks/Python.framework/Versions/3.13/lib/python3.13/multiprocessing/resource_tracker.py\", line 116, in _stop_locked\n",
      "ChildProcessError: [Errno 10] No child processes\n"
     ]
    },
    {
     "name": "stdout",
     "output_type": "stream",
     "text": [
      "[CV] END bootstrap=True, criterion=gini, max_depth=20, max_features=None, min_samples_leaf=4, min_samples_split=2, n_estimators=1200; total time= 4.4min\n",
      "[CV] END bootstrap=True, criterion=gini, max_depth=20, max_features=None, min_samples_leaf=4, min_samples_split=2, n_estimators=1200; total time= 4.4min\n"
     ]
    },
    {
     "name": "stderr",
     "output_type": "stream",
     "text": [
      "Exception ignored in: <function ResourceTracker.__del__ at 0x1057d3880>\n",
      "Traceback (most recent call last):\n",
      "  File \"/Library/Frameworks/Python.framework/Versions/3.13/lib/python3.13/multiprocessing/resource_tracker.py\", line 82, in __del__\n",
      "  File \"/Library/Frameworks/Python.framework/Versions/3.13/lib/python3.13/multiprocessing/resource_tracker.py\", line 91, in _stop\n",
      "  File \"/Library/Frameworks/Python.framework/Versions/3.13/lib/python3.13/multiprocessing/resource_tracker.py\", line 116, in _stop_locked\n",
      "ChildProcessError: [Errno 10] No child processes\n"
     ]
    },
    {
     "name": "stdout",
     "output_type": "stream",
     "text": [
      "[CV] END bootstrap=False, criterion=gini, max_depth=10, max_features=0.5, min_samples_leaf=4, min_samples_split=2, n_estimators=1100; total time= 2.1min\n",
      "[CV] END bootstrap=False, criterion=gini, max_depth=10, max_features=0.5, min_samples_leaf=4, min_samples_split=2, n_estimators=1100; total time= 2.0min\n",
      "[CV] END bootstrap=False, criterion=gini, max_depth=10, max_features=0.5, min_samples_leaf=4, min_samples_split=2, n_estimators=1100; total time= 1.9min\n",
      "[CV] END bootstrap=True, criterion=gini, max_depth=20, max_features=None, min_samples_leaf=4, min_samples_split=2, n_estimators=1200; total time= 4.0min\n",
      "[CV] END bootstrap=True, criterion=gini, max_depth=20, max_features=None, min_samples_leaf=4, min_samples_split=2, n_estimators=1200; total time= 3.9min\n",
      "[CV] END bootstrap=False, criterion=gini, max_depth=10, max_features=0.5, min_samples_leaf=4, min_samples_split=2, n_estimators=1100; total time=  54.3s\n",
      "[CV] END bootstrap=False, criterion=gini, max_depth=10, max_features=0.5, min_samples_leaf=4, min_samples_split=2, n_estimators=1100; total time=  54.0s\n"
     ]
    },
    {
     "name": "stderr",
     "output_type": "stream",
     "text": [
      "/Library/Frameworks/Python.framework/Versions/3.13/lib/python3.13/site-packages/sklearn/model_selection/_validation.py:528: FitFailedWarning: \n",
      "135 fits failed out of a total of 1000.\n",
      "The score on these train-test partitions for these parameters will be set to nan.\n",
      "If these failures are not expected, you can try to debug them by setting error_score='raise'.\n",
      "\n",
      "Below are more details about the failures:\n",
      "--------------------------------------------------------------------------------\n",
      "66 fits failed with the following error:\n",
      "Traceback (most recent call last):\n",
      "  File \"/Library/Frameworks/Python.framework/Versions/3.13/lib/python3.13/site-packages/sklearn/model_selection/_validation.py\", line 866, in _fit_and_score\n",
      "    estimator.fit(X_train, y_train, **fit_params)\n",
      "    ~~~~~~~~~~~~~^^^^^^^^^^^^^^^^^^^^^^^^^^^^^^^^\n",
      "  File \"/Library/Frameworks/Python.framework/Versions/3.13/lib/python3.13/site-packages/sklearn/base.py\", line 1382, in wrapper\n",
      "    estimator._validate_params()\n",
      "    ~~~~~~~~~~~~~~~~~~~~~~~~~~^^\n",
      "  File \"/Library/Frameworks/Python.framework/Versions/3.13/lib/python3.13/site-packages/sklearn/base.py\", line 436, in _validate_params\n",
      "    validate_parameter_constraints(\n",
      "    ~~~~~~~~~~~~~~~~~~~~~~~~~~~~~~^\n",
      "        self._parameter_constraints,\n",
      "        ^^^^^^^^^^^^^^^^^^^^^^^^^^^^\n",
      "        self.get_params(deep=False),\n",
      "        ^^^^^^^^^^^^^^^^^^^^^^^^^^^^\n",
      "        caller_name=self.__class__.__name__,\n",
      "        ^^^^^^^^^^^^^^^^^^^^^^^^^^^^^^^^^^^^\n",
      "    )\n",
      "    ^\n",
      "  File \"/Library/Frameworks/Python.framework/Versions/3.13/lib/python3.13/site-packages/sklearn/utils/_param_validation.py\", line 98, in validate_parameter_constraints\n",
      "    raise InvalidParameterError(\n",
      "    ...<2 lines>...\n",
      "    )\n",
      "sklearn.utils._param_validation.InvalidParameterError: The 'max_features' parameter of RandomForestClassifier must be an int in the range [1, inf), a float in the range (0.0, 1.0], a str among {'log2', 'sqrt'} or None. Got 'auto' instead.\n",
      "\n",
      "--------------------------------------------------------------------------------\n",
      "69 fits failed with the following error:\n",
      "Traceback (most recent call last):\n",
      "  File \"/Library/Frameworks/Python.framework/Versions/3.13/lib/python3.13/site-packages/sklearn/model_selection/_validation.py\", line 866, in _fit_and_score\n",
      "    estimator.fit(X_train, y_train, **fit_params)\n",
      "    ~~~~~~~~~~~~~^^^^^^^^^^^^^^^^^^^^^^^^^^^^^^^^\n",
      "  File \"/Library/Frameworks/Python.framework/Versions/3.13/lib/python3.13/site-packages/sklearn/base.py\", line 1382, in wrapper\n",
      "    estimator._validate_params()\n",
      "    ~~~~~~~~~~~~~~~~~~~~~~~~~~^^\n",
      "  File \"/Library/Frameworks/Python.framework/Versions/3.13/lib/python3.13/site-packages/sklearn/base.py\", line 436, in _validate_params\n",
      "    validate_parameter_constraints(\n",
      "    ~~~~~~~~~~~~~~~~~~~~~~~~~~~~~~^\n",
      "        self._parameter_constraints,\n",
      "        ^^^^^^^^^^^^^^^^^^^^^^^^^^^^\n",
      "        self.get_params(deep=False),\n",
      "        ^^^^^^^^^^^^^^^^^^^^^^^^^^^^\n",
      "        caller_name=self.__class__.__name__,\n",
      "        ^^^^^^^^^^^^^^^^^^^^^^^^^^^^^^^^^^^^\n",
      "    )\n",
      "    ^\n",
      "  File \"/Library/Frameworks/Python.framework/Versions/3.13/lib/python3.13/site-packages/sklearn/utils/_param_validation.py\", line 98, in validate_parameter_constraints\n",
      "    raise InvalidParameterError(\n",
      "    ...<2 lines>...\n",
      "    )\n",
      "sklearn.utils._param_validation.InvalidParameterError: The 'max_features' parameter of RandomForestClassifier must be an int in the range [1, inf), a float in the range (0.0, 1.0], a str among {'sqrt', 'log2'} or None. Got 'auto' instead.\n",
      "\n",
      "  warnings.warn(some_fits_failed_message, FitFailedWarning)\n",
      "/Library/Frameworks/Python.framework/Versions/3.13/lib/python3.13/site-packages/sklearn/model_selection/_search.py:1108: UserWarning: One or more of the test scores are non-finite: [       nan 0.47361448        nan        nan 0.51784269 0.54479978\n",
      " 0.51737491 0.54732135 0.55944625        nan 0.54023138 0.51798148\n",
      " 0.54024156 0.55513364 0.545239   0.5335269  0.54737237 0.563722\n",
      " 0.54024156 0.55829384 0.56002437 0.56011802 0.56083056 0.52618307\n",
      "        nan 0.56005319 0.54158696 0.54049722 0.51318802 0.54595907\n",
      " 0.50778528 0.55954933        nan 0.51689443 0.53367079 0.5356148\n",
      " 0.56025573 0.51217471 0.53848646 0.56305101 0.54919774 0.5061303\n",
      " 0.56038533        nan 0.5606573         nan 0.56229942        nan\n",
      " 0.51897929 0.53768305 0.55829384 0.53849053 0.55846845 0.56044\n",
      " 0.56171807 0.56100684 0.56105378 0.54226584 0.54617507 0.5518404\n",
      " 0.56232124 0.56218218 0.51801225 0.53828848        nan 0.52698168\n",
      " 0.56098723 0.56434857 0.56123166 0.52885485 0.5622596  0.5180283\n",
      "        nan        nan 0.55981804 0.56379317 0.5505573  0.52786138\n",
      " 0.45657088 0.54703397 0.5089421  0.54804209 0.50611106        nan\n",
      " 0.54197971 0.49269987 0.54717906 0.54404217        nan 0.53641119\n",
      " 0.56143459 0.53747836 0.56040902 0.50295654 0.55845388        nan\n",
      " 0.51259729 0.56073272        nan 0.49513587 0.51823411 0.55783365\n",
      " 0.55020183 0.5278457  0.56296433 0.55189254 0.56147903        nan\n",
      " 0.55950854 0.53534026 0.56424538 0.56073272 0.52090122 0.52324287\n",
      " 0.54535607 0.48894454 0.56131896 0.56131896 0.54084544 0.56078903\n",
      " 0.5378184  0.54333396 0.55630131 0.5604078  0.52515549 0.54987051\n",
      " 0.56021387 0.56339143        nan 0.51327792 0.56261022 0.51703856\n",
      " 0.56010549 0.50017615 0.56164496 0.5476665  0.56026934 0.55475017\n",
      " 0.54067396 0.43708876 0.5622004  0.56239896 0.49338271 0.52837982\n",
      " 0.52257133 0.56234832 0.56252389 0.56035137 0.54517849 0.53886139\n",
      " 0.56277686 0.53283575 0.51266493        nan 0.56072387 0.52286784\n",
      " 0.5525905  0.49482885 0.56370517 0.56103054 0.52778019 0.43710736\n",
      "        nan 0.51458501 0.54422418        nan 0.53266702 0.56365366\n",
      " 0.54476238 0.52950949 0.55834859 0.55521256 0.56319588 0.54872795\n",
      "        nan 0.55992431 0.56001038 0.51658697        nan 0.54071651\n",
      " 0.55439787 0.5643592  0.54209134 0.56292695        nan 0.56293159\n",
      " 0.54571827 0.47053246        nan 0.50591317 0.53065227 0.56293722\n",
      " 0.51755048 0.53351642 0.54196634 0.53158105        nan 0.53799313\n",
      "        nan 0.56143005]\n",
      "  warnings.warn(\n"
     ]
    },
    {
     "name": "stdout",
     "output_type": "stream",
     "text": [
      "\n",
      "Melhores hiperparâmetros: {'n_estimators': np.int64(700), 'min_samples_split': 4, 'min_samples_leaf': 2, 'max_features': None, 'max_depth': 5, 'criterion': 'gini', 'bootstrap': True}\n",
      "ROC-AUC : 0.7018\n",
      "F1-score: 0.562\n",
      "\n",
      "Classification report:\n",
      "               precision    recall  f1-score   support\n",
      "\n",
      "           0       0.78      0.77      0.78     13111\n",
      "           1       0.56      0.57      0.56      6663\n",
      "\n",
      "    accuracy                           0.70     19774\n",
      "   macro avg       0.67      0.67      0.67     19774\n",
      "weighted avg       0.70      0.70      0.70     19774\n",
      "\n"
     ]
    },
    {
     "name": "stderr",
     "output_type": "stream",
     "text": [
      "Exception ignored in: <function ResourceTracker.__del__ at 0x107147880>\n",
      "Traceback (most recent call last):\n",
      "  File \"/Library/Frameworks/Python.framework/Versions/3.13/lib/python3.13/multiprocessing/resource_tracker.py\", line 82, in __del__\n",
      "  File \"/Library/Frameworks/Python.framework/Versions/3.13/lib/python3.13/multiprocessing/resource_tracker.py\", line 91, in _stop\n",
      "  File \"/Library/Frameworks/Python.framework/Versions/3.13/lib/python3.13/multiprocessing/resource_tracker.py\", line 116, in _stop_locked\n",
      "ChildProcessError: [Errno 10] No child processes\n",
      "Exception ignored in: <function ResourceTracker.__del__ at 0x1036d3880>\n",
      "Traceback (most recent call last):\n",
      "  File \"/Library/Frameworks/Python.framework/Versions/3.13/lib/python3.13/multiprocessing/resource_tracker.py\", line 82, in __del__\n",
      "  File \"/Library/Frameworks/Python.framework/Versions/3.13/lib/python3.13/multiprocessing/resource_tracker.py\", line 91, in _stop\n",
      "  File \"/Library/Frameworks/Python.framework/Versions/3.13/lib/python3.13/multiprocessing/resource_tracker.py\", line 116, in _stop_locked\n",
      "ChildProcessError: [Errno 10] No child processes\n",
      "Exception ignored in: <function ResourceTracker.__del__ at 0x102eff880>\n",
      "Traceback (most recent call last):\n",
      "  File \"/Library/Frameworks/Python.framework/Versions/3.13/lib/python3.13/multiprocessing/resource_tracker.py\", line 82, in __del__\n",
      "  File \"/Library/Frameworks/Python.framework/Versions/3.13/lib/python3.13/multiprocessing/resource_tracker.py\", line 91, in _stop\n",
      "  File \"/Library/Frameworks/Python.framework/Versions/3.13/lib/python3.13/multiprocessing/resource_tracker.py\", line 116, in _stop_locked\n",
      "ChildProcessError: [Errno 10] No child processes\n",
      "Exception ignored in: <function ResourceTracker.__del__ at 0x104d4f880>\n",
      "Traceback (most recent call last):\n",
      "  File \"/Library/Frameworks/Python.framework/Versions/3.13/lib/python3.13/multiprocessing/resource_tracker.py\", line 82, in __del__\n",
      "  File \"/Library/Frameworks/Python.framework/Versions/3.13/lib/python3.13/multiprocessing/resource_tracker.py\", line 91, in _stop\n",
      "  File \"/Library/Frameworks/Python.framework/Versions/3.13/lib/python3.13/multiprocessing/resource_tracker.py\", line 116, in _stop_locked\n",
      "ChildProcessError: [Errno 10] No child processes\n",
      "Exception ignored in: <function ResourceTracker.__del__ at 0x104537880>\n",
      "Traceback (most recent call last):\n",
      "  File \"/Library/Frameworks/Python.framework/Versions/3.13/lib/python3.13/multiprocessing/resource_tracker.py\", line 82, in __del__\n",
      "  File \"/Library/Frameworks/Python.framework/Versions/3.13/lib/python3.13/multiprocessing/resource_tracker.py\", line 91, in _stop\n",
      "  File \"/Library/Frameworks/Python.framework/Versions/3.13/lib/python3.13/multiprocessing/resource_tracker.py\", line 116, in _stop_locked\n",
      "ChildProcessError: [Errno 10] No child processes\n",
      "Exception ignored in: <function ResourceTracker.__del__ at 0x1068e3880>\n",
      "Traceback (most recent call last):\n",
      "  File \"/Library/Frameworks/Python.framework/Versions/3.13/lib/python3.13/multiprocessing/resource_tracker.py\", line 82, in __del__\n",
      "  File \"/Library/Frameworks/Python.framework/Versions/3.13/lib/python3.13/multiprocessing/resource_tracker.py\", line 91, in _stop\n",
      "  File \"/Library/Frameworks/Python.framework/Versions/3.13/lib/python3.13/multiprocessing/resource_tracker.py\", line 116, in _stop_locked\n",
      "ChildProcessError: [Errno 10] No child processes\n",
      "Exception ignored in: <function ResourceTracker.__del__ at 0x104253880>\n",
      "Traceback (most recent call last):\n",
      "  File \"/Library/Frameworks/Python.framework/Versions/3.13/lib/python3.13/multiprocessing/resource_tracker.py\", line 82, in __del__\n",
      "  File \"/Library/Frameworks/Python.framework/Versions/3.13/lib/python3.13/multiprocessing/resource_tracker.py\", line 91, in _stop\n",
      "  File \"/Library/Frameworks/Python.framework/Versions/3.13/lib/python3.13/multiprocessing/resource_tracker.py\", line 116, in _stop_locked\n",
      "ChildProcessError: [Errno 10] No child processes\n"
     ]
    }
   ],
   "source": [
    "from sklearn.ensemble import RandomForestClassifier\n",
    "from sklearn.model_selection import RandomizedSearchCV\n",
    "\n",
    "rf_base = RandomForestClassifier(\n",
    "    class_weight='balanced',\n",
    "    n_jobs=8,\n",
    "    oob_score=False,\n",
    "    random_state=42\n",
    ")\n",
    "\n",
    "param_dist = {\n",
    "    'n_estimators':      np.arange(100, 1201, 100),\n",
    "    'max_depth':         [None, 5, 10, 15, 20],\n",
    "    'min_samples_split': [2, 3, 4],\n",
    "    'min_samples_leaf':  [1, 2, 4],\n",
    "    'max_features':      ['auto', 'sqrt', 'log2', 0.3, 0.5, 0.7, None],\n",
    "    'bootstrap':         [True, False],\n",
    "    'criterion':         ['gini', 'entropy']\n",
    "}\n",
    "\n",
    "rf_search = RandomizedSearchCV(\n",
    "    estimator=rf_base,\n",
    "    param_distributions=param_dist,\n",
    "    n_iter=200,\n",
    "    scoring='f1',\n",
    "    cv=5,\n",
    "    verbose=2,\n",
    "    n_jobs=8,\n",
    "    random_state=42\n",
    ")\n",
    "\n",
    "print(\"Iniciando RandomizedSearch\")\n",
    "rf_search.fit(X_tr, y_tr)\n",
    "\n",
    "print('\\nMelhores hiperparâmetros:', rf_search.best_params_)\n",
    "\n",
    "y_pred_rf = rf_search.best_estimator_.predict(X_val)\n",
    "y_prob_rf = rf_search.best_estimator_.predict_proba(X_val)[:, 1]\n",
    "\n",
    "print('ROC-AUC :', round(roc_auc_score(y_val, y_prob_rf), 4))\n",
    "print('F1-score:', round(f1_score(y_val, y_pred_rf), 4))\n",
    "print('\\nClassification report:\\n', classification_report(y_val, y_pred_rf))"
   ]
  },
  {
   "cell_type": "markdown",
   "id": "3c456860",
   "metadata": {},
   "source": [
    "### Conclusão  \n",
    "*Da Etapa 4 – Treinamento e teste de modelos*\n",
    "\n",
    "| Modelo | ROC-AUC | F1 (classe 1) | **Acurácia** | Observação |\n",
    "|--------|:------:|:-------------:|:------------:|------------|\n",
    "| Regressão Logística | **0.7051** | **0.5649** | 0.65 | AUC/F1 ótimos, **não** atinge accuracy ≥ 70 % |\n",
    "| **Random Forest (tuned)** | 0.7018 | 0.5620 | **0.70** | Modelo otimizado com RandomSearch |\n",
    "| Gradient Boosting (sub XGB) | 0.7031 | 0.5625 | 0.71* | *Resultado instável* (variação entre folds alta); maior custo de inferência |\n",
    "\n",
    "**Decisão:** adotar o **Random Forest** como **modelo final** porque:\n",
    "\n",
    "1. **Cumpre o critério oficial de avaliação (accuracy ≥ 70 %)** — a LogReg falhou nisso.  \n",
    "2. Mantém ROC-AUC e F1 praticamente iguais aos concorrentes.  \n",
    "3. É robusto, já balanceado (`class_weight='balanced'`).\n",
    "\n",
    "A LogReg fica como “baseline interpretável” para relatórios, e o Gradient Boosting é descartado nesta fase por instabilidade nos folds.\n",
    "\n",
    "#### Melhores Hiperparâmetros - RandomSearch\n",
    "\n",
    "Melhores hiperparâmetros: {'n_estimators': np.int64(700), 'min_samples_split': 4, 'min_samples_leaf': 2, 'max_features': None, 'max_depth': 5, 'criterion': 'gini', 'bootstrap': True}"
   ]
  },
  {
   "cell_type": "markdown",
   "id": "273e30e6",
   "metadata": {},
   "source": [
    "## Etapa 5 – Avaliação e comparação de modelos  \n",
    "\n",
    "> **Objetivo desta etapa:** Consolidar métricas, visualizar ROC e matrizes de confusão, justificando formalmente a escolha do **Random Forest** como modelo campeão."
   ]
  },
  {
   "cell_type": "markdown",
   "id": "ead83347",
   "metadata": {},
   "source": [
    "### 5.1. Tabela comparativa de métricas  \n",
    "\n",
    "(Revisão final das métricas dos três modelos.)"
   ]
  },
  {
   "cell_type": "code",
   "execution_count": 111,
   "id": "dbf3b7ed",
   "metadata": {},
   "outputs": [
    {
     "name": "stdout",
     "output_type": "stream",
     "text": [
      "               ROC_AUC      F1  Accuracy\n",
      "Model                                   \n",
      "LogReg          0.7051  0.5649      0.65\n",
      "RandomForest    0.7018  0.5620      0.70\n",
      "GradientBoost   0.7031  0.5625      0.71\n"
     ]
    }
   ],
   "source": [
    "import pandas as pd\n",
    "\n",
    "df_metrics = pd.DataFrame({\n",
    "    'Model': ['LogReg', 'RandomForest', 'GradientBoost'],\n",
    "    'ROC_AUC': [0.7051, 0.7018, 0.7031],\n",
    "    'F1':      [0.5649, 0.5620, 0.5625],\n",
    "    'Accuracy':[0.65,   0.70,   0.71]\n",
    "}).set_index('Model').round(4)\n",
    "\n",
    "print(df_metrics)"
   ]
  },
  {
   "cell_type": "markdown",
   "id": "eae20af9",
   "metadata": {},
   "source": [
    "### 5.2. Curvas ROC  \n",
    "\n",
    "Compara AUC visualmente (apesar de AUC similar, nosso critério principal é accuracy)."
   ]
  },
  {
   "cell_type": "code",
   "execution_count": 112,
   "id": "8e8aa34d",
   "metadata": {},
   "outputs": [
    {
     "name": "stderr",
     "output_type": "stream",
     "text": [
      "/Library/Frameworks/Python.framework/Versions/3.13/lib/python3.13/site-packages/sklearn/utils/extmath.py:203: RuntimeWarning: divide by zero encountered in matmul\n",
      "  ret = a @ b\n",
      "/Library/Frameworks/Python.framework/Versions/3.13/lib/python3.13/site-packages/sklearn/utils/extmath.py:203: RuntimeWarning: overflow encountered in matmul\n",
      "  ret = a @ b\n",
      "/Library/Frameworks/Python.framework/Versions/3.13/lib/python3.13/site-packages/sklearn/utils/extmath.py:203: RuntimeWarning: invalid value encountered in matmul\n",
      "  ret = a @ b\n"
     ]
    },
    {
     "data": {
      "text/plain": [
       "<Figure size 600x500 with 0 Axes>"
      ]
     },
     "metadata": {},
     "output_type": "display_data"
    },
    {
     "data": {
      "image/png": "[encoded data removed]",
      "text/plain": [
       "<Figure size 640x480 with 1 Axes>"
      ]
     },
     "metadata": {},
     "output_type": "display_data"
    },
    {
     "data": {
      "image/png": "[encoded data removed]",
      "text/plain": [
       "<Figure size 640x480 with 1 Axes>"
      ]
     },
     "metadata": {},
     "output_type": "display_data"
    },
    {
     "data": {
      "image/png": "[encoded data removed]",
      "text/plain": [
       "<Figure size 640x480 with 1 Axes>"
      ]
     },
     "metadata": {},
     "output_type": "display_data"
    }
   ],
   "source": [
    "from sklearn.metrics import RocCurveDisplay\n",
    "import matplotlib.pyplot as plt\n",
    "\n",
    "plt.figure(figsize=(6,5))\n",
    "RocCurveDisplay.from_estimator(log_reg, X_val, y_val, name='LogReg')\n",
    "RocCurveDisplay.from_estimator(rf_search.best_estimator_, X_val, y_val, name='RandomForest')\n",
    "RocCurveDisplay.from_estimator(clf, X_val, y_val, name='GradientBoost')\n",
    "plt.plot([0,1],[0,1],'--',color='grey')\n",
    "plt.title('Curvas ROC – Comparação')\n",
    "plt.show()"
   ]
  },
  {
   "cell_type": "markdown",
   "id": "caac2137",
   "metadata": {},
   "source": [
    "### 5.3. Matriz de confusão – Random Forest (modelo final)  \n",
    "\n",
    "Analisa falsos negativos (FN) e falsos positivos (FP) após atingir 70 % de accuracy."
   ]
  },
  {
   "cell_type": "code",
   "execution_count": 113,
   "id": "fe5b339e",
   "metadata": {},
   "outputs": [
    {
     "data": {
      "image/png": "[encoded data removed]",
      "text/plain": [
       "<Figure size 640x480 with 2 Axes>"
      ]
     },
     "metadata": {},
     "output_type": "display_data"
    }
   ],
   "source": [
    "from sklearn.metrics import ConfusionMatrixDisplay\n",
    "\n",
    "ConfusionMatrixDisplay.from_estimator(\n",
    "    rf_search.best_estimator_, X_val, y_val,\n",
    "    display_labels=['Permanece (0)', 'Cancela (1)'],\n",
    "    cmap='Blues',\n",
    "    normalize='true'\n",
    ")\n",
    "plt.title('Matriz de confusão – Random Forest')\n",
    "plt.show()"
   ]
  },
  {
   "cell_type": "markdown",
   "id": "172404c2",
   "metadata": {},
   "source": [
    "### 5.4. Importância de features (Gini)\n",
    "\n",
    "Mostra as variáveis que mais influenciaram as decisões da floresta."
   ]
  },
  {
   "cell_type": "code",
   "execution_count": 114,
   "id": "11c4007c",
   "metadata": {},
   "outputs": [
    {
     "data": {
      "image/png": "[encoded data removed]",
      "text/plain": [
       "<Figure size 640x480 with 1 Axes>"
      ]
     },
     "metadata": {},
     "output_type": "display_data"
    }
   ],
   "source": [
    "import numpy as np\n",
    "\n",
    "importances = rf_search.best_estimator_.feature_importances_\n",
    "feature_names = np.concatenate([numeric_features, preprocessor.named_transformers_['cat']['encoder'].get_feature_names_out(categorical_features)])\n",
    "top_idx = np.argsort(importances)[-10:]\n",
    "\n",
    "pd.Series(importances[top_idx], index=feature_names[top_idx]).sort_values().plot(kind='barh')\n",
    "plt.xlabel('Importância (Gini)')\n",
    "plt.title('Top-10 features – Random Forest')\n",
    "plt.show()"
   ]
  },
  {
   "cell_type": "markdown",
   "id": "dfc77190",
   "metadata": {},
   "source": [
    "### Conclusão\n",
    "\n",
    "1. **Critério de avaliação:** o case exige **≥ 70 % de accuracy**.  \n",
    "   * Random Forest = **70 %** ✅  \n",
    "   * LogReg = 65 % ❌  \n",
    "   * GB = 71 %*, porém variou muito entre folds (risco de overfitting).\n",
    "\n",
    "2. **Robustez & Generalização:**  \n",
    "   * RF manteve AUC (0,702) praticamente igual à LogReg (mesmo poder de rankeamento).  \n",
    "   * Melhorou recall de churn sem sacrificar precisão (F1 0,562).\n",
    "\n",
    "3. **Explicabilidade (feature importance):**  \n",
    "   * Confirma insights: `tempo_como_cliente`, `atrasos_pagamento`, `tipo_contrato` dominam.\n",
    "\n",
    "> Assim, **Random Forest** é oficializado como **modelo final** para a submissão."
   ]
  },
  {
   "cell_type": "markdown",
   "id": "845a807f",
   "metadata": {},
   "source": [
    "## Etapa 6 – Geração do arquivo de previsões  \n",
    "\n",
    "> **Objetivo:** Treinar o **Random Forest** campeão em **todo** o dataset de treino e exportar  \n",
    "> `resultado_mateus_beppler_pereira.csv` com as previsões (Id, churn) para `desafio.csv`.  \n",
    "> Também registraremos a **acurácia final** do modelo (validação hold-out) para referência."
   ]
  },
  {
   "cell_type": "markdown",
   "id": "0671a280",
   "metadata": {},
   "source": [
    "### 6.1. Treinando o modelo final com todos os dados\n",
    "\n",
    "Usa os melhores hiperparâmetros descobertos na Etapa 4."
   ]
  },
  {
   "cell_type": "code",
   "execution_count": 116,
   "id": "7bcabc96",
   "metadata": {},
   "outputs": [
    {
     "name": "stdout",
     "output_type": "stream",
     "text": [
      "Treinando Random Forest final em TODO o conjunto de treino…\n",
      "Treinamento concluído.\n"
     ]
    }
   ],
   "source": [
    "from sklearn.ensemble import RandomForestClassifier\n",
    "from sklearn.metrics import accuracy_score\n",
    "import joblib\n",
    "\n",
    "# melhores hiperparâmetros encontrados (copiados do rf_search.best_params_)\n",
    "best_params = {\n",
    "    'n_estimators':      700,\n",
    "    'max_depth':         5,\n",
    "    'min_samples_split': 4,\n",
    "    'min_samples_leaf':  2,\n",
    "    'max_features':      None,\n",
    "    'bootstrap':         True,\n",
    "    'criterion':         'gini'\n",
    "}\n",
    "\n",
    "# modelo final\n",
    "rf_final = RandomForestClassifier(\n",
    "    **best_params,\n",
    "    class_weight='balanced',\n",
    "    n_jobs=8,\n",
    "    random_state=42\n",
    ")\n",
    "\n",
    "print('Treinando Random Forest final em TODO o conjunto de treino…')\n",
    "rf_final.fit(X_train_prep, y_train)\n",
    "print('Treinamento concluído.')"
   ]
  },
  {
   "cell_type": "markdown",
   "id": "225d6a5d",
   "metadata": {},
   "source": [
    "### 6.2. Previsões no dataset de teste (`desafio.csv`)\n",
    "\n",
    "Cria o CSV `resultado_mateus_beppler_pereira.csv` no formato exigido."
   ]
  },
  {
   "cell_type": "code",
   "execution_count": 120,
   "id": "9cafdc7c",
   "metadata": {},
   "outputs": [
    {
     "name": "stdout",
     "output_type": "stream",
     "text": [
      "Arquivo **resultado_mateus_beppler_pereira.csv** salvo com 5000 linhas.\n",
      "                             id_cliente  churn\n",
      "0  f6337b09-c973-453d-b113-f1daa4213b0a      0\n",
      "1  1ecbc358-bda2-4e63-97ba-51fcec179785      0\n",
      "2  7bdd4b1d-c95c-409b-aabd-b857ee1795df      1\n",
      "3  ffa2dd54-558d-45cb-81fd-43be62752441      0\n",
      "4  e8b15be3-822c-4e7d-a9a8-e2aae6091630      0\n"
     ]
    }
   ],
   "source": [
    "# Probabilidades → classe (threshold padrão 0.5)\n",
    "y_pred_test = rf_final.predict(X_test_prep)\n",
    "\n",
    "df_submit = df_test[['id_cliente']].copy()\n",
    "df_submit['churn'] = y_pred_test\n",
    "\n",
    "csv_name = 'resultado_mateus_beppler_pereira.csv'\n",
    "df_submit.to_csv(csv_name, index=False)\n",
    "\n",
    "print(f'Arquivo **{csv_name}** salvo com {len(df_submit)} linhas.')\n",
    "print(df_submit.head())"
   ]
  },
  {
   "cell_type": "markdown",
   "id": "237784d9",
   "metadata": {},
   "source": [
    "### 6.3. Acurácia final do modelo no hold-out\n",
    "\n",
    "Usa o mesmo split `X_val` / `y_val` da Etapa 4 para referência."
   ]
  },
  {
   "cell_type": "code",
   "execution_count": 121,
   "id": "47664572",
   "metadata": {},
   "outputs": [
    {
     "name": "stdout",
     "output_type": "stream",
     "text": [
      "Acurácia final no hold-out: 0.7028\n"
     ]
    }
   ],
   "source": [
    "# Avaliação rápida para registrar métrica final\n",
    "y_pred_val = rf_final.predict(X_val)\n",
    "final_acc  = accuracy_score(y_val, y_pred_val)\n",
    "\n",
    "print('Acurácia final no hold-out:', round(final_acc, 4))"
   ]
  },
  {
   "cell_type": "markdown",
   "id": "ee5603da",
   "metadata": {},
   "source": [
    "### Conclusão\n",
    "\n",
    "* **CSV gerado:** `resultado_mateus_beppler_pereira.csv` (Id, churn) – pronto para submissão.  \n",
    "* **Modelo final:** RandomForest – Acurácia hold-out = **70%** "
   ]
  }
 ],
 "metadata": {
  "kernelspec": {
   "display_name": "Python 3",
   "language": "python",
   "name": "python3"
  },
  "language_info": {
   "codemirror_mode": {
    "name": "ipython",
    "version": 3
   },
   "file_extension": ".py",
   "mimetype": "text/x-python",
   "name": "python",
   "nbconvert_exporter": "python",
   "pygments_lexer": "ipython3",
   "version": "3.13.3"
  }
 },
 "nbformat": 4,
 "nbformat_minor": 5
}
